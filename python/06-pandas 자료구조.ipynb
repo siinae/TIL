{
 "cells": [
  {
   "cell_type": "markdown",
   "id": "91fbb766",
   "metadata": {},
   "source": [
    "# 문자열 처리 메서드"
   ]
  },
  {
   "cell_type": "markdown",
   "id": "9a519c05",
   "metadata": {},
   "source": [
    "### 1. 기본 메서드 : 벡터의 연산이 불가능(매 원소마다 반복이 불가능) "
   ]
  },
  {
   "cell_type": "code",
   "execution_count": 1,
   "id": "6927b79c",
   "metadata": {},
   "outputs": [
    {
     "data": {
      "text/plain": [
       "'ABC'"
      ]
     },
     "execution_count": 1,
     "metadata": {},
     "output_type": "execute_result"
    }
   ],
   "source": [
    "'abc'.upper()"
   ]
  },
  {
   "cell_type": "code",
   "execution_count": 2,
   "id": "bb251466",
   "metadata": {},
   "outputs": [
    {
     "data": {
      "text/plain": [
       "'b'"
      ]
     },
     "execution_count": 2,
     "metadata": {},
     "output_type": "execute_result"
    }
   ],
   "source": [
    "'a/b/c'.split('/')[1]"
   ]
  },
  {
   "cell_type": "code",
   "execution_count": 4,
   "id": "ad5742bb",
   "metadata": {},
   "outputs": [
    {
     "ename": "AttributeError",
     "evalue": "'list' object has no attribute 'upper'",
     "output_type": "error",
     "traceback": [
      "\u001b[1;31m---------------------------------------------------------------------------\u001b[0m",
      "\u001b[1;31mAttributeError\u001b[0m                            Traceback (most recent call last)",
      "\u001b[1;32m<ipython-input-4-ce2df2aff88d>\u001b[0m in \u001b[0;36m<module>\u001b[1;34m\u001b[0m\n\u001b[0;32m      2\u001b[0m \u001b[0ml2\u001b[0m \u001b[1;33m=\u001b[0m \u001b[1;33m[\u001b[0m\u001b[1;34m'a/b/c'\u001b[0m\u001b[1;33m,\u001b[0m\u001b[1;34m'd/e/f'\u001b[0m\u001b[1;33m]\u001b[0m\u001b[1;33m\u001b[0m\u001b[1;33m\u001b[0m\u001b[0m\n\u001b[0;32m      3\u001b[0m \u001b[1;33m\u001b[0m\u001b[0m\n\u001b[1;32m----> 4\u001b[1;33m \u001b[0ml1\u001b[0m\u001b[1;33m.\u001b[0m\u001b[0mupper\u001b[0m\u001b[1;33m(\u001b[0m\u001b[1;33m)\u001b[0m \u001b[1;31m#불가능\u001b[0m\u001b[1;33m\u001b[0m\u001b[1;33m\u001b[0m\u001b[0m\n\u001b[0m\u001b[0;32m      5\u001b[0m \u001b[0ml2\u001b[0m\u001b[1;33m.\u001b[0m\u001b[0msplit\u001b[0m\u001b[1;33m(\u001b[0m\u001b[1;34m'/'\u001b[0m\u001b[1;33m)\u001b[0m \u001b[1;31m#불가능\u001b[0m\u001b[1;33m\u001b[0m\u001b[1;33m\u001b[0m\u001b[0m\n",
      "\u001b[1;31mAttributeError\u001b[0m: 'list' object has no attribute 'upper'"
     ]
    }
   ],
   "source": [
    "l1 = ['abc','def']\n",
    "l2 = ['a/b/c','d/e/f']\n",
    "\n",
    "l1.upper() #불가능\n",
    "l2.split('/') #불가능"
   ]
  },
  {
   "cell_type": "markdown",
   "id": "99ba80c6",
   "metadata": {},
   "source": [
    "map을 이용하여 벡터연산 가능"
   ]
  },
  {
   "cell_type": "code",
   "execution_count": 5,
   "id": "6ceea5c6",
   "metadata": {},
   "outputs": [
    {
     "data": {
      "text/plain": [
       "['ABC', 'DEF']"
      ]
     },
     "execution_count": 5,
     "metadata": {},
     "output_type": "execute_result"
    }
   ],
   "source": [
    "list(map(lambda x: x.upper(),l1))"
   ]
  },
  {
   "cell_type": "code",
   "execution_count": 7,
   "id": "f0bcf19a",
   "metadata": {},
   "outputs": [
    {
     "data": {
      "text/plain": [
       "[['a', 'b', 'c'], ['d', 'e', 'f']]"
      ]
     },
     "execution_count": 7,
     "metadata": {},
     "output_type": "execute_result"
    }
   ],
   "source": [
    "list(map(lambda x: x.split('/'),l2))"
   ]
  },
  {
   "cell_type": "code",
   "execution_count": 8,
   "id": "01c6d1c1",
   "metadata": {},
   "outputs": [
    {
     "data": {
      "text/plain": [
       "['b', 'e']"
      ]
     },
     "execution_count": 8,
     "metadata": {},
     "output_type": "execute_result"
    }
   ],
   "source": [
    "list(map(lambda x: x.split('/')[1],l2))"
   ]
  },
  {
   "cell_type": "code",
   "execution_count": 9,
   "id": "918e0535",
   "metadata": {},
   "outputs": [
    {
     "ename": "IndexError",
     "evalue": "list index out of range",
     "output_type": "error",
     "traceback": [
      "\u001b[1;31m---------------------------------------------------------------------------\u001b[0m",
      "\u001b[1;31mIndexError\u001b[0m                                Traceback (most recent call last)",
      "\u001b[1;32m<ipython-input-9-825ea172dac1>\u001b[0m in \u001b[0;36m<module>\u001b[1;34m\u001b[0m\n\u001b[1;32m----> 1\u001b[1;33m \u001b[0mlist\u001b[0m\u001b[1;33m(\u001b[0m\u001b[0mmap\u001b[0m\u001b[1;33m(\u001b[0m\u001b[1;32mlambda\u001b[0m \u001b[0mx\u001b[0m\u001b[1;33m:\u001b[0m \u001b[0mx\u001b[0m\u001b[1;33m.\u001b[0m\u001b[0msplit\u001b[0m\u001b[1;33m(\u001b[0m\u001b[1;34m'/'\u001b[0m\u001b[1;33m)\u001b[0m\u001b[1;33m[\u001b[0m\u001b[1;36m1\u001b[0m\u001b[1;33m]\u001b[0m\u001b[1;33m,\u001b[0m\u001b[1;34m'2'\u001b[0m\u001b[1;33m)\u001b[0m\u001b[1;33m)\u001b[0m\u001b[1;33m\u001b[0m\u001b[1;33m\u001b[0m\u001b[0m\n\u001b[0m",
      "\u001b[1;32m<ipython-input-9-825ea172dac1>\u001b[0m in \u001b[0;36m<lambda>\u001b[1;34m(x)\u001b[0m\n\u001b[1;32m----> 1\u001b[1;33m \u001b[0mlist\u001b[0m\u001b[1;33m(\u001b[0m\u001b[0mmap\u001b[0m\u001b[1;33m(\u001b[0m\u001b[1;32mlambda\u001b[0m \u001b[0mx\u001b[0m\u001b[1;33m:\u001b[0m \u001b[0mx\u001b[0m\u001b[1;33m.\u001b[0m\u001b[0msplit\u001b[0m\u001b[1;33m(\u001b[0m\u001b[1;34m'/'\u001b[0m\u001b[1;33m)\u001b[0m\u001b[1;33m[\u001b[0m\u001b[1;36m1\u001b[0m\u001b[1;33m]\u001b[0m\u001b[1;33m,\u001b[0m\u001b[1;34m'2'\u001b[0m\u001b[1;33m)\u001b[0m\u001b[1;33m)\u001b[0m\u001b[1;33m\u001b[0m\u001b[1;33m\u001b[0m\u001b[0m\n\u001b[0m",
      "\u001b[1;31mIndexError\u001b[0m: list index out of range"
     ]
    }
   ],
   "source": [
    "list(map(lambda x: x.split('/')[1],'2')) #불가능"
   ]
  },
  {
   "cell_type": "markdown",
   "id": "887fd7ae",
   "metadata": {},
   "source": [
    "### 2. pandas 메서드 : 벡터화가 내장 되어 있어 매 원소마다 반복이 가능"
   ]
  },
  {
   "cell_type": "markdown",
   "id": "d81ce70b",
   "metadata": {},
   "source": [
    "#### split"
   ]
  },
  {
   "cell_type": "code",
   "execution_count": 11,
   "id": "e4cea32f",
   "metadata": {},
   "outputs": [],
   "source": [
    "from pandas import Series, DataFrame"
   ]
  },
  {
   "cell_type": "code",
   "execution_count": 12,
   "id": "3d923f48",
   "metadata": {},
   "outputs": [
    {
     "data": {
      "text/plain": [
       "['abc', 'def']"
      ]
     },
     "execution_count": 12,
     "metadata": {},
     "output_type": "execute_result"
    }
   ],
   "source": [
    "l1"
   ]
  },
  {
   "cell_type": "code",
   "execution_count": 13,
   "id": "7aa34d1c",
   "metadata": {},
   "outputs": [
    {
     "data": {
      "text/plain": [
       "0    abc\n",
       "1    def\n",
       "dtype: object"
      ]
     },
     "execution_count": 13,
     "metadata": {},
     "output_type": "execute_result"
    }
   ],
   "source": [
    "Series(l1)"
   ]
  },
  {
   "cell_type": "code",
   "execution_count": 14,
   "id": "f614057d",
   "metadata": {},
   "outputs": [],
   "source": [
    "s1 = Series(l1)"
   ]
  },
  {
   "cell_type": "code",
   "execution_count": 15,
   "id": "7dc1fee9",
   "metadata": {},
   "outputs": [],
   "source": [
    "s2 = Series(l2)"
   ]
  },
  {
   "cell_type": "code",
   "execution_count": 17,
   "id": "7a0daaeb",
   "metadata": {},
   "outputs": [
    {
     "data": {
      "text/plain": [
       "0    [a, b, c]\n",
       "1    [d, e, f]\n",
       "dtype: object"
      ]
     },
     "execution_count": 17,
     "metadata": {},
     "output_type": "execute_result"
    }
   ],
   "source": [
    "s2.str.split('/')"
   ]
  },
  {
   "cell_type": "markdown",
   "id": "3798de89",
   "metadata": {},
   "source": [
    "#### 대소치환"
   ]
  },
  {
   "cell_type": "code",
   "execution_count": 18,
   "id": "ef19f4ba",
   "metadata": {},
   "outputs": [
    {
     "data": {
      "text/plain": [
       "0    abc\n",
       "1    def\n",
       "dtype: object"
      ]
     },
     "execution_count": 18,
     "metadata": {},
     "output_type": "execute_result"
    }
   ],
   "source": [
    "s1"
   ]
  },
  {
   "cell_type": "code",
   "execution_count": 19,
   "id": "9379f877",
   "metadata": {},
   "outputs": [
    {
     "data": {
      "text/plain": [
       "0    ABC\n",
       "1    DEF\n",
       "dtype: object"
      ]
     },
     "execution_count": 19,
     "metadata": {},
     "output_type": "execute_result"
    }
   ],
   "source": [
    "s1.str.upper()"
   ]
  },
  {
   "cell_type": "code",
   "execution_count": 20,
   "id": "719518bb",
   "metadata": {},
   "outputs": [
    {
     "data": {
      "text/plain": [
       "0    Abc\n",
       "1    Def\n",
       "dtype: object"
      ]
     },
     "execution_count": 20,
     "metadata": {},
     "output_type": "execute_result"
    }
   ],
   "source": [
    "s1.str.title()"
   ]
  },
  {
   "cell_type": "markdown",
   "id": "33c91a22",
   "metadata": {},
   "source": [
    "#### replace"
   ]
  },
  {
   "cell_type": "code",
   "execution_count": 21,
   "id": "e8e06bd2",
   "metadata": {},
   "outputs": [
    {
     "data": {
      "text/plain": [
       "0    Abc\n",
       "1    def\n",
       "dtype: object"
      ]
     },
     "execution_count": 21,
     "metadata": {},
     "output_type": "execute_result"
    }
   ],
   "source": [
    "s1.str.replace('a','A')"
   ]
  },
  {
   "cell_type": "code",
   "execution_count": 22,
   "id": "87e4dd5a",
   "metadata": {},
   "outputs": [
    {
     "data": {
      "text/plain": [
       "0     bc\n",
       "1    def\n",
       "dtype: object"
      ]
     },
     "execution_count": 22,
     "metadata": {},
     "output_type": "execute_result"
    }
   ],
   "source": [
    "s1.str.replace('a','')"
   ]
  },
  {
   "cell_type": "markdown",
   "id": "17dc13b1",
   "metadata": {},
   "source": [
    "천단위 구분기호 처리 후 합계 구하기"
   ]
  },
  {
   "cell_type": "code",
   "execution_count": 23,
   "id": "3ba628f4",
   "metadata": {},
   "outputs": [
    {
     "data": {
      "text/plain": [
       "'1,2003,0004,000'"
      ]
     },
     "execution_count": 23,
     "metadata": {},
     "output_type": "execute_result"
    }
   ],
   "source": [
    "# 천단위 구분기호 제거\n",
    "s3 = Series(['1,200','3,000','4,000'])\n",
    "s3.sum() "
   ]
  },
  {
   "cell_type": "code",
   "execution_count": 25,
   "id": "5146420a",
   "metadata": {},
   "outputs": [
    {
     "data": {
      "text/plain": [
       "8200"
      ]
     },
     "execution_count": 25,
     "metadata": {},
     "output_type": "execute_result"
    }
   ],
   "source": [
    "# 문자로 입력되어있어 구분기호(',') 기준으로 나누어진 결합 상태로 인식\n",
    "# sol 1) 구분기호 제거 후, sum \n",
    "s3.str.replace(',','').astype('int').sum()"
   ]
  },
  {
   "cell_type": "code",
   "execution_count": 26,
   "id": "f7ff9398",
   "metadata": {},
   "outputs": [
    {
     "data": {
      "text/plain": [
       "8200"
      ]
     },
     "execution_count": 26,
     "metadata": {},
     "output_type": "execute_result"
    }
   ],
   "source": [
    "# sol 2)\n",
    "s3 = s3.str.replace(',','')\n",
    "sum(list(map(lambda x: int(x),s3)))"
   ]
  },
  {
   "cell_type": "markdown",
   "id": "ac93f184",
   "metadata": {},
   "source": [
    "#### 패턴확인 메서드 : startswith, endswith, contains"
   ]
  },
  {
   "cell_type": "code",
   "execution_count": 27,
   "id": "c10fb33c",
   "metadata": {},
   "outputs": [
    {
     "data": {
      "text/plain": [
       "0     True\n",
       "1    False\n",
       "dtype: bool"
      ]
     },
     "execution_count": 27,
     "metadata": {},
     "output_type": "execute_result"
    }
   ],
   "source": [
    "s1.str.startswith('a')"
   ]
  },
  {
   "cell_type": "code",
   "execution_count": 28,
   "id": "b25fb00f",
   "metadata": {},
   "outputs": [
    {
     "data": {
      "text/plain": [
       "0    abc\n",
       "dtype: object"
      ]
     },
     "execution_count": 28,
     "metadata": {},
     "output_type": "execute_result"
    }
   ],
   "source": [
    "s1[s1.str.startswith('a')] #s1의 각 원소 중 'a'로 시작하는 원소 추출"
   ]
  },
  {
   "cell_type": "code",
   "execution_count": 29,
   "id": "23eb14d5",
   "metadata": {},
   "outputs": [
    {
     "data": {
      "text/plain": [
       "0    abc\n",
       "dtype: object"
      ]
     },
     "execution_count": 29,
     "metadata": {},
     "output_type": "execute_result"
    }
   ],
   "source": [
    "s1[s1.str.endswith('c')] #s1의 각 원소 중 'c'로 끝나는 원소 추출"
   ]
  },
  {
   "cell_type": "code",
   "execution_count": 30,
   "id": "a1ae682e",
   "metadata": {},
   "outputs": [
    {
     "data": {
      "text/plain": [
       "1    def\n",
       "dtype: object"
      ]
     },
     "execution_count": 30,
     "metadata": {},
     "output_type": "execute_result"
    }
   ],
   "source": [
    "s1[s1.str.contains('e')] #s1의 각 원소 중 'e'를 포함하는 원소 추출"
   ]
  },
  {
   "cell_type": "markdown",
   "id": "23bba712",
   "metadata": {},
   "source": [
    "#### 문자열 크기(len)"
   ]
  },
  {
   "cell_type": "code",
   "execution_count": 31,
   "id": "d635514d",
   "metadata": {},
   "outputs": [
    {
     "data": {
      "text/plain": [
       "0    3\n",
       "1    3\n",
       "dtype: int64"
      ]
     },
     "execution_count": 31,
     "metadata": {},
     "output_type": "execute_result"
    }
   ],
   "source": [
    "s1.str.len()"
   ]
  },
  {
   "cell_type": "markdown",
   "id": "e82d70cf",
   "metadata": {},
   "source": [
    "#### 포함 개수 세기(count)"
   ]
  },
  {
   "cell_type": "code",
   "execution_count": 32,
   "id": "fa1fe046",
   "metadata": {},
   "outputs": [
    {
     "data": {
      "text/plain": [
       "0    2\n",
       "1    2\n",
       "dtype: int64"
      ]
     },
     "execution_count": 32,
     "metadata": {},
     "output_type": "execute_result"
    }
   ],
   "source": [
    "Series(['aabbbb','abcdadd']).str.count('a')"
   ]
  },
  {
   "cell_type": "markdown",
   "id": "acfddac9",
   "metadata": {},
   "source": [
    "#### 문자 or 공백 제거 (strip)"
   ]
  },
  {
   "cell_type": "code",
   "execution_count": 33,
   "id": "8deec576",
   "metadata": {},
   "outputs": [
    {
     "data": {
      "text/plain": [
       "0    cd\n",
       "1    df\n",
       "dtype: object"
      ]
     },
     "execution_count": 33,
     "metadata": {},
     "output_type": "execute_result"
    }
   ],
   "source": [
    "Series(['     cd     ', '            df      ']).str.strip()"
   ]
  },
  {
   "cell_type": "code",
   "execution_count": 35,
   "id": "03aa84e6",
   "metadata": {},
   "outputs": [
    {
     "data": {
      "text/plain": [
       "0    2\n",
       "1    2\n",
       "dtype: int64"
      ]
     },
     "execution_count": 35,
     "metadata": {},
     "output_type": "execute_result"
    }
   ],
   "source": [
    "Series(['     cd     ', '            df      ']).str.strip().str.len()"
   ]
  },
  {
   "cell_type": "code",
   "execution_count": 37,
   "id": "d30249bc",
   "metadata": {},
   "outputs": [
    {
     "data": {
      "text/plain": [
       "0    baaabcd\n",
       "1        bcd\n",
       "dtype: object"
      ]
     },
     "execution_count": 37,
     "metadata": {},
     "output_type": "execute_result"
    }
   ],
   "source": [
    "Series(['aaabaaabcd','abcdaa']).str.strip('a') \n",
    "#중간에 위치한 문자는 삭제 불가능"
   ]
  },
  {
   "cell_type": "code",
   "execution_count": 38,
   "id": "4aec62d5",
   "metadata": {},
   "outputs": [
    {
     "data": {
      "text/plain": [
       "0    bbcd\n",
       "1     bcd\n",
       "dtype: object"
      ]
     },
     "execution_count": 38,
     "metadata": {},
     "output_type": "execute_result"
    }
   ],
   "source": [
    "# replace 로 해결\n",
    "Series(['aaabaaabcd','abcdaa']).str.replace('a','')"
   ]
  },
  {
   "cell_type": "markdown",
   "id": "e39cf78b",
   "metadata": {},
   "source": [
    "#### 위치값 리턴(find)"
   ]
  },
  {
   "cell_type": "code",
   "execution_count": 39,
   "id": "a3a5596b",
   "metadata": {},
   "outputs": [
    {
     "data": {
      "text/plain": [
       "0    5\n",
       "1    5\n",
       "dtype: int64"
      ]
     },
     "execution_count": 39,
     "metadata": {},
     "output_type": "execute_result"
    }
   ],
   "source": [
    "s3 = Series(['sinae@python.kr','abcde@fghj.com'])\n",
    "s3.str.find('@')"
   ]
  },
  {
   "cell_type": "code",
   "execution_count": 40,
   "id": "87b2badb",
   "metadata": {},
   "outputs": [],
   "source": [
    "# 이메일 아이디 추출\n",
    "s4 = Series(['sinae@naver.com','bus@driver.kr'])\n",
    "a = s4.str.find('@')"
   ]
  },
  {
   "cell_type": "code",
   "execution_count": 41,
   "id": "78d0d218",
   "metadata": {},
   "outputs": [
    {
     "data": {
      "text/plain": [
       "['sinae', 'bus']"
      ]
     },
     "execution_count": 41,
     "metadata": {},
     "output_type": "execute_result"
    }
   ],
   "source": [
    "# sol 1\n",
    "list(map(lambda x,y : x[0:y], s4, a))"
   ]
  },
  {
   "cell_type": "code",
   "execution_count": 42,
   "id": "61e39c48",
   "metadata": {},
   "outputs": [
    {
     "data": {
      "text/plain": [
       "0    sinae\n",
       "1      bus\n",
       "dtype: object"
      ]
     },
     "execution_count": 42,
     "metadata": {},
     "output_type": "execute_result"
    }
   ],
   "source": [
    "# sol 2\n",
    "s4.map(lambda x: x[:x.find('@')])  "
   ]
  },
  {
   "cell_type": "markdown",
   "id": "3fe20699",
   "metadata": {},
   "source": [
    "#### 문자열 삽입(pad)"
   ]
  },
  {
   "cell_type": "markdown",
   "id": "10bacd5e",
   "metadata": {},
   "source": [
    "- s1.str.pad(총 자리수, 삽입 방향, 삽입 글자)"
   ]
  },
  {
   "cell_type": "code",
   "execution_count": 43,
   "id": "81a237d0",
   "metadata": {},
   "outputs": [
    {
     "data": {
      "text/plain": [
       "0    !!abc\n",
       "1    !!def\n",
       "dtype: object"
      ]
     },
     "execution_count": 43,
     "metadata": {},
     "output_type": "execute_result"
    }
   ],
   "source": [
    "s1.str.pad(5,'left','!')"
   ]
  },
  {
   "cell_type": "code",
   "execution_count": 44,
   "id": "8816e2b4",
   "metadata": {},
   "outputs": [
    {
     "data": {
      "text/plain": [
       "0    abc!!\n",
       "1    def!!\n",
       "dtype: object"
      ]
     },
     "execution_count": 44,
     "metadata": {},
     "output_type": "execute_result"
    }
   ],
   "source": [
    "s1.str.pad(5,'right', '!')"
   ]
  },
  {
   "cell_type": "code",
   "execution_count": 45,
   "id": "25c4cca2",
   "metadata": {},
   "outputs": [
    {
     "ename": "TypeError",
     "evalue": "pad() missing 1 required positional argument: 'width'",
     "output_type": "error",
     "traceback": [
      "\u001b[1;31m---------------------------------------------------------------------------\u001b[0m",
      "\u001b[1;31mTypeError\u001b[0m                                 Traceback (most recent call last)",
      "\u001b[1;32m<ipython-input-45-f80ee045ca42>\u001b[0m in \u001b[0;36m<module>\u001b[1;34m\u001b[0m\n\u001b[1;32m----> 1\u001b[1;33m \u001b[0ms1\u001b[0m\u001b[1;33m.\u001b[0m\u001b[0mstr\u001b[0m\u001b[1;33m.\u001b[0m\u001b[0mpad\u001b[0m\u001b[1;33m(\u001b[0m\u001b[1;33m)\u001b[0m\u001b[1;33m\u001b[0m\u001b[1;33m\u001b[0m\u001b[0m\n\u001b[0m",
      "\u001b[1;32m~\\AppData\\Roaming\\Python\\Python38\\site-packages\\pandas\\core\\strings\\accessor.py\u001b[0m in \u001b[0;36mwrapper\u001b[1;34m(self, *args, **kwargs)\u001b[0m\n\u001b[0;32m    114\u001b[0m                 )\n\u001b[0;32m    115\u001b[0m                 \u001b[1;32mraise\u001b[0m \u001b[0mTypeError\u001b[0m\u001b[1;33m(\u001b[0m\u001b[0mmsg\u001b[0m\u001b[1;33m)\u001b[0m\u001b[1;33m\u001b[0m\u001b[1;33m\u001b[0m\u001b[0m\n\u001b[1;32m--> 116\u001b[1;33m             \u001b[1;32mreturn\u001b[0m \u001b[0mfunc\u001b[0m\u001b[1;33m(\u001b[0m\u001b[0mself\u001b[0m\u001b[1;33m,\u001b[0m \u001b[1;33m*\u001b[0m\u001b[0margs\u001b[0m\u001b[1;33m,\u001b[0m \u001b[1;33m**\u001b[0m\u001b[0mkwargs\u001b[0m\u001b[1;33m)\u001b[0m\u001b[1;33m\u001b[0m\u001b[1;33m\u001b[0m\u001b[0m\n\u001b[0m\u001b[0;32m    117\u001b[0m \u001b[1;33m\u001b[0m\u001b[0m\n\u001b[0;32m    118\u001b[0m         \u001b[0mwrapper\u001b[0m\u001b[1;33m.\u001b[0m\u001b[0m__name__\u001b[0m \u001b[1;33m=\u001b[0m \u001b[0mfunc_name\u001b[0m\u001b[1;33m\u001b[0m\u001b[1;33m\u001b[0m\u001b[0m\n",
      "\u001b[1;31mTypeError\u001b[0m: pad() missing 1 required positional argument: 'width'"
     ]
    }
   ],
   "source": [
    "s1.str.pad()"
   ]
  },
  {
   "cell_type": "markdown",
   "id": "8e1f4f92",
   "metadata": {},
   "source": [
    "#### 문자열 결합(cat,join)"
   ]
  },
  {
   "cell_type": "markdown",
   "id": "b7d393b7",
   "metadata": {},
   "source": [
    "- cat"
   ]
  },
  {
   "cell_type": "code",
   "execution_count": 48,
   "id": "d8b7d2db",
   "metadata": {},
   "outputs": [
    {
     "data": {
      "text/plain": [
       "'abcdef123'"
      ]
     },
     "execution_count": 48,
     "metadata": {},
     "output_type": "execute_result"
    }
   ],
   "source": [
    "s4 = Series(['abc','def','123'])\n",
    "s4.str.cat()"
   ]
  },
  {
   "cell_type": "code",
   "execution_count": 49,
   "id": "2f58406b",
   "metadata": {},
   "outputs": [
    {
     "data": {
      "text/plain": [
       "'abc/def/123'"
      ]
     },
     "execution_count": 49,
     "metadata": {},
     "output_type": "execute_result"
    }
   ],
   "source": [
    "s4.str.cat(sep='/')"
   ]
  },
  {
   "cell_type": "markdown",
   "id": "c38a0aef",
   "metadata": {},
   "source": [
    "- join"
   ]
  },
  {
   "cell_type": "code",
   "execution_count": 50,
   "id": "7a34d47f",
   "metadata": {},
   "outputs": [
    {
     "data": {
      "text/plain": [
       "0    abc\n",
       "1    def\n",
       "dtype: object"
      ]
     },
     "execution_count": 50,
     "metadata": {},
     "output_type": "execute_result"
    }
   ],
   "source": [
    "s5 = Series([['a','b','c'],['d','e','f']])\n",
    "s5.str.join(sep='')"
   ]
  },
  {
   "cell_type": "code",
   "execution_count": 51,
   "id": "5feb496e",
   "metadata": {},
   "outputs": [
    {
     "data": {
      "text/plain": [
       "0    a,b,c\n",
       "1    d,e,f\n",
       "dtype: object"
      ]
     },
     "execution_count": 51,
     "metadata": {},
     "output_type": "execute_result"
    }
   ],
   "source": [
    "s5.str.join(sep=',') "
   ]
  }
 ],
 "metadata": {
  "kernelspec": {
   "display_name": "Python 3",
   "language": "python",
   "name": "python3"
  },
  "language_info": {
   "codemirror_mode": {
    "name": "ipython",
    "version": 3
   },
   "file_extension": ".py",
   "mimetype": "text/x-python",
   "name": "python",
   "nbconvert_exporter": "python",
   "pygments_lexer": "ipython3",
   "version": "3.8.8"
  }
 },
 "nbformat": 4,
 "nbformat_minor": 5
}
