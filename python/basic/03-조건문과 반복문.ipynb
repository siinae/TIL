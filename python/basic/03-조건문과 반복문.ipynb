{
 "cells": [
  {
   "cell_type": "markdown",
   "id": "2f1a73e0",
   "metadata": {},
   "source": [
    "### 논리연산자"
   ]
  },
  {
   "cell_type": "code",
   "execution_count": 1,
   "id": "2654e52f",
   "metadata": {},
   "outputs": [],
   "source": [
    "v1 = 1"
   ]
  },
  {
   "cell_type": "code",
   "execution_count": 2,
   "id": "2cb563de",
   "metadata": {},
   "outputs": [
    {
     "data": {
      "text/plain": [
       "False"
      ]
     },
     "execution_count": 2,
     "metadata": {},
     "output_type": "execute_result"
    }
   ],
   "source": [
    "(v1 >= 3) and (v1 <= 7)"
   ]
  },
  {
   "cell_type": "code",
   "execution_count": 3,
   "id": "8f04f634",
   "metadata": {},
   "outputs": [
    {
     "data": {
      "text/plain": [
       "True"
      ]
     },
     "execution_count": 3,
     "metadata": {},
     "output_type": "execute_result"
    }
   ],
   "source": [
    "(v1 >= 3) or (v1 <= 7)"
   ]
  },
  {
   "cell_type": "code",
   "execution_count": 4,
   "id": "3e4a6adc",
   "metadata": {},
   "outputs": [
    {
     "data": {
      "text/plain": [
       "False"
      ]
     },
     "execution_count": 4,
     "metadata": {},
     "output_type": "execute_result"
    }
   ],
   "source": [
    "not(v1 == 1)"
   ]
  },
  {
   "cell_type": "markdown",
   "id": "08606d2a",
   "metadata": {},
   "source": [
    "### 조건문 if"
   ]
  },
  {
   "cell_type": "code",
   "execution_count": 5,
   "id": "4421c53a",
   "metadata": {},
   "outputs": [
    {
     "name": "stdout",
     "output_type": "stream",
     "text": [
      "B\n"
     ]
    }
   ],
   "source": [
    "v1 = 5\n",
    "if v1 > 6:\n",
    "    print('A')\n",
    "else:\n",
    "    print('B')"
   ]
  },
  {
   "cell_type": "code",
   "execution_count": 7,
   "id": "c1c25556",
   "metadata": {},
   "outputs": [
    {
     "ename": "TypeError",
     "evalue": "'>' not supported between instances of 'list' and 'int'",
     "output_type": "error",
     "traceback": [
      "\u001b[1;31m---------------------------------------------------------------------------\u001b[0m",
      "\u001b[1;31mTypeError\u001b[0m                                 Traceback (most recent call last)",
      "\u001b[1;32m<ipython-input-7-a95d6acc4c99>\u001b[0m in \u001b[0;36m<module>\u001b[1;34m\u001b[0m\n\u001b[0;32m      1\u001b[0m \u001b[1;31m# 리스트는 불가능\u001b[0m\u001b[1;33m\u001b[0m\u001b[1;33m\u001b[0m\u001b[1;33m\u001b[0m\u001b[0m\n\u001b[0;32m      2\u001b[0m \u001b[0ml1\u001b[0m \u001b[1;33m=\u001b[0m \u001b[1;33m[\u001b[0m\u001b[1;36m1\u001b[0m\u001b[1;33m,\u001b[0m\u001b[1;36m2\u001b[0m\u001b[1;33m,\u001b[0m\u001b[1;36m3\u001b[0m\u001b[1;33m,\u001b[0m\u001b[1;36m4\u001b[0m\u001b[1;33m,\u001b[0m\u001b[1;36m5\u001b[0m\u001b[1;33m]\u001b[0m\u001b[1;33m\u001b[0m\u001b[1;33m\u001b[0m\u001b[0m\n\u001b[1;32m----> 3\u001b[1;33m \u001b[1;32mif\u001b[0m \u001b[0ml1\u001b[0m \u001b[1;33m>\u001b[0m \u001b[1;36m5\u001b[0m\u001b[1;33m:\u001b[0m\u001b[1;33m\u001b[0m\u001b[1;33m\u001b[0m\u001b[0m\n\u001b[0m\u001b[0;32m      4\u001b[0m     \u001b[0mprint\u001b[0m\u001b[1;33m(\u001b[0m\u001b[1;34m'A'\u001b[0m\u001b[1;33m)\u001b[0m\u001b[1;33m\u001b[0m\u001b[1;33m\u001b[0m\u001b[0m\n\u001b[0;32m      5\u001b[0m \u001b[1;32melse\u001b[0m\u001b[1;33m:\u001b[0m\u001b[1;33m\u001b[0m\u001b[1;33m\u001b[0m\u001b[0m\n",
      "\u001b[1;31mTypeError\u001b[0m: '>' not supported between instances of 'list' and 'int'"
     ]
    }
   ],
   "source": [
    "# 리스트는 불가능\n",
    "l1 = [1,2,3,4,5]\n",
    "if l1 > 5:\n",
    "    print('A')\n",
    "else:\n",
    "    print('B')"
   ]
  },
  {
   "cell_type": "markdown",
   "id": "86a0da57",
   "metadata": {},
   "source": [
    "### 반복문 \n",
    "- 객체의 각 원소에 동일한 연산처리를 진행하는 경우에 사용"
   ]
  },
  {
   "cell_type": "markdown",
   "id": "76d93ed5",
   "metadata": {},
   "source": [
    "1) for 문: 정해진 횟수, 대상이 있는 경우"
   ]
  },
  {
   "cell_type": "code",
   "execution_count": 9,
   "id": "8755cf34",
   "metadata": {},
   "outputs": [
    {
     "name": "stdout",
     "output_type": "stream",
     "text": [
      "1\n",
      "2\n",
      "3\n",
      "4\n",
      "5\n",
      "6\n",
      "7\n",
      "8\n",
      "9\n",
      "10\n"
     ]
    }
   ],
   "source": [
    "for i in range(1,11):\n",
    "    print(i)"
   ]
  },
  {
   "cell_type": "code",
   "execution_count": 10,
   "id": "415fdc38",
   "metadata": {},
   "outputs": [
    {
     "name": "stdout",
     "output_type": "stream",
     "text": [
      "B\n",
      "B\n",
      "B\n",
      "A\n",
      "A\n"
     ]
    }
   ],
   "source": [
    "l1 = [1,3,5,15,25]\n",
    "for i in l1:\n",
    "    if i > 5:\n",
    "        print('A')\n",
    "    else:\n",
    "        print('B')"
   ]
  },
  {
   "cell_type": "code",
   "execution_count": 11,
   "id": "1cb22c50",
   "metadata": {},
   "outputs": [
    {
     "ename": "TypeError",
     "evalue": "can only concatenate list (not \"int\") to list",
     "output_type": "error",
     "traceback": [
      "\u001b[1;31m---------------------------------------------------------------------------\u001b[0m",
      "\u001b[1;31mTypeError\u001b[0m                                 Traceback (most recent call last)",
      "\u001b[1;32m<ipython-input-11-dd9c80f66405>\u001b[0m in \u001b[0;36m<module>\u001b[1;34m\u001b[0m\n\u001b[1;32m----> 1\u001b[1;33m \u001b[0ml1\u001b[0m \u001b[1;33m+\u001b[0m \u001b[1;36m10\u001b[0m\u001b[1;33m\u001b[0m\u001b[1;33m\u001b[0m\u001b[0m\n\u001b[0m",
      "\u001b[1;31mTypeError\u001b[0m: can only concatenate list (not \"int\") to list"
     ]
    }
   ],
   "source": [
    "l1 + 10 #정수와 리스트 연산 불가능"
   ]
  },
  {
   "cell_type": "code",
   "execution_count": 12,
   "id": "3ec92c36",
   "metadata": {},
   "outputs": [
    {
     "name": "stdout",
     "output_type": "stream",
     "text": [
      "11\n",
      "13\n",
      "15\n",
      "25\n",
      "35\n"
     ]
    }
   ],
   "source": [
    "for i in l1:\n",
    "    print(i+10)"
   ]
  },
  {
   "cell_type": "code",
   "execution_count": 13,
   "id": "0f4e54c7",
   "metadata": {},
   "outputs": [
    {
     "ename": "SyntaxError",
     "evalue": "invalid syntax (<ipython-input-13-ab82d70cb818>, line 1)",
     "output_type": "error",
     "traceback": [
      "\u001b[1;36m  File \u001b[1;32m\"<ipython-input-13-ab82d70cb818>\"\u001b[1;36m, line \u001b[1;32m1\u001b[0m\n\u001b[1;33m    l1 = for i in l1:\u001b[0m\n\u001b[1;37m         ^\u001b[0m\n\u001b[1;31mSyntaxError\u001b[0m\u001b[1;31m:\u001b[0m invalid syntax\n"
     ]
    }
   ],
   "source": [
    "# for 문의 결과를 바로 변수로 저장하는 것은 불가능\n",
    "l1 = for i in l1:\n",
    "    print(i+10)"
   ]
  },
  {
   "cell_type": "code",
   "execution_count": 15,
   "id": "6978fc2a",
   "metadata": {},
   "outputs": [
    {
     "name": "stdout",
     "output_type": "stream",
     "text": [
      "[11, 13, 15, 25, 35]\n"
     ]
    }
   ],
   "source": [
    "#방법은?\n",
    "l2 = []\n",
    "for i in l1:\n",
    "    l2.append(i+10)\n",
    "print(l2)"
   ]
  },
  {
   "cell_type": "markdown",
   "id": "363f9059",
   "metadata": {},
   "source": [
    "2) while문: 조건에 따른 반복을 실행하는 경우"
   ]
  },
  {
   "cell_type": "code",
   "execution_count": 16,
   "id": "e59ba1fc",
   "metadata": {},
   "outputs": [
    {
     "name": "stdout",
     "output_type": "stream",
     "text": [
      "1\n",
      "2\n",
      "3\n",
      "4\n",
      "5\n",
      "6\n",
      "7\n",
      "8\n",
      "9\n",
      "10\n"
     ]
    }
   ],
   "source": [
    "i = 1\n",
    "while i <= 10:\n",
    "    print(i)\n",
    "    i = i + 1"
   ]
  },
  {
   "cell_type": "code",
   "execution_count": 26,
   "id": "d852ba07",
   "metadata": {},
   "outputs": [
    {
     "name": "stdout",
     "output_type": "stream",
     "text": [
      "5050\n"
     ]
    }
   ],
   "source": [
    "#1~100 총합\n",
    "asum = 0\n",
    "for i in range(1,101):\n",
    "    asum = asum + i\n",
    "print(asum)"
   ]
  },
  {
   "cell_type": "markdown",
   "id": "2971e8ab",
   "metadata": {},
   "source": [
    "### 함수의 객체화"
   ]
  },
  {
   "cell_type": "code",
   "execution_count": 29,
   "id": "9f9ce5bd",
   "metadata": {},
   "outputs": [
    {
     "name": "stdout",
     "output_type": "stream",
     "text": [
      "5050\n"
     ]
    }
   ],
   "source": [
    "a = sum(i for i in range(1,101))\n",
    "print(a)"
   ]
  },
  {
   "cell_type": "code",
   "execution_count": 27,
   "id": "73ef7f3c",
   "metadata": {},
   "outputs": [
    {
     "name": "stdout",
     "output_type": "stream",
     "text": [
      "2550\n"
     ]
    }
   ],
   "source": [
    "#1~100 짝수 총합\n",
    "asum = 0\n",
    "for i in range(1,101):\n",
    "    if i % 2 == 0 :\n",
    "        asum = asum + i\n",
    "print(asum)"
   ]
  },
  {
   "cell_type": "markdown",
   "id": "dce95c05",
   "metadata": {},
   "source": [
    "### 반복제어문\n",
    "- continue : 특정 조건일 경우 반복문 스킵\n",
    "- break : 특정 조건일 경우 반복문 종료  (정지조건)\n",
    "- exit : 특정 조건일 경우 프로그램 종료\n",
    "- pass : 문법적으로 오류를 발생시키지 않기 위해 사용하는 경우가 많음(협업 시 주로 사용)"
   ]
  },
  {
   "cell_type": "code",
   "execution_count": 30,
   "id": "af282d1a",
   "metadata": {},
   "outputs": [
    {
     "name": "stdout",
     "output_type": "stream",
     "text": [
      "1\n",
      "2\n",
      "3\n",
      "4\n",
      "6\n",
      "7\n",
      "8\n",
      "9\n",
      "10\n"
     ]
    }
   ],
   "source": [
    "#1~10 출력, 5제외\n",
    "for i in range(1,11):\n",
    "    if i == 5:\n",
    "        continue\n",
    "    print(i)"
   ]
  },
  {
   "cell_type": "code",
   "execution_count": 31,
   "id": "889682b0",
   "metadata": {},
   "outputs": [
    {
     "name": "stdout",
     "output_type": "stream",
     "text": [
      "1\n",
      "2\n",
      "3\n",
      "4\n"
     ]
    }
   ],
   "source": [
    "for i in range(1,11):\n",
    "    if i == 5:\n",
    "        break\n",
    "    print(i)"
   ]
  },
  {
   "cell_type": "markdown",
   "id": "f90aecbc",
   "metadata": {},
   "source": [
    "1부터 100까지의 누적합이 최초로 2000이상이 되는 시점의 k값과 총합 구하기\n",
    "ex. 1+2+3+...+k>=2000"
   ]
  },
  {
   "cell_type": "code",
   "execution_count": 33,
   "id": "e00cd75d",
   "metadata": {},
   "outputs": [
    {
     "name": "stdout",
     "output_type": "stream",
     "text": [
      "63 2016\n"
     ]
    }
   ],
   "source": [
    "bsum = 0\n",
    "for i in range(1,101):\n",
    "    bsum = bsum + i\n",
    "    if bsum >= 2000:\n",
    "        break\n",
    "print(i,bsum)"
   ]
  }
 ],
 "metadata": {
  "kernelspec": {
   "display_name": "Python 3",
   "language": "python",
   "name": "python3"
  },
  "language_info": {
   "codemirror_mode": {
    "name": "ipython",
    "version": 3
   },
   "file_extension": ".py",
   "mimetype": "text/x-python",
   "name": "python",
   "nbconvert_exporter": "python",
   "pygments_lexer": "ipython3",
   "version": "3.8.8"
  }
 },
 "nbformat": 4,
 "nbformat_minor": 5
}
