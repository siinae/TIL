{
 "cells": [
  {
   "cell_type": "markdown",
   "id": "fa77db66",
   "metadata": {},
   "source": [
    "자료구조(데이터타입) 형태\n",
    "- long data -- tidy data\n",
    "- 각 속성을 컬럼으로 표현"
   ]
  },
  {
   "cell_type": "code",
   "execution_count": 2,
   "id": "bf0d7498",
   "metadata": {},
   "outputs": [],
   "source": [
    "import pandas as pd"
   ]
  },
  {
   "cell_type": "code",
   "execution_count": 5,
   "id": "35793e83",
   "metadata": {},
   "outputs": [
    {
     "data": {
      "text/html": [
       "<div>\n",
       "<style scoped>\n",
       "    .dataframe tbody tr th:only-of-type {\n",
       "        vertical-align: middle;\n",
       "    }\n",
       "\n",
       "    .dataframe tbody tr th {\n",
       "        vertical-align: top;\n",
       "    }\n",
       "\n",
       "    .dataframe thead th {\n",
       "        text-align: right;\n",
       "    }\n",
       "</style>\n",
       "<table border=\"1\" class=\"dataframe\">\n",
       "  <thead>\n",
       "    <tr style=\"text-align: right;\">\n",
       "      <th></th>\n",
       "      <th>판매년도</th>\n",
       "      <th>판매월</th>\n",
       "      <th>제품</th>\n",
       "      <th>판매처</th>\n",
       "      <th>수량</th>\n",
       "      <th>판매금액</th>\n",
       "    </tr>\n",
       "  </thead>\n",
       "  <tbody>\n",
       "    <tr>\n",
       "      <th>0</th>\n",
       "      <td>2013</td>\n",
       "      <td>1</td>\n",
       "      <td>총각김치</td>\n",
       "      <td>대형마트</td>\n",
       "      <td>27916</td>\n",
       "      <td>233968900</td>\n",
       "    </tr>\n",
       "    <tr>\n",
       "      <th>1</th>\n",
       "      <td>2013</td>\n",
       "      <td>1</td>\n",
       "      <td>총각김치</td>\n",
       "      <td>백화점</td>\n",
       "      <td>11971</td>\n",
       "      <td>99796735</td>\n",
       "    </tr>\n",
       "    <tr>\n",
       "      <th>2</th>\n",
       "      <td>2013</td>\n",
       "      <td>1</td>\n",
       "      <td>총각김치</td>\n",
       "      <td>편의점</td>\n",
       "      <td>1603</td>\n",
       "      <td>2264200</td>\n",
       "    </tr>\n",
       "    <tr>\n",
       "      <th>3</th>\n",
       "      <td>2013</td>\n",
       "      <td>2</td>\n",
       "      <td>총각김치</td>\n",
       "      <td>대형마트</td>\n",
       "      <td>23057</td>\n",
       "      <td>194593960</td>\n",
       "    </tr>\n",
       "    <tr>\n",
       "      <th>4</th>\n",
       "      <td>2013</td>\n",
       "      <td>2</td>\n",
       "      <td>총각김치</td>\n",
       "      <td>백화점</td>\n",
       "      <td>11678</td>\n",
       "      <td>103106940</td>\n",
       "    </tr>\n",
       "    <tr>\n",
       "      <th>...</th>\n",
       "      <td>...</td>\n",
       "      <td>...</td>\n",
       "      <td>...</td>\n",
       "      <td>...</td>\n",
       "      <td>...</td>\n",
       "      <td>...</td>\n",
       "    </tr>\n",
       "    <tr>\n",
       "      <th>427</th>\n",
       "      <td>2016</td>\n",
       "      <td>11</td>\n",
       "      <td>무김치</td>\n",
       "      <td>백화점</td>\n",
       "      <td>16818</td>\n",
       "      <td>213580462</td>\n",
       "    </tr>\n",
       "    <tr>\n",
       "      <th>428</th>\n",
       "      <td>2016</td>\n",
       "      <td>11</td>\n",
       "      <td>무김치</td>\n",
       "      <td>편의점</td>\n",
       "      <td>1849</td>\n",
       "      <td>2718207</td>\n",
       "    </tr>\n",
       "    <tr>\n",
       "      <th>429</th>\n",
       "      <td>2016</td>\n",
       "      <td>12</td>\n",
       "      <td>무김치</td>\n",
       "      <td>대형마트</td>\n",
       "      <td>40806</td>\n",
       "      <td>351917006</td>\n",
       "    </tr>\n",
       "    <tr>\n",
       "      <th>430</th>\n",
       "      <td>2016</td>\n",
       "      <td>12</td>\n",
       "      <td>무김치</td>\n",
       "      <td>백화점</td>\n",
       "      <td>11877</td>\n",
       "      <td>139476205</td>\n",
       "    </tr>\n",
       "    <tr>\n",
       "      <th>431</th>\n",
       "      <td>2016</td>\n",
       "      <td>12</td>\n",
       "      <td>무김치</td>\n",
       "      <td>편의점</td>\n",
       "      <td>1890</td>\n",
       "      <td>2767080</td>\n",
       "    </tr>\n",
       "  </tbody>\n",
       "</table>\n",
       "<p>432 rows × 6 columns</p>\n",
       "</div>"
      ],
      "text/plain": [
       "     판매년도  판매월    제품   판매처     수량       판매금액\n",
       "0    2013    1  총각김치  대형마트  27916  233968900\n",
       "1    2013    1  총각김치   백화점  11971   99796735\n",
       "2    2013    1  총각김치   편의점   1603    2264200\n",
       "3    2013    2  총각김치  대형마트  23057  194593960\n",
       "4    2013    2  총각김치   백화점  11678  103106940\n",
       "..    ...  ...   ...   ...    ...        ...\n",
       "427  2016   11   무김치   백화점  16818  213580462\n",
       "428  2016   11   무김치   편의점   1849    2718207\n",
       "429  2016   12   무김치  대형마트  40806  351917006\n",
       "430  2016   12   무김치   백화점  11877  139476205\n",
       "431  2016   12   무김치   편의점   1890    2767080\n",
       "\n",
       "[432 rows x 6 columns]"
      ]
     },
     "execution_count": 5,
     "metadata": {},
     "output_type": "execute_result"
    }
   ],
   "source": [
    "kimchi = pd.read_csv('C:/Users/ZenBook/Desktop/냇물이/교육/code/data/kimchi_test.csv',encoding = 'cp949')\n",
    "kimchi"
   ]
  },
  {
   "cell_type": "code",
   "execution_count": 6,
   "id": "55c85834",
   "metadata": {},
   "outputs": [
    {
     "data": {
      "text/plain": [
       "판매년도  제품  \n",
       "2013  무김치     420750\n",
       "      열무김치    419045\n",
       "      총각김치    483735\n",
       "2014  무김치     447768\n",
       "      열무김치    489359\n",
       "      총각김치    551613\n",
       "2015  무김치     540809\n",
       "      열무김치    601661\n",
       "      총각김치    742150\n",
       "2016  무김치     733437\n",
       "      열무김치    637934\n",
       "      총각김치    634155\n",
       "Name: 수량, dtype: int64"
      ]
     },
     "execution_count": 6,
     "metadata": {},
     "output_type": "execute_result"
    }
   ],
   "source": [
    "df1 = kimchi.groupby(['판매년도','제품'])['수량'].sum()\n",
    "df1"
   ]
  },
  {
   "cell_type": "markdown",
   "id": "d720ee93",
   "metadata": {},
   "source": [
    "# unstack\n",
    "- long --> wide"
   ]
  },
  {
   "cell_type": "code",
   "execution_count": 8,
   "id": "5ce65b57",
   "metadata": {},
   "outputs": [
    {
     "data": {
      "text/html": [
       "<div>\n",
       "<style scoped>\n",
       "    .dataframe tbody tr th:only-of-type {\n",
       "        vertical-align: middle;\n",
       "    }\n",
       "\n",
       "    .dataframe tbody tr th {\n",
       "        vertical-align: top;\n",
       "    }\n",
       "\n",
       "    .dataframe thead th {\n",
       "        text-align: right;\n",
       "    }\n",
       "</style>\n",
       "<table border=\"1\" class=\"dataframe\">\n",
       "  <thead>\n",
       "    <tr style=\"text-align: right;\">\n",
       "      <th>제품</th>\n",
       "      <th>무김치</th>\n",
       "      <th>열무김치</th>\n",
       "      <th>총각김치</th>\n",
       "    </tr>\n",
       "    <tr>\n",
       "      <th>판매년도</th>\n",
       "      <th></th>\n",
       "      <th></th>\n",
       "      <th></th>\n",
       "    </tr>\n",
       "  </thead>\n",
       "  <tbody>\n",
       "    <tr>\n",
       "      <th>2013</th>\n",
       "      <td>420750</td>\n",
       "      <td>419045</td>\n",
       "      <td>483735</td>\n",
       "    </tr>\n",
       "    <tr>\n",
       "      <th>2014</th>\n",
       "      <td>447768</td>\n",
       "      <td>489359</td>\n",
       "      <td>551613</td>\n",
       "    </tr>\n",
       "    <tr>\n",
       "      <th>2015</th>\n",
       "      <td>540809</td>\n",
       "      <td>601661</td>\n",
       "      <td>742150</td>\n",
       "    </tr>\n",
       "    <tr>\n",
       "      <th>2016</th>\n",
       "      <td>733437</td>\n",
       "      <td>637934</td>\n",
       "      <td>634155</td>\n",
       "    </tr>\n",
       "  </tbody>\n",
       "</table>\n",
       "</div>"
      ],
      "text/plain": [
       "제품       무김치    열무김치    총각김치\n",
       "판매년도                        \n",
       "2013  420750  419045  483735\n",
       "2014  447768  489359  551613\n",
       "2015  540809  601661  742150\n",
       "2016  733437  637934  634155"
      ]
     },
     "execution_count": 8,
     "metadata": {},
     "output_type": "execute_result"
    }
   ],
   "source": [
    "df2 = df1.unstack()  #long --> wide\n",
    "df2"
   ]
  },
  {
   "cell_type": "markdown",
   "id": "236e4bd1",
   "metadata": {},
   "source": [
    "# stack\n",
    "- wide --> long"
   ]
  },
  {
   "cell_type": "code",
   "execution_count": 10,
   "id": "5d50d93f",
   "metadata": {},
   "outputs": [
    {
     "data": {
      "text/plain": [
       "판매년도  제품  \n",
       "2013  무김치     420750\n",
       "      열무김치    419045\n",
       "      총각김치    483735\n",
       "2014  무김치     447768\n",
       "      열무김치    489359\n",
       "      총각김치    551613\n",
       "2015  무김치     540809\n",
       "      열무김치    601661\n",
       "      총각김치    742150\n",
       "2016  무김치     733437\n",
       "      열무김치    637934\n",
       "      총각김치    634155\n",
       "dtype: int64"
      ]
     },
     "execution_count": 10,
     "metadata": {},
     "output_type": "execute_result"
    }
   ],
   "source": [
    "df2.stack()  #wide --> long"
   ]
  },
  {
   "cell_type": "markdown",
   "id": "dd714c93",
   "metadata": {},
   "source": [
    "##### 멀티인덱스\n",
    "- 인덱스나 컬럼이 여러 레벨로 표현\n",
    "- 상위레벨 : 0, 하위레벨로 갈수록 숫자가 증가함"
   ]
  },
  {
   "cell_type": "code",
   "execution_count": 11,
   "id": "3adc463e",
   "metadata": {},
   "outputs": [
    {
     "data": {
      "text/html": [
       "<div>\n",
       "<style scoped>\n",
       "    .dataframe tbody tr th:only-of-type {\n",
       "        vertical-align: middle;\n",
       "    }\n",
       "\n",
       "    .dataframe tbody tr th {\n",
       "        vertical-align: top;\n",
       "    }\n",
       "\n",
       "    .dataframe thead th {\n",
       "        text-align: right;\n",
       "    }\n",
       "</style>\n",
       "<table border=\"1\" class=\"dataframe\">\n",
       "  <thead>\n",
       "    <tr style=\"text-align: right;\">\n",
       "      <th>판매년도</th>\n",
       "      <th>2013</th>\n",
       "      <th>2014</th>\n",
       "      <th>2015</th>\n",
       "      <th>2016</th>\n",
       "    </tr>\n",
       "    <tr>\n",
       "      <th>제품</th>\n",
       "      <th></th>\n",
       "      <th></th>\n",
       "      <th></th>\n",
       "      <th></th>\n",
       "    </tr>\n",
       "  </thead>\n",
       "  <tbody>\n",
       "    <tr>\n",
       "      <th>무김치</th>\n",
       "      <td>420750</td>\n",
       "      <td>447768</td>\n",
       "      <td>540809</td>\n",
       "      <td>733437</td>\n",
       "    </tr>\n",
       "    <tr>\n",
       "      <th>열무김치</th>\n",
       "      <td>419045</td>\n",
       "      <td>489359</td>\n",
       "      <td>601661</td>\n",
       "      <td>637934</td>\n",
       "    </tr>\n",
       "    <tr>\n",
       "      <th>총각김치</th>\n",
       "      <td>483735</td>\n",
       "      <td>551613</td>\n",
       "      <td>742150</td>\n",
       "      <td>634155</td>\n",
       "    </tr>\n",
       "  </tbody>\n",
       "</table>\n",
       "</div>"
      ],
      "text/plain": [
       "판매년도    2013    2014    2015    2016\n",
       "제품                                  \n",
       "무김치   420750  447768  540809  733437\n",
       "열무김치  419045  489359  601661  637934\n",
       "총각김치  483735  551613  742150  634155"
      ]
     },
     "execution_count": 11,
     "metadata": {},
     "output_type": "execute_result"
    }
   ],
   "source": [
    "df1.unstack(level=0) #상위레벨 (2013)"
   ]
  },
  {
   "cell_type": "code",
   "execution_count": 12,
   "id": "77c928da",
   "metadata": {},
   "outputs": [
    {
     "data": {
      "text/html": [
       "<div>\n",
       "<style scoped>\n",
       "    .dataframe tbody tr th:only-of-type {\n",
       "        vertical-align: middle;\n",
       "    }\n",
       "\n",
       "    .dataframe tbody tr th {\n",
       "        vertical-align: top;\n",
       "    }\n",
       "\n",
       "    .dataframe thead th {\n",
       "        text-align: right;\n",
       "    }\n",
       "</style>\n",
       "<table border=\"1\" class=\"dataframe\">\n",
       "  <thead>\n",
       "    <tr style=\"text-align: right;\">\n",
       "      <th>제품</th>\n",
       "      <th>무김치</th>\n",
       "      <th>열무김치</th>\n",
       "      <th>총각김치</th>\n",
       "    </tr>\n",
       "    <tr>\n",
       "      <th>판매년도</th>\n",
       "      <th></th>\n",
       "      <th></th>\n",
       "      <th></th>\n",
       "    </tr>\n",
       "  </thead>\n",
       "  <tbody>\n",
       "    <tr>\n",
       "      <th>2013</th>\n",
       "      <td>420750</td>\n",
       "      <td>419045</td>\n",
       "      <td>483735</td>\n",
       "    </tr>\n",
       "    <tr>\n",
       "      <th>2014</th>\n",
       "      <td>447768</td>\n",
       "      <td>489359</td>\n",
       "      <td>551613</td>\n",
       "    </tr>\n",
       "    <tr>\n",
       "      <th>2015</th>\n",
       "      <td>540809</td>\n",
       "      <td>601661</td>\n",
       "      <td>742150</td>\n",
       "    </tr>\n",
       "    <tr>\n",
       "      <th>2016</th>\n",
       "      <td>733437</td>\n",
       "      <td>637934</td>\n",
       "      <td>634155</td>\n",
       "    </tr>\n",
       "  </tbody>\n",
       "</table>\n",
       "</div>"
      ],
      "text/plain": [
       "제품       무김치    열무김치    총각김치\n",
       "판매년도                        \n",
       "2013  420750  419045  483735\n",
       "2014  447768  489359  551613\n",
       "2015  540809  601661  742150\n",
       "2016  733437  637934  634155"
      ]
     },
     "execution_count": 12,
     "metadata": {},
     "output_type": "execute_result"
    }
   ],
   "source": [
    "df1.unstack(level=1) "
   ]
  },
  {
   "cell_type": "markdown",
   "id": "edf4d935",
   "metadata": {},
   "source": [
    "# pivot_table\n",
    "- 교차표 작성"
   ]
  },
  {
   "cell_type": "markdown",
   "id": "0f94ce85",
   "metadata": {},
   "source": [
    "- kimchi.pivot_table(index,columns,values,aggfunc)"
   ]
  },
  {
   "cell_type": "markdown",
   "id": "a3567d8d",
   "metadata": {},
   "source": [
    "- kimchi 데이터를 이용해 연도별, 제품별 판매금액의 총 합을 교차표로 작성"
   ]
  },
  {
   "cell_type": "code",
   "execution_count": 13,
   "id": "2bbf57d1",
   "metadata": {},
   "outputs": [
    {
     "data": {
      "text/html": [
       "<div>\n",
       "<style scoped>\n",
       "    .dataframe tbody tr th:only-of-type {\n",
       "        vertical-align: middle;\n",
       "    }\n",
       "\n",
       "    .dataframe tbody tr th {\n",
       "        vertical-align: top;\n",
       "    }\n",
       "\n",
       "    .dataframe thead th {\n",
       "        text-align: right;\n",
       "    }\n",
       "</style>\n",
       "<table border=\"1\" class=\"dataframe\">\n",
       "  <thead>\n",
       "    <tr style=\"text-align: right;\">\n",
       "      <th>제품</th>\n",
       "      <th>무김치</th>\n",
       "      <th>열무김치</th>\n",
       "      <th>총각김치</th>\n",
       "    </tr>\n",
       "    <tr>\n",
       "      <th>판매년도</th>\n",
       "      <th></th>\n",
       "      <th></th>\n",
       "      <th></th>\n",
       "    </tr>\n",
       "  </thead>\n",
       "  <tbody>\n",
       "    <tr>\n",
       "      <th>2013</th>\n",
       "      <td>3809133886</td>\n",
       "      <td>3416217894</td>\n",
       "      <td>4186789117</td>\n",
       "    </tr>\n",
       "    <tr>\n",
       "      <th>2014</th>\n",
       "      <td>4111403907</td>\n",
       "      <td>4392490590</td>\n",
       "      <td>5250364301</td>\n",
       "    </tr>\n",
       "    <tr>\n",
       "      <th>2015</th>\n",
       "      <td>5212738410</td>\n",
       "      <td>5859079408</td>\n",
       "      <td>7485159996</td>\n",
       "    </tr>\n",
       "    <tr>\n",
       "      <th>2016</th>\n",
       "      <td>6903506142</td>\n",
       "      <td>6627888927</td>\n",
       "      <td>6378374872</td>\n",
       "    </tr>\n",
       "  </tbody>\n",
       "</table>\n",
       "</div>"
      ],
      "text/plain": [
       "제품           무김치        열무김치        총각김치\n",
       "판매년도                                    \n",
       "2013  3809133886  3416217894  4186789117\n",
       "2014  4111403907  4392490590  5250364301\n",
       "2015  5212738410  5859079408  7485159996\n",
       "2016  6903506142  6627888927  6378374872"
      ]
     },
     "execution_count": 13,
     "metadata": {},
     "output_type": "execute_result"
    }
   ],
   "source": [
    "kimchi.pivot_table(index = '판매년도', columns = '제품', values = '판매금액', aggfunc = 'sum')"
   ]
  }
 ],
 "metadata": {
  "kernelspec": {
   "display_name": "Python 3",
   "language": "python",
   "name": "python3"
  },
  "language_info": {
   "codemirror_mode": {
    "name": "ipython",
    "version": 3
   },
   "file_extension": ".py",
   "mimetype": "text/x-python",
   "name": "python",
   "nbconvert_exporter": "python",
   "pygments_lexer": "ipython3",
   "version": "3.8.8"
  }
 },
 "nbformat": 4,
 "nbformat_minor": 5
}
