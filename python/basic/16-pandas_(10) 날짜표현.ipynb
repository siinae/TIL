{
 "cells": [
  {
   "cell_type": "markdown",
   "id": "03318581",
   "metadata": {},
   "source": [
    "## 현재날짜"
   ]
  },
  {
   "cell_type": "code",
   "execution_count": 21,
   "id": "53e9f88d",
   "metadata": {},
   "outputs": [
    {
     "data": {
      "text/plain": [
       "datetime.datetime(2022, 4, 5, 17, 58, 10, 140681)"
      ]
     },
     "execution_count": 21,
     "metadata": {},
     "output_type": "execute_result"
    }
   ],
   "source": [
    "from datetime import datetime\n",
    "import pandas as pd\n",
    "from pandas import Series,DataFrame\n",
    "datetime.now()  #튜플형식으로 출력"
   ]
  },
  {
   "cell_type": "code",
   "execution_count": 22,
   "id": "f3dda0d2",
   "metadata": {},
   "outputs": [
    {
     "data": {
      "text/plain": [
       "datetime.datetime"
      ]
     },
     "execution_count": 22,
     "metadata": {},
     "output_type": "execute_result"
    }
   ],
   "source": [
    "d1 = datetime.now()\n",
    "type(d1)"
   ]
  },
  {
   "cell_type": "code",
   "execution_count": 23,
   "id": "3fc4de28",
   "metadata": {},
   "outputs": [
    {
     "data": {
      "text/plain": [
       "2022"
      ]
     },
     "execution_count": 23,
     "metadata": {},
     "output_type": "execute_result"
    }
   ],
   "source": [
    "d1.year #연"
   ]
  },
  {
   "cell_type": "code",
   "execution_count": 24,
   "id": "6e782a8f",
   "metadata": {},
   "outputs": [
    {
     "data": {
      "text/plain": [
       "4"
      ]
     },
     "execution_count": 24,
     "metadata": {},
     "output_type": "execute_result"
    }
   ],
   "source": [
    "d1.month #월"
   ]
  },
  {
   "cell_type": "code",
   "execution_count": 25,
   "id": "9051e48d",
   "metadata": {},
   "outputs": [
    {
     "data": {
      "text/plain": [
       "5"
      ]
     },
     "execution_count": 25,
     "metadata": {},
     "output_type": "execute_result"
    }
   ],
   "source": [
    "d1.day #일"
   ]
  },
  {
   "cell_type": "markdown",
   "id": "cd7a20f1",
   "metadata": {},
   "source": [
    "# 날짜 파싱"
   ]
  },
  {
   "cell_type": "code",
   "execution_count": 26,
   "id": "cb5d9d86",
   "metadata": {},
   "outputs": [
    {
     "ename": "AttributeError",
     "evalue": "'str' object has no attribute 'year'",
     "output_type": "error",
     "traceback": [
      "\u001b[1;31m---------------------------------------------------------------------------\u001b[0m",
      "\u001b[1;31mAttributeError\u001b[0m                            Traceback (most recent call last)",
      "\u001b[1;32m<ipython-input-26-f1bd991c2aff>\u001b[0m in \u001b[0;36m<module>\u001b[1;34m\u001b[0m\n\u001b[0;32m      1\u001b[0m \u001b[0md2\u001b[0m \u001b[1;33m=\u001b[0m \u001b[1;34m'2022/01/01'\u001b[0m\u001b[1;33m\u001b[0m\u001b[1;33m\u001b[0m\u001b[0m\n\u001b[1;32m----> 2\u001b[1;33m \u001b[0md2\u001b[0m\u001b[1;33m.\u001b[0m\u001b[0myear\u001b[0m\u001b[1;33m\u001b[0m\u001b[1;33m\u001b[0m\u001b[0m\n\u001b[0m",
      "\u001b[1;31mAttributeError\u001b[0m: 'str' object has no attribute 'year'"
     ]
    }
   ],
   "source": [
    "d2 = '2022/01/01'\n",
    "d2.year"
   ]
  },
  {
   "cell_type": "markdown",
   "id": "1cc9fa44",
   "metadata": {},
   "source": [
    "##### datetime.strptime(date_string, format)\n",
    "- 문자열을 datetime 객체로\n",
    "- 벡터 연산이 안됨"
   ]
  },
  {
   "cell_type": "code",
   "execution_count": 27,
   "id": "192e34c4",
   "metadata": {},
   "outputs": [
    {
     "data": {
      "text/plain": [
       "datetime.datetime(2022, 1, 1, 0, 0)"
      ]
     },
     "execution_count": 27,
     "metadata": {},
     "output_type": "execute_result"
    }
   ],
   "source": [
    "datetime.strptime(d2, '%Y/%m/%d')"
   ]
  },
  {
   "cell_type": "code",
   "execution_count": 28,
   "id": "914893a5",
   "metadata": {},
   "outputs": [
    {
     "data": {
      "text/plain": [
       "datetime.datetime(2025, 9, 12, 0, 0)"
      ]
     },
     "execution_count": 28,
     "metadata": {},
     "output_type": "execute_result"
    }
   ],
   "source": [
    "datetime.strptime('09/12/25','%m/%d/%y')\n",
    "#2025년 09월 12일로 해석"
   ]
  },
  {
   "cell_type": "code",
   "execution_count": 29,
   "id": "e36385a9",
   "metadata": {},
   "outputs": [],
   "source": [
    "#strftime : datetime 을 문자열로"
   ]
  },
  {
   "cell_type": "markdown",
   "id": "8e1320a0",
   "metadata": {},
   "source": [
    "##### Series는 벡터 연산이 불가능"
   ]
  },
  {
   "cell_type": "code",
   "execution_count": 31,
   "id": "478d8729",
   "metadata": {},
   "outputs": [
    {
     "data": {
      "text/plain": [
       "0    2022/01/01\n",
       "1    2022/01/02\n",
       "2    2022/01/03\n",
       "dtype: object"
      ]
     },
     "execution_count": 31,
     "metadata": {},
     "output_type": "execute_result"
    }
   ],
   "source": [
    "s1 = Series(['2022/01/01','2022/01/02','2022/01/03'])\n",
    "s1"
   ]
  },
  {
   "cell_type": "code",
   "execution_count": 32,
   "id": "4cada06e",
   "metadata": {},
   "outputs": [
    {
     "ename": "TypeError",
     "evalue": "strptime() argument 1 must be str, not Series",
     "output_type": "error",
     "traceback": [
      "\u001b[1;31m---------------------------------------------------------------------------\u001b[0m",
      "\u001b[1;31mTypeError\u001b[0m                                 Traceback (most recent call last)",
      "\u001b[1;32m<ipython-input-32-a66b5a155d30>\u001b[0m in \u001b[0;36m<module>\u001b[1;34m\u001b[0m\n\u001b[1;32m----> 1\u001b[1;33m \u001b[0mdatetime\u001b[0m\u001b[1;33m.\u001b[0m\u001b[0mstrptime\u001b[0m\u001b[1;33m(\u001b[0m\u001b[0ms1\u001b[0m\u001b[1;33m,\u001b[0m \u001b[1;34m'%Y/%m/%d'\u001b[0m\u001b[1;33m)\u001b[0m\u001b[1;33m\u001b[0m\u001b[1;33m\u001b[0m\u001b[0m\n\u001b[0m",
      "\u001b[1;31mTypeError\u001b[0m: strptime() argument 1 must be str, not Series"
     ]
    }
   ],
   "source": [
    "datetime.strptime(s1, '%Y/%m/%d')"
   ]
  },
  {
   "cell_type": "code",
   "execution_count": 33,
   "id": "3a2ea1d7",
   "metadata": {},
   "outputs": [
    {
     "data": {
      "text/plain": [
       "0   2022-01-01\n",
       "1   2022-01-02\n",
       "2   2022-01-03\n",
       "dtype: datetime64[ns]"
      ]
     },
     "execution_count": 33,
     "metadata": {},
     "output_type": "execute_result"
    }
   ],
   "source": [
    "#해결방법 --> map\n",
    "s1.map(lambda x: datetime.strptime(x,'%Y/%m/%d'))"
   ]
  },
  {
   "cell_type": "markdown",
   "id": "032967de",
   "metadata": {},
   "source": [
    "# pd.to_datetime\n",
    "- 벡터연산 가능"
   ]
  },
  {
   "cell_type": "code",
   "execution_count": 34,
   "id": "76d7d6b0",
   "metadata": {},
   "outputs": [
    {
     "data": {
      "text/plain": [
       "0    2022/01/01\n",
       "1    2022/01/02\n",
       "2    2022/01/03\n",
       "dtype: object"
      ]
     },
     "execution_count": 34,
     "metadata": {},
     "output_type": "execute_result"
    }
   ],
   "source": [
    "s1"
   ]
  },
  {
   "cell_type": "code",
   "execution_count": 35,
   "id": "98f42537",
   "metadata": {},
   "outputs": [
    {
     "data": {
      "text/plain": [
       "0   2022-01-01\n",
       "1   2022-01-02\n",
       "2   2022-01-03\n",
       "dtype: datetime64[ns]"
      ]
     },
     "execution_count": 35,
     "metadata": {},
     "output_type": "execute_result"
    }
   ],
   "source": [
    "s2 = pd.to_datetime(s1)\n",
    "s2"
   ]
  },
  {
   "cell_type": "code",
   "execution_count": 36,
   "id": "25a22dcf",
   "metadata": {},
   "outputs": [
    {
     "data": {
      "text/plain": [
       "0   2022-01-01\n",
       "1   2022-01-02\n",
       "2   2022-01-03\n",
       "dtype: datetime64[ns]"
      ]
     },
     "execution_count": 36,
     "metadata": {},
     "output_type": "execute_result"
    }
   ],
   "source": [
    "pd.to_datetime(s2, format = '%Y/%m/%d')"
   ]
  },
  {
   "cell_type": "code",
   "execution_count": 37,
   "id": "c22c459f",
   "metadata": {},
   "outputs": [
    {
     "data": {
      "text/plain": [
       "pandas.core.series.Series"
      ]
     },
     "execution_count": 37,
     "metadata": {},
     "output_type": "execute_result"
    }
   ],
   "source": [
    "s1\n",
    "type(s1)"
   ]
  },
  {
   "cell_type": "code",
   "execution_count": 38,
   "id": "52ac2ae5",
   "metadata": {},
   "outputs": [
    {
     "data": {
      "text/plain": [
       "0   2022-01-01\n",
       "1   2022-01-02\n",
       "2   2022-01-03\n",
       "dtype: datetime64[ns]"
      ]
     },
     "execution_count": 38,
     "metadata": {},
     "output_type": "execute_result"
    }
   ],
   "source": [
    "s2 = pd.to_datetime(s1, infer_datetime_format=True)\n",
    "s2\n",
    "#infer_datetime_format=날짜or시간 포맷 추정해서 파싱하기"
   ]
  },
  {
   "cell_type": "code",
   "execution_count": 39,
   "id": "7fe09c94",
   "metadata": {},
   "outputs": [
    {
     "name": "stdout",
     "output_type": "stream",
     "text": [
      "date    object\n",
      "dtype: object\n"
     ]
    },
    {
     "data": {
      "text/html": [
       "<div>\n",
       "<style scoped>\n",
       "    .dataframe tbody tr th:only-of-type {\n",
       "        vertical-align: middle;\n",
       "    }\n",
       "\n",
       "    .dataframe tbody tr th {\n",
       "        vertical-align: top;\n",
       "    }\n",
       "\n",
       "    .dataframe thead th {\n",
       "        text-align: right;\n",
       "    }\n",
       "</style>\n",
       "<table border=\"1\" class=\"dataframe\">\n",
       "  <thead>\n",
       "    <tr style=\"text-align: right;\">\n",
       "      <th></th>\n",
       "      <th>date</th>\n",
       "    </tr>\n",
       "  </thead>\n",
       "  <tbody>\n",
       "    <tr>\n",
       "      <th>0</th>\n",
       "      <td>01-05-21</td>\n",
       "    </tr>\n",
       "    <tr>\n",
       "      <th>1</th>\n",
       "      <td>01-06-21</td>\n",
       "    </tr>\n",
       "    <tr>\n",
       "      <th>2</th>\n",
       "      <td>01-07-21</td>\n",
       "    </tr>\n",
       "  </tbody>\n",
       "</table>\n",
       "</div>"
      ],
      "text/plain": [
       "       date\n",
       "0  01-05-21\n",
       "1  01-06-21\n",
       "2  01-07-21"
      ]
     },
     "execution_count": 39,
     "metadata": {},
     "output_type": "execute_result"
    }
   ],
   "source": [
    "s3 = pd.DataFrame({'date' : ['01-05-21','01-06-21','01-07-21']})\n",
    "print(s3.dtypes)\n",
    "s3"
   ]
  },
  {
   "cell_type": "markdown",
   "id": "765a1def",
   "metadata": {},
   "source": [
    "# 날짜 포맷 변경\n",
    "- datetime.strftime(string, format time)\n",
    "- 요일 추출(날짜에서 요일을 return 하도록 날짜 출력 형식 변경)\n",
    "- (연/월/일) --> (월/일/연) 순서로 변경\n",
    "- (주의) 날짜 포맷 변경 한 후 return 데이터 타입은 무조건 문자"
   ]
  },
  {
   "cell_type": "code",
   "execution_count": 40,
   "id": "2b825746",
   "metadata": {},
   "outputs": [
    {
     "data": {
      "text/plain": [
       "datetime.datetime(2022, 4, 5, 18, 3, 11, 677005)"
      ]
     },
     "execution_count": 40,
     "metadata": {},
     "output_type": "execute_result"
    }
   ],
   "source": [
    "d1 = datetime.now()\n",
    "d1"
   ]
  },
  {
   "cell_type": "code",
   "execution_count": 41,
   "id": "04fd78d7",
   "metadata": {},
   "outputs": [
    {
     "data": {
      "text/plain": [
       "datetime.datetime"
      ]
     },
     "execution_count": 41,
     "metadata": {},
     "output_type": "execute_result"
    }
   ],
   "source": [
    "type(d1)"
   ]
  },
  {
   "cell_type": "code",
   "execution_count": 42,
   "id": "2585ca9d",
   "metadata": {},
   "outputs": [
    {
     "data": {
      "text/plain": [
       "'Tue'"
      ]
     },
     "execution_count": 42,
     "metadata": {},
     "output_type": "execute_result"
    }
   ],
   "source": [
    "datetime.strftime(d1, '%a') #요일 리턴(축약형)"
   ]
  },
  {
   "cell_type": "code",
   "execution_count": 43,
   "id": "5f0eb5bb",
   "metadata": {},
   "outputs": [
    {
     "data": {
      "text/plain": [
       "'Tuesday'"
      ]
     },
     "execution_count": 43,
     "metadata": {},
     "output_type": "execute_result"
    }
   ],
   "source": [
    "datetime.strftime(d1, '%A') #요일 리턴(완전체)"
   ]
  },
  {
   "cell_type": "code",
   "execution_count": 44,
   "id": "879bbd0a",
   "metadata": {},
   "outputs": [
    {
     "data": {
      "text/plain": [
       "'04-05,2022'"
      ]
     },
     "execution_count": 44,
     "metadata": {},
     "output_type": "execute_result"
    }
   ],
   "source": [
    "datetime.strftime(d1, '%m-%d,%Y') #한계: 데이터타입이 아닌 문자로 출력됨"
   ]
  },
  {
   "cell_type": "code",
   "execution_count": 45,
   "id": "0fb1cc60",
   "metadata": {},
   "outputs": [
    {
     "data": {
      "text/plain": [
       "'2022'"
      ]
     },
     "execution_count": 45,
     "metadata": {},
     "output_type": "execute_result"
    }
   ],
   "source": [
    "datetime.strftime(d1, '%Y')  #연도 리턴(완전체) "
   ]
  },
  {
   "cell_type": "code",
   "execution_count": 47,
   "id": "82432958",
   "metadata": {},
   "outputs": [
    {
     "data": {
      "text/plain": [
       "str"
      ]
     },
     "execution_count": 47,
     "metadata": {},
     "output_type": "execute_result"
    }
   ],
   "source": [
    "a = datetime.strftime(d1, '%y')  #연도 리턴(축약형) \n",
    "type(a)"
   ]
  },
  {
   "cell_type": "code",
   "execution_count": 48,
   "id": "9a909e65",
   "metadata": {},
   "outputs": [
    {
     "ename": "TypeError",
     "evalue": "descriptor 'strftime' for 'datetime.date' objects doesn't apply to a 'Series' object",
     "output_type": "error",
     "traceback": [
      "\u001b[1;31m---------------------------------------------------------------------------\u001b[0m",
      "\u001b[1;31mTypeError\u001b[0m                                 Traceback (most recent call last)",
      "\u001b[1;32m<ipython-input-48-04a6a7d497f6>\u001b[0m in \u001b[0;36m<module>\u001b[1;34m\u001b[0m\n\u001b[1;32m----> 1\u001b[1;33m \u001b[0mdatetime\u001b[0m\u001b[1;33m.\u001b[0m\u001b[0mstrftime\u001b[0m\u001b[1;33m(\u001b[0m\u001b[0ms2\u001b[0m\u001b[1;33m,\u001b[0m \u001b[1;34m'%Y'\u001b[0m\u001b[1;33m)\u001b[0m\u001b[1;33m\u001b[0m\u001b[1;33m\u001b[0m\u001b[0m\n\u001b[0m\u001b[0;32m      2\u001b[0m \u001b[1;31m##Series는 벡터 연산불가능\u001b[0m\u001b[1;33m\u001b[0m\u001b[1;33m\u001b[0m\u001b[1;33m\u001b[0m\u001b[0m\n",
      "\u001b[1;31mTypeError\u001b[0m: descriptor 'strftime' for 'datetime.date' objects doesn't apply to a 'Series' object"
     ]
    }
   ],
   "source": [
    "datetime.strftime(s2, '%Y')\n",
    "##Series는 벡터 연산불가능"
   ]
  },
  {
   "cell_type": "code",
   "execution_count": 49,
   "id": "6550333a",
   "metadata": {},
   "outputs": [
    {
     "data": {
      "text/plain": [
       "0    2022\n",
       "1    2022\n",
       "2    2022\n",
       "dtype: object"
      ]
     },
     "execution_count": 49,
     "metadata": {},
     "output_type": "execute_result"
    }
   ],
   "source": [
    "s2.map(lambda x: datetime.strftime(x, '%Y'))"
   ]
  },
  {
   "cell_type": "markdown",
   "id": "4625d7c2",
   "metadata": {},
   "source": [
    "# 날짜 연산"
   ]
  },
  {
   "cell_type": "markdown",
   "id": "43b4f3d8",
   "metadata": {},
   "source": [
    "- 오늘 날짜로부터 100일 뒤의 날짜 리턴"
   ]
  },
  {
   "cell_type": "code",
   "execution_count": 50,
   "id": "d2686a86",
   "metadata": {},
   "outputs": [
    {
     "ename": "TypeError",
     "evalue": "unsupported operand type(s) for +: 'datetime.datetime' and 'int'",
     "output_type": "error",
     "traceback": [
      "\u001b[1;31m---------------------------------------------------------------------------\u001b[0m",
      "\u001b[1;31mTypeError\u001b[0m                                 Traceback (most recent call last)",
      "\u001b[1;32m<ipython-input-50-153d82ceccd1>\u001b[0m in \u001b[0;36m<module>\u001b[1;34m\u001b[0m\n\u001b[1;32m----> 1\u001b[1;33m \u001b[0md1\u001b[0m\u001b[1;33m+\u001b[0m\u001b[1;36m100\u001b[0m \u001b[1;31m#불가능(정수,datetime계산불가)\u001b[0m\u001b[1;33m\u001b[0m\u001b[1;33m\u001b[0m\u001b[0m\n\u001b[0m",
      "\u001b[1;31mTypeError\u001b[0m: unsupported operand type(s) for +: 'datetime.datetime' and 'int'"
     ]
    }
   ],
   "source": [
    "d1+100 #불가능(정수,datetime계산불가)"
   ]
  },
  {
   "cell_type": "markdown",
   "id": "d2ce6ee0",
   "metadata": {},
   "source": [
    "##### 1. offset\n",
    "- 일반적으로 동일 오브젝트 안에서 처음부터 주어진 요소나 지점까지의 변위차를 나타내는 정수형"
   ]
  },
  {
   "cell_type": "code",
   "execution_count": 51,
   "id": "db5b2695",
   "metadata": {},
   "outputs": [
    {
     "data": {
      "text/plain": [
       "Timestamp('2022-07-14 18:03:11.677005')"
      ]
     },
     "execution_count": 51,
     "metadata": {},
     "output_type": "execute_result"
    }
   ],
   "source": [
    "from pandas.tseries.offsets import Day, Hour, Second\n",
    "d1 + Day(100)"
   ]
  },
  {
   "cell_type": "markdown",
   "id": "ec36796d",
   "metadata": {},
   "source": [
    "##### 2. timedelta (날짜와의 차이)"
   ]
  },
  {
   "cell_type": "code",
   "execution_count": 52,
   "id": "383740cd",
   "metadata": {},
   "outputs": [
    {
     "data": {
      "text/plain": [
       "datetime.datetime(2022, 7, 14, 18, 3, 11, 677005)"
      ]
     },
     "execution_count": 52,
     "metadata": {},
     "output_type": "execute_result"
    }
   ],
   "source": [
    "from datetime import timedelta\n",
    "d1 + timedelta(100)"
   ]
  },
  {
   "cell_type": "markdown",
   "id": "10fab501",
   "metadata": {},
   "source": [
    "##### 3. DateOffset "
   ]
  },
  {
   "cell_type": "code",
   "execution_count": 53,
   "id": "8341e45f",
   "metadata": {},
   "outputs": [
    {
     "data": {
      "text/plain": [
       "Timestamp('2022-08-05 18:03:11.677005')"
      ]
     },
     "execution_count": 53,
     "metadata": {},
     "output_type": "execute_result"
    }
   ],
   "source": [
    "d1 + pd.DateOffset(months = 4)"
   ]
  },
  {
   "cell_type": "markdown",
   "id": "699b5805",
   "metadata": {},
   "source": [
    "- 날짜-날짜"
   ]
  },
  {
   "cell_type": "code",
   "execution_count": 54,
   "id": "914827c5",
   "metadata": {},
   "outputs": [
    {
     "data": {
      "text/plain": [
       "datetime.timedelta(days=94, seconds=64991, microseconds=677005)"
      ]
     },
     "execution_count": 54,
     "metadata": {},
     "output_type": "execute_result"
    }
   ],
   "source": [
    "d1 - datetime.strptime(d2, '%Y/%m/%d')"
   ]
  },
  {
   "cell_type": "code",
   "execution_count": 55,
   "id": "ca3b5f7b",
   "metadata": {},
   "outputs": [
    {
     "data": {
      "text/plain": [
       "94"
      ]
     },
     "execution_count": 55,
     "metadata": {},
     "output_type": "execute_result"
    }
   ],
   "source": [
    "d3 = d1 - datetime.strptime(d2, '%Y/%m/%d')\n",
    "d3.days"
   ]
  },
  {
   "cell_type": "code",
   "execution_count": 56,
   "id": "190158e8",
   "metadata": {},
   "outputs": [
    {
     "data": {
      "text/plain": [
       "64991"
      ]
     },
     "execution_count": 56,
     "metadata": {},
     "output_type": "execute_result"
    }
   ],
   "source": [
    "d3.seconds"
   ]
  },
  {
   "cell_type": "markdown",
   "id": "49a702b7",
   "metadata": {},
   "source": [
    "# (예제) 요일별 통화 건 수 총합"
   ]
  },
  {
   "cell_type": "code",
   "execution_count": 59,
   "id": "00522b41",
   "metadata": {},
   "outputs": [
    {
     "data": {
      "text/html": [
       "<div>\n",
       "<style scoped>\n",
       "    .dataframe tbody tr th:only-of-type {\n",
       "        vertical-align: middle;\n",
       "    }\n",
       "\n",
       "    .dataframe tbody tr th {\n",
       "        vertical-align: top;\n",
       "    }\n",
       "\n",
       "    .dataframe thead th {\n",
       "        text-align: right;\n",
       "    }\n",
       "</style>\n",
       "<table border=\"1\" class=\"dataframe\">\n",
       "  <thead>\n",
       "    <tr style=\"text-align: right;\">\n",
       "      <th></th>\n",
       "      <th>일자</th>\n",
       "      <th>시간대</th>\n",
       "      <th>업종</th>\n",
       "      <th>시도</th>\n",
       "      <th>시군구</th>\n",
       "      <th>읍면동</th>\n",
       "      <th>통화건수</th>\n",
       "    </tr>\n",
       "  </thead>\n",
       "  <tbody>\n",
       "    <tr>\n",
       "      <th>0</th>\n",
       "      <td>20180201</td>\n",
       "      <td>0</td>\n",
       "      <td>음식점-족발/보쌈전문</td>\n",
       "      <td>서울특별시</td>\n",
       "      <td>강남구</td>\n",
       "      <td>논현동</td>\n",
       "      <td>5</td>\n",
       "    </tr>\n",
       "    <tr>\n",
       "      <th>1</th>\n",
       "      <td>20180201</td>\n",
       "      <td>0</td>\n",
       "      <td>음식점-족발/보쌈전문</td>\n",
       "      <td>서울특별시</td>\n",
       "      <td>강남구</td>\n",
       "      <td>역삼동</td>\n",
       "      <td>5</td>\n",
       "    </tr>\n",
       "    <tr>\n",
       "      <th>2</th>\n",
       "      <td>20180201</td>\n",
       "      <td>0</td>\n",
       "      <td>음식점-족발/보쌈전문</td>\n",
       "      <td>서울특별시</td>\n",
       "      <td>강서구</td>\n",
       "      <td>내발산동</td>\n",
       "      <td>5</td>\n",
       "    </tr>\n",
       "    <tr>\n",
       "      <th>3</th>\n",
       "      <td>20180201</td>\n",
       "      <td>0</td>\n",
       "      <td>음식점-족발/보쌈전문</td>\n",
       "      <td>서울특별시</td>\n",
       "      <td>강서구</td>\n",
       "      <td>화곡동</td>\n",
       "      <td>5</td>\n",
       "    </tr>\n",
       "    <tr>\n",
       "      <th>4</th>\n",
       "      <td>20180201</td>\n",
       "      <td>0</td>\n",
       "      <td>음식점-족발/보쌈전문</td>\n",
       "      <td>서울특별시</td>\n",
       "      <td>동작구</td>\n",
       "      <td>신대방동</td>\n",
       "      <td>5</td>\n",
       "    </tr>\n",
       "    <tr>\n",
       "      <th>...</th>\n",
       "      <td>...</td>\n",
       "      <td>...</td>\n",
       "      <td>...</td>\n",
       "      <td>...</td>\n",
       "      <td>...</td>\n",
       "      <td>...</td>\n",
       "      <td>...</td>\n",
       "    </tr>\n",
       "    <tr>\n",
       "      <th>119184</th>\n",
       "      <td>20180228</td>\n",
       "      <td>23</td>\n",
       "      <td>피자</td>\n",
       "      <td>서울특별시</td>\n",
       "      <td>서대문구</td>\n",
       "      <td>북가좌동</td>\n",
       "      <td>5</td>\n",
       "    </tr>\n",
       "    <tr>\n",
       "      <th>119185</th>\n",
       "      <td>20180228</td>\n",
       "      <td>23</td>\n",
       "      <td>피자</td>\n",
       "      <td>서울특별시</td>\n",
       "      <td>중랑구</td>\n",
       "      <td>망우동</td>\n",
       "      <td>5</td>\n",
       "    </tr>\n",
       "    <tr>\n",
       "      <th>119186</th>\n",
       "      <td>20180228</td>\n",
       "      <td>23</td>\n",
       "      <td>피자</td>\n",
       "      <td>서울특별시</td>\n",
       "      <td>중랑구</td>\n",
       "      <td>면목동</td>\n",
       "      <td>5</td>\n",
       "    </tr>\n",
       "    <tr>\n",
       "      <th>119187</th>\n",
       "      <td>20180228</td>\n",
       "      <td>23</td>\n",
       "      <td>피자</td>\n",
       "      <td>서울특별시</td>\n",
       "      <td>양천구</td>\n",
       "      <td>신정동</td>\n",
       "      <td>5</td>\n",
       "    </tr>\n",
       "    <tr>\n",
       "      <th>119188</th>\n",
       "      <td>20180228</td>\n",
       "      <td>23</td>\n",
       "      <td>피자</td>\n",
       "      <td>서울특별시</td>\n",
       "      <td>강서구</td>\n",
       "      <td>내발산동</td>\n",
       "      <td>6</td>\n",
       "    </tr>\n",
       "  </tbody>\n",
       "</table>\n",
       "<p>119189 rows × 7 columns</p>\n",
       "</div>"
      ],
      "text/plain": [
       "              일자  시간대           업종     시도   시군구   읍면동  통화건수\n",
       "0       20180201    0  음식점-족발/보쌈전문  서울특별시   강남구   논현동     5\n",
       "1       20180201    0  음식점-족발/보쌈전문  서울특별시   강남구   역삼동     5\n",
       "2       20180201    0  음식점-족발/보쌈전문  서울특별시   강서구  내발산동     5\n",
       "3       20180201    0  음식점-족발/보쌈전문  서울특별시   강서구   화곡동     5\n",
       "4       20180201    0  음식점-족발/보쌈전문  서울특별시   동작구  신대방동     5\n",
       "...          ...  ...          ...    ...   ...   ...   ...\n",
       "119184  20180228   23           피자  서울특별시  서대문구  북가좌동     5\n",
       "119185  20180228   23           피자  서울특별시   중랑구   망우동     5\n",
       "119186  20180228   23           피자  서울특별시   중랑구   면목동     5\n",
       "119187  20180228   23           피자  서울특별시   양천구   신정동     5\n",
       "119188  20180228   23           피자  서울특별시   강서구  내발산동     6\n",
       "\n",
       "[119189 rows x 7 columns]"
      ]
     },
     "execution_count": 59,
     "metadata": {},
     "output_type": "execute_result"
    }
   ],
   "source": [
    "deli = pd.read_csv('C:/Users/ZenBook/Desktop/냇물이/교육/code/data/delivery.csv')\n",
    "deli"
   ]
  },
  {
   "cell_type": "code",
   "execution_count": 60,
   "id": "3634530e",
   "metadata": {},
   "outputs": [
    {
     "data": {
      "text/plain": [
       "일자       int64\n",
       "시간대      int64\n",
       "업종      object\n",
       "시도      object\n",
       "시군구     object\n",
       "읍면동     object\n",
       "통화건수     int64\n",
       "dtype: object"
      ]
     },
     "execution_count": 60,
     "metadata": {},
     "output_type": "execute_result"
    }
   ],
   "source": [
    "deli.dtypes"
   ]
  },
  {
   "cell_type": "code",
   "execution_count": 61,
   "id": "5e71d73c",
   "metadata": {},
   "outputs": [
    {
     "data": {
      "text/plain": [
       "pandas.core.frame.DataFrame"
      ]
     },
     "execution_count": 61,
     "metadata": {},
     "output_type": "execute_result"
    }
   ],
   "source": [
    "type(deli)"
   ]
  },
  {
   "cell_type": "code",
   "execution_count": 62,
   "id": "a975d30b",
   "metadata": {},
   "outputs": [
    {
     "data": {
      "text/html": [
       "<div>\n",
       "<style scoped>\n",
       "    .dataframe tbody tr th:only-of-type {\n",
       "        vertical-align: middle;\n",
       "    }\n",
       "\n",
       "    .dataframe tbody tr th {\n",
       "        vertical-align: top;\n",
       "    }\n",
       "\n",
       "    .dataframe thead th {\n",
       "        text-align: right;\n",
       "    }\n",
       "</style>\n",
       "<table border=\"1\" class=\"dataframe\">\n",
       "  <thead>\n",
       "    <tr style=\"text-align: right;\">\n",
       "      <th></th>\n",
       "      <th>일자</th>\n",
       "      <th>시간대</th>\n",
       "      <th>업종</th>\n",
       "      <th>시도</th>\n",
       "      <th>시군구</th>\n",
       "      <th>읍면동</th>\n",
       "      <th>통화건수</th>\n",
       "    </tr>\n",
       "  </thead>\n",
       "  <tbody>\n",
       "    <tr>\n",
       "      <th>0</th>\n",
       "      <td>20180201</td>\n",
       "      <td>0</td>\n",
       "      <td>음식점-족발/보쌈전문</td>\n",
       "      <td>서울특별시</td>\n",
       "      <td>강남구</td>\n",
       "      <td>논현동</td>\n",
       "      <td>5</td>\n",
       "    </tr>\n",
       "    <tr>\n",
       "      <th>1</th>\n",
       "      <td>20180201</td>\n",
       "      <td>0</td>\n",
       "      <td>음식점-족발/보쌈전문</td>\n",
       "      <td>서울특별시</td>\n",
       "      <td>강남구</td>\n",
       "      <td>역삼동</td>\n",
       "      <td>5</td>\n",
       "    </tr>\n",
       "    <tr>\n",
       "      <th>2</th>\n",
       "      <td>20180201</td>\n",
       "      <td>0</td>\n",
       "      <td>음식점-족발/보쌈전문</td>\n",
       "      <td>서울특별시</td>\n",
       "      <td>강서구</td>\n",
       "      <td>내발산동</td>\n",
       "      <td>5</td>\n",
       "    </tr>\n",
       "    <tr>\n",
       "      <th>3</th>\n",
       "      <td>20180201</td>\n",
       "      <td>0</td>\n",
       "      <td>음식점-족발/보쌈전문</td>\n",
       "      <td>서울특별시</td>\n",
       "      <td>강서구</td>\n",
       "      <td>화곡동</td>\n",
       "      <td>5</td>\n",
       "    </tr>\n",
       "    <tr>\n",
       "      <th>4</th>\n",
       "      <td>20180201</td>\n",
       "      <td>0</td>\n",
       "      <td>음식점-족발/보쌈전문</td>\n",
       "      <td>서울특별시</td>\n",
       "      <td>동작구</td>\n",
       "      <td>신대방동</td>\n",
       "      <td>5</td>\n",
       "    </tr>\n",
       "  </tbody>\n",
       "</table>\n",
       "</div>"
      ],
      "text/plain": [
       "         일자  시간대           업종     시도  시군구   읍면동  통화건수\n",
       "0  20180201    0  음식점-족발/보쌈전문  서울특별시  강남구   논현동     5\n",
       "1  20180201    0  음식점-족발/보쌈전문  서울특별시  강남구   역삼동     5\n",
       "2  20180201    0  음식점-족발/보쌈전문  서울특별시  강서구  내발산동     5\n",
       "3  20180201    0  음식점-족발/보쌈전문  서울특별시  강서구   화곡동     5\n",
       "4  20180201    0  음식점-족발/보쌈전문  서울특별시  동작구  신대방동     5"
      ]
     },
     "execution_count": 62,
     "metadata": {},
     "output_type": "execute_result"
    }
   ],
   "source": [
    "deli.head()"
   ]
  },
  {
   "cell_type": "code",
   "execution_count": 63,
   "id": "0ea06a38",
   "metadata": {},
   "outputs": [
    {
     "name": "stdout",
     "output_type": "stream",
     "text": [
      "<class 'pandas.core.frame.DataFrame'>\n",
      "RangeIndex: 119189 entries, 0 to 119188\n",
      "Data columns (total 7 columns):\n",
      " #   Column  Non-Null Count   Dtype \n",
      "---  ------  --------------   ----- \n",
      " 0   일자      119189 non-null  int64 \n",
      " 1   시간대     119189 non-null  int64 \n",
      " 2   업종      119189 non-null  object\n",
      " 3   시도      119189 non-null  object\n",
      " 4   시군구     119189 non-null  object\n",
      " 5   읍면동     119189 non-null  object\n",
      " 6   통화건수    119189 non-null  int64 \n",
      "dtypes: int64(3), object(4)\n",
      "memory usage: 6.4+ MB\n"
     ]
    }
   ],
   "source": [
    "deli.info()"
   ]
  },
  {
   "cell_type": "code",
   "execution_count": 64,
   "id": "d1c10a26",
   "metadata": {},
   "outputs": [
    {
     "data": {
      "text/html": [
       "<div>\n",
       "<style scoped>\n",
       "    .dataframe tbody tr th:only-of-type {\n",
       "        vertical-align: middle;\n",
       "    }\n",
       "\n",
       "    .dataframe tbody tr th {\n",
       "        vertical-align: top;\n",
       "    }\n",
       "\n",
       "    .dataframe thead th {\n",
       "        text-align: right;\n",
       "    }\n",
       "</style>\n",
       "<table border=\"1\" class=\"dataframe\">\n",
       "  <thead>\n",
       "    <tr style=\"text-align: right;\">\n",
       "      <th></th>\n",
       "      <th>일자</th>\n",
       "      <th>시간대</th>\n",
       "      <th>통화건수</th>\n",
       "    </tr>\n",
       "  </thead>\n",
       "  <tbody>\n",
       "    <tr>\n",
       "      <th>count</th>\n",
       "      <td>1.191890e+05</td>\n",
       "      <td>119189.000000</td>\n",
       "      <td>119189.000000</td>\n",
       "    </tr>\n",
       "    <tr>\n",
       "      <th>mean</th>\n",
       "      <td>2.018021e+07</td>\n",
       "      <td>15.576362</td>\n",
       "      <td>9.916486</td>\n",
       "    </tr>\n",
       "    <tr>\n",
       "      <th>std</th>\n",
       "      <td>8.234111e+00</td>\n",
       "      <td>5.321848</td>\n",
       "      <td>13.904536</td>\n",
       "    </tr>\n",
       "    <tr>\n",
       "      <th>min</th>\n",
       "      <td>2.018020e+07</td>\n",
       "      <td>0.000000</td>\n",
       "      <td>5.000000</td>\n",
       "    </tr>\n",
       "    <tr>\n",
       "      <th>25%</th>\n",
       "      <td>2.018021e+07</td>\n",
       "      <td>13.000000</td>\n",
       "      <td>5.000000</td>\n",
       "    </tr>\n",
       "    <tr>\n",
       "      <th>50%</th>\n",
       "      <td>2.018021e+07</td>\n",
       "      <td>17.000000</td>\n",
       "      <td>5.000000</td>\n",
       "    </tr>\n",
       "    <tr>\n",
       "      <th>75%</th>\n",
       "      <td>2.018022e+07</td>\n",
       "      <td>19.000000</td>\n",
       "      <td>7.000000</td>\n",
       "    </tr>\n",
       "    <tr>\n",
       "      <th>max</th>\n",
       "      <td>2.018023e+07</td>\n",
       "      <td>23.000000</td>\n",
       "      <td>229.000000</td>\n",
       "    </tr>\n",
       "  </tbody>\n",
       "</table>\n",
       "</div>"
      ],
      "text/plain": [
       "                 일자            시간대           통화건수\n",
       "count  1.191890e+05  119189.000000  119189.000000\n",
       "mean   2.018021e+07      15.576362       9.916486\n",
       "std    8.234111e+00       5.321848      13.904536\n",
       "min    2.018020e+07       0.000000       5.000000\n",
       "25%    2.018021e+07      13.000000       5.000000\n",
       "50%    2.018021e+07      17.000000       5.000000\n",
       "75%    2.018022e+07      19.000000       7.000000\n",
       "max    2.018023e+07      23.000000     229.000000"
      ]
     },
     "execution_count": 64,
     "metadata": {},
     "output_type": "execute_result"
    }
   ],
   "source": [
    "deli.describe()"
   ]
  },
  {
   "cell_type": "code",
   "execution_count": 65,
   "id": "7cb81bf2",
   "metadata": {},
   "outputs": [
    {
     "data": {
      "text/plain": [
       "<AxesSubplot:>"
      ]
     },
     "execution_count": 65,
     "metadata": {},
     "output_type": "execute_result"
    },
    {
     "name": "stderr",
     "output_type": "stream",
     "text": [
      "C:\\ProgramData\\Anaconda3\\lib\\site-packages\\matplotlib\\backends\\backend_agg.py:238: RuntimeWarning: Glyph 51068 missing from current font.\n",
      "  font.set_text(s, 0.0, flags=flags)\n",
      "C:\\ProgramData\\Anaconda3\\lib\\site-packages\\matplotlib\\backends\\backend_agg.py:238: RuntimeWarning: Glyph 51088 missing from current font.\n",
      "  font.set_text(s, 0.0, flags=flags)\n",
      "C:\\ProgramData\\Anaconda3\\lib\\site-packages\\matplotlib\\backends\\backend_agg.py:238: RuntimeWarning: Glyph 49884 missing from current font.\n",
      "  font.set_text(s, 0.0, flags=flags)\n",
      "C:\\ProgramData\\Anaconda3\\lib\\site-packages\\matplotlib\\backends\\backend_agg.py:238: RuntimeWarning: Glyph 44036 missing from current font.\n",
      "  font.set_text(s, 0.0, flags=flags)\n",
      "C:\\ProgramData\\Anaconda3\\lib\\site-packages\\matplotlib\\backends\\backend_agg.py:238: RuntimeWarning: Glyph 45824 missing from current font.\n",
      "  font.set_text(s, 0.0, flags=flags)\n",
      "C:\\ProgramData\\Anaconda3\\lib\\site-packages\\matplotlib\\backends\\backend_agg.py:238: RuntimeWarning: Glyph 53685 missing from current font.\n",
      "  font.set_text(s, 0.0, flags=flags)\n",
      "C:\\ProgramData\\Anaconda3\\lib\\site-packages\\matplotlib\\backends\\backend_agg.py:238: RuntimeWarning: Glyph 54868 missing from current font.\n",
      "  font.set_text(s, 0.0, flags=flags)\n",
      "C:\\ProgramData\\Anaconda3\\lib\\site-packages\\matplotlib\\backends\\backend_agg.py:238: RuntimeWarning: Glyph 44148 missing from current font.\n",
      "  font.set_text(s, 0.0, flags=flags)\n",
      "C:\\ProgramData\\Anaconda3\\lib\\site-packages\\matplotlib\\backends\\backend_agg.py:238: RuntimeWarning: Glyph 49688 missing from current font.\n",
      "  font.set_text(s, 0.0, flags=flags)\n",
      "C:\\ProgramData\\Anaconda3\\lib\\site-packages\\matplotlib\\backends\\backend_agg.py:201: RuntimeWarning: Glyph 51068 missing from current font.\n",
      "  font.set_text(s, 0, flags=flags)\n",
      "C:\\ProgramData\\Anaconda3\\lib\\site-packages\\matplotlib\\backends\\backend_agg.py:201: RuntimeWarning: Glyph 51088 missing from current font.\n",
      "  font.set_text(s, 0, flags=flags)\n",
      "C:\\ProgramData\\Anaconda3\\lib\\site-packages\\matplotlib\\backends\\backend_agg.py:201: RuntimeWarning: Glyph 49884 missing from current font.\n",
      "  font.set_text(s, 0, flags=flags)\n",
      "C:\\ProgramData\\Anaconda3\\lib\\site-packages\\matplotlib\\backends\\backend_agg.py:201: RuntimeWarning: Glyph 44036 missing from current font.\n",
      "  font.set_text(s, 0, flags=flags)\n",
      "C:\\ProgramData\\Anaconda3\\lib\\site-packages\\matplotlib\\backends\\backend_agg.py:201: RuntimeWarning: Glyph 45824 missing from current font.\n",
      "  font.set_text(s, 0, flags=flags)\n",
      "C:\\ProgramData\\Anaconda3\\lib\\site-packages\\matplotlib\\backends\\backend_agg.py:201: RuntimeWarning: Glyph 53685 missing from current font.\n",
      "  font.set_text(s, 0, flags=flags)\n",
      "C:\\ProgramData\\Anaconda3\\lib\\site-packages\\matplotlib\\backends\\backend_agg.py:201: RuntimeWarning: Glyph 54868 missing from current font.\n",
      "  font.set_text(s, 0, flags=flags)\n",
      "C:\\ProgramData\\Anaconda3\\lib\\site-packages\\matplotlib\\backends\\backend_agg.py:201: RuntimeWarning: Glyph 44148 missing from current font.\n",
      "  font.set_text(s, 0, flags=flags)\n",
      "C:\\ProgramData\\Anaconda3\\lib\\site-packages\\matplotlib\\backends\\backend_agg.py:201: RuntimeWarning: Glyph 49688 missing from current font.\n",
      "  font.set_text(s, 0, flags=flags)\n"
     ]
    },
    {
     "data": {
      "image/png": "[encoded data removed]",
      "text/plain": [
       "<Figure size 432x288 with 1 Axes>"
      ]
     },
     "metadata": {
      "needs_background": "light"
     },
     "output_type": "display_data"
    }
   ],
   "source": [
    "deli.boxplot()"
   ]
  },
  {
   "cell_type": "markdown",
   "id": "fe09d50a",
   "metadata": {},
   "source": [
    "### 날짜 파싱"
   ]
  },
  {
   "cell_type": "code",
   "execution_count": 66,
   "id": "700e282b",
   "metadata": {},
   "outputs": [
    {
     "data": {
      "text/plain": [
       "0         20180201\n",
       "1         20180201\n",
       "2         20180201\n",
       "3         20180201\n",
       "4         20180201\n",
       "            ...   \n",
       "119184    20180228\n",
       "119185    20180228\n",
       "119186    20180228\n",
       "119187    20180228\n",
       "119188    20180228\n",
       "Name: 일자, Length: 119189, dtype: int64"
      ]
     },
     "execution_count": 66,
     "metadata": {},
     "output_type": "execute_result"
    }
   ],
   "source": [
    "deli['일자']"
   ]
  },
  {
   "cell_type": "code",
   "execution_count": 67,
   "id": "44b9dd53",
   "metadata": {},
   "outputs": [
    {
     "data": {
      "text/plain": [
       "pandas.core.series.Series"
      ]
     },
     "execution_count": 67,
     "metadata": {},
     "output_type": "execute_result"
    }
   ],
   "source": [
    "type(deli['일자'])"
   ]
  },
  {
   "cell_type": "code",
   "execution_count": 68,
   "id": "655c92af",
   "metadata": {},
   "outputs": [],
   "source": [
    "deli['일자'] = pd.to_datetime(deli['일자'],infer_datetime_format=True, format = '%Y%m%d')"
   ]
  },
  {
   "cell_type": "markdown",
   "id": "6211e8ca",
   "metadata": {},
   "source": [
    "### 요일 리턴"
   ]
  },
  {
   "cell_type": "code",
   "execution_count": 69,
   "id": "cb4be6a0",
   "metadata": {},
   "outputs": [
    {
     "ename": "TypeError",
     "evalue": "descriptor 'strftime' for 'datetime.date' objects doesn't apply to a 'Series' object",
     "output_type": "error",
     "traceback": [
      "\u001b[1;31m---------------------------------------------------------------------------\u001b[0m",
      "\u001b[1;31mTypeError\u001b[0m                                 Traceback (most recent call last)",
      "\u001b[1;32m<ipython-input-69-8ad80c042107>\u001b[0m in \u001b[0;36m<module>\u001b[1;34m\u001b[0m\n\u001b[1;32m----> 1\u001b[1;33m \u001b[0mdatetime\u001b[0m\u001b[1;33m.\u001b[0m\u001b[0mstrftime\u001b[0m\u001b[1;33m(\u001b[0m\u001b[0mdeli\u001b[0m\u001b[1;33m[\u001b[0m\u001b[1;34m'일자'\u001b[0m\u001b[1;33m]\u001b[0m\u001b[1;33m,\u001b[0m\u001b[1;34m'%A'\u001b[0m\u001b[1;33m)\u001b[0m \u001b[1;31m#요일리턴\u001b[0m\u001b[1;33m\u001b[0m\u001b[1;33m\u001b[0m\u001b[0m\n\u001b[0m",
      "\u001b[1;31mTypeError\u001b[0m: descriptor 'strftime' for 'datetime.date' objects doesn't apply to a 'Series' object"
     ]
    }
   ],
   "source": [
    "datetime.strftime(deli['일자'],'%A') #Series"
   ]
  },
  {
   "cell_type": "code",
   "execution_count": 70,
   "id": "ac9f7e21",
   "metadata": {},
   "outputs": [
    {
     "data": {
      "text/plain": [
       "0          Thursday\n",
       "1          Thursday\n",
       "2          Thursday\n",
       "3          Thursday\n",
       "4          Thursday\n",
       "            ...    \n",
       "119184    Wednesday\n",
       "119185    Wednesday\n",
       "119186    Wednesday\n",
       "119187    Wednesday\n",
       "119188    Wednesday\n",
       "Name: 일자, Length: 119189, dtype: object"
      ]
     },
     "execution_count": 70,
     "metadata": {},
     "output_type": "execute_result"
    }
   ],
   "source": [
    "deli['일자'].map(lambda x: datetime.strftime(x,'%A'))"
   ]
  },
  {
   "cell_type": "code",
   "execution_count": 71,
   "id": "ff49b6e2",
   "metadata": {},
   "outputs": [],
   "source": [
    "deli['요일'] = deli['일자'].map(lambda x: datetime.strftime(x,'%A'))"
   ]
  },
  {
   "cell_type": "markdown",
   "id": "6b9319b6",
   "metadata": {},
   "source": [
    "### 요일별로 그룹화(통화건수)"
   ]
  },
  {
   "cell_type": "code",
   "execution_count": 73,
   "id": "c8209db1",
   "metadata": {},
   "outputs": [
    {
     "data": {
      "text/plain": [
       "요일\n",
       "Friday       162037\n",
       "Monday       142157\n",
       "Saturday     196429\n",
       "Sunday       196096\n",
       "Thursday     150316\n",
       "Tuesday      158544\n",
       "Wednesday    176357\n",
       "Name: 통화건수, dtype: int64"
      ]
     },
     "execution_count": 73,
     "metadata": {},
     "output_type": "execute_result"
    }
   ],
   "source": [
    "deli.groupby(by = ['요일'])['통화건수'].sum()"
   ]
  },
  {
   "cell_type": "code",
   "execution_count": 74,
   "id": "d09a5b71",
   "metadata": {},
   "outputs": [],
   "source": [
    "total = deli.groupby('요일')['통화건수'].sum()"
   ]
  },
  {
   "cell_type": "code",
   "execution_count": 75,
   "id": "9eb1570a",
   "metadata": {},
   "outputs": [
    {
     "data": {
      "text/plain": [
       "요일\n",
       "Monday       142157\n",
       "Tuesday      158544\n",
       "Wednesday    176357\n",
       "Thursday     150316\n",
       "Friday       162037\n",
       "Saturday     196429\n",
       "Sunday       196096\n",
       "Name: 통화건수, dtype: int64"
      ]
     },
     "execution_count": 75,
     "metadata": {},
     "output_type": "execute_result"
    }
   ],
   "source": [
    "total[['Monday','Tuesday','Wednesday','Thursday','Friday','Saturday','Sunday']]\n",
    "#월화수목금토일 순으로 하기 위해 sort를 해도 알파벳순이라 적용이 x, 색인으로 처리해야 함"
   ]
  },
  {
   "cell_type": "markdown",
   "id": "28f07790",
   "metadata": {},
   "source": [
    "### 일자별 통화건수"
   ]
  },
  {
   "cell_type": "code",
   "execution_count": 76,
   "id": "810a09c7",
   "metadata": {},
   "outputs": [
    {
     "data": {
      "text/plain": [
       "일자\n",
       "2018-02-01    39653\n",
       "2018-02-02    46081\n",
       "2018-02-03    54124\n",
       "2018-02-04    50323\n",
       "2018-02-05    35023\n",
       "2018-02-06    38628\n",
       "2018-02-07    39371\n",
       "2018-02-08    40153\n",
       "2018-02-09    49116\n",
       "2018-02-10    54101\n",
       "2018-02-11    50795\n",
       "2018-02-12    36734\n",
       "2018-02-13    43097\n",
       "2018-02-14    45282\n",
       "2018-02-15    28201\n",
       "2018-02-16    16570\n",
       "2018-02-17    34789\n",
       "2018-02-18    43692\n",
       "2018-02-19    34259\n",
       "2018-02-20    38036\n",
       "2018-02-21    39381\n",
       "2018-02-22    42309\n",
       "2018-02-23    50270\n",
       "2018-02-24    53415\n",
       "2018-02-25    51286\n",
       "2018-02-26    36141\n",
       "2018-02-27    38783\n",
       "2018-02-28    52323\n",
       "Name: 통화건수, dtype: int64"
      ]
     },
     "execution_count": 76,
     "metadata": {},
     "output_type": "execute_result"
    }
   ],
   "source": [
    "deli.groupby('일자')['통화건수'].sum()"
   ]
  }
 ],
 "metadata": {
  "kernelspec": {
   "display_name": "Python 3",
   "language": "python",
   "name": "python3"
  },
  "language_info": {
   "codemirror_mode": {
    "name": "ipython",
    "version": 3
   },
   "file_extension": ".py",
   "mimetype": "text/x-python",
   "name": "python",
   "nbconvert_exporter": "python",
   "pygments_lexer": "ipython3",
   "version": "3.8.8"
  }
 },
 "nbformat": 4,
 "nbformat_minor": 5
}
