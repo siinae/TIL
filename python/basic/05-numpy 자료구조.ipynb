{
 "cells": [
  {
   "cell_type": "markdown",
   "id": "3d4e7c3d",
   "metadata": {},
   "source": [
    "### 자료구조\n",
    "- 1. 리스트 (기본구조)\n",
    "- 2. 튜플 (상수, 불변)\n",
    "- 3. 딕셔너리 (key:value)\n",
    "- 4. 세트(set): 집합 --> 반복되는 것을 하나로 봄\n",
    "- 5. 배열 (numpy)\n",
    "- 6. 판다스 구조 (Series, DataFrame)"
   ]
  },
  {
   "cell_type": "markdown",
   "id": "9897d983",
   "metadata": {},
   "source": [
    "#### numpy\n",
    "- 배열(array) 생성, 연산\n",
    "- 배열은 하나의 데이터 타입만 허용 (int, float, str 등)\n",
    "- 다차원 자료구조"
   ]
  },
  {
   "cell_type": "code",
   "execution_count": 3,
   "id": "2bf3bff5",
   "metadata": {},
   "outputs": [
    {
     "data": {
      "text/plain": [
       "array([1, 2, 3])"
      ]
     },
     "execution_count": 3,
     "metadata": {},
     "output_type": "execute_result"
    }
   ],
   "source": [
    "#1차원배열\n",
    "import numpy as np\n",
    "np.array([1,2,3]) "
   ]
  },
  {
   "cell_type": "code",
   "execution_count": 5,
   "id": "ccf96513",
   "metadata": {},
   "outputs": [
    {
     "data": {
      "text/plain": [
       "array([[1, 2, 3],\n",
       "       [4, 5, 6],\n",
       "       [7, 8, 9]])"
      ]
     },
     "execution_count": 5,
     "metadata": {},
     "output_type": "execute_result"
    }
   ],
   "source": [
    "#2차원배열\n",
    "np.array([[1,2,3],[4,5,6],[7,8,9]])"
   ]
  },
  {
   "cell_type": "code",
   "execution_count": 6,
   "id": "d3379d54",
   "metadata": {},
   "outputs": [
    {
     "data": {
      "text/plain": [
       "array([[[ 1,  2,  3],\n",
       "        [ 4,  5,  6]],\n",
       "\n",
       "       [[ 7,  8,  9],\n",
       "        [10, 11, 12]]])"
      ]
     },
     "execution_count": 6,
     "metadata": {},
     "output_type": "execute_result"
    }
   ],
   "source": [
    "#3차원배열\n",
    "np.array([[[1,2,3],[4,5,6]],[[7,8,9],[10,11,12]]])"
   ]
  },
  {
   "cell_type": "code",
   "execution_count": 7,
   "id": "afbc4f9f",
   "metadata": {},
   "outputs": [
    {
     "data": {
      "text/plain": [
       "array([ 1,  2,  3,  4,  5,  6,  7,  8,  9, 10, 11, 12, 13, 14, 15, 16, 17,\n",
       "       18, 19, 20, 21, 22, 23, 24, 25])"
      ]
     },
     "execution_count": 7,
     "metadata": {},
     "output_type": "execute_result"
    }
   ],
   "source": [
    "np.arange(1,26)"
   ]
  },
  {
   "cell_type": "code",
   "execution_count": 8,
   "id": "1c9c4431",
   "metadata": {},
   "outputs": [
    {
     "data": {
      "text/plain": [
       "array([[ 1,  2,  3,  4,  5],\n",
       "       [ 6,  7,  8,  9, 10],\n",
       "       [11, 12, 13, 14, 15],\n",
       "       [16, 17, 18, 19, 20],\n",
       "       [21, 22, 23, 24, 25]])"
      ]
     },
     "execution_count": 8,
     "metadata": {},
     "output_type": "execute_result"
    }
   ],
   "source": [
    "np.arange(1,26).reshape(5,5) "
   ]
  },
  {
   "cell_type": "code",
   "execution_count": 9,
   "id": "72a75940",
   "metadata": {},
   "outputs": [
    {
     "data": {
      "text/plain": [
       "numpy.ndarray"
      ]
     },
     "execution_count": 9,
     "metadata": {},
     "output_type": "execute_result"
    }
   ],
   "source": [
    "a1 = np.arange(1,26).reshape(5,5) \n",
    "type(a1)"
   ]
  },
  {
   "cell_type": "markdown",
   "id": "721b72fe",
   "metadata": {},
   "source": [
    "#### 1) 색인"
   ]
  },
  {
   "cell_type": "code",
   "execution_count": 10,
   "id": "0cda37c2",
   "metadata": {},
   "outputs": [],
   "source": [
    "a2 = np.array([[1,2,3],[4,5,6],[7,8,9]])"
   ]
  },
  {
   "cell_type": "code",
   "execution_count": 11,
   "id": "edad0649",
   "metadata": {},
   "outputs": [
    {
     "data": {
      "text/plain": [
       "array([4, 5, 6])"
      ]
     },
     "execution_count": 11,
     "metadata": {},
     "output_type": "execute_result"
    }
   ],
   "source": [
    "a2[1,:]"
   ]
  },
  {
   "cell_type": "code",
   "execution_count": 12,
   "id": "d9e4051d",
   "metadata": {},
   "outputs": [
    {
     "data": {
      "text/plain": [
       "array([2, 5, 8])"
      ]
     },
     "execution_count": 12,
     "metadata": {},
     "output_type": "execute_result"
    }
   ],
   "source": [
    "#정수색인 (두번째 열 선택: 차원 축소 발생)\n",
    "a2[:,1]\n",
    "#1차원"
   ]
  },
  {
   "cell_type": "code",
   "execution_count": 14,
   "id": "3de58316",
   "metadata": {},
   "outputs": [
    {
     "data": {
      "text/plain": [
       "array([[2],\n",
       "       [5],\n",
       "       [8]])"
      ]
     },
     "execution_count": 14,
     "metadata": {},
     "output_type": "execute_result"
    }
   ],
   "source": [
    "#슬라이스 색인 (두번째 열 선택 : 차원 축소가 발생하지 않음)\n",
    "a2[:,1:2]\n",
    "#2차원 , 모든 행의 1열"
   ]
  },
  {
   "cell_type": "code",
   "execution_count": 15,
   "id": "44124a50",
   "metadata": {},
   "outputs": [
    {
     "data": {
      "text/plain": [
       "array([[1, 2, 3],\n",
       "       [7, 8, 9]])"
      ]
     },
     "execution_count": 15,
     "metadata": {},
     "output_type": "execute_result"
    }
   ],
   "source": [
    "#interval\n",
    "a2[0:3:2,:]"
   ]
  },
  {
   "cell_type": "code",
   "execution_count": 16,
   "id": "b3fe1da7",
   "metadata": {},
   "outputs": [
    {
     "data": {
      "text/plain": [
       "array([[1, 3],\n",
       "       [4, 6],\n",
       "       [7, 9]])"
      ]
     },
     "execution_count": 16,
     "metadata": {},
     "output_type": "execute_result"
    }
   ],
   "source": [
    "a2[:,[0,2]]"
   ]
  },
  {
   "cell_type": "code",
   "execution_count": 17,
   "id": "85cda1da",
   "metadata": {},
   "outputs": [
    {
     "data": {
      "text/plain": [
       "5"
      ]
     },
     "execution_count": 17,
     "metadata": {},
     "output_type": "execute_result"
    }
   ],
   "source": [
    "a2[1,1]"
   ]
  },
  {
   "cell_type": "code",
   "execution_count": 19,
   "id": "e9b40cf5",
   "metadata": {},
   "outputs": [
    {
     "data": {
      "text/plain": [
       "array([[1, 2, 3],\n",
       "       [4, 5, 6],\n",
       "       [7, 8, 9]])"
      ]
     },
     "execution_count": 19,
     "metadata": {},
     "output_type": "execute_result"
    }
   ],
   "source": [
    "a2"
   ]
  },
  {
   "cell_type": "code",
   "execution_count": 18,
   "id": "a83f5aba",
   "metadata": {},
   "outputs": [
    {
     "data": {
      "text/plain": [
       "array([5, 9])"
      ]
     },
     "execution_count": 18,
     "metadata": {},
     "output_type": "execute_result"
    }
   ],
   "source": [
    "a2[[1,2],[1,2]]\n",
    "#원하는 출력 결과는 5,6,8,9 (1,2행과 1,2열의 겹치는 부분)\n",
    "#a2[1,1],a2[2,2] 과 같은 포인트 인덱싱으로 인식\n",
    "#색인함수 (ix_()) 를 사용하여 해결 가능"
   ]
  },
  {
   "cell_type": "code",
   "execution_count": 20,
   "id": "a3df033d",
   "metadata": {},
   "outputs": [
    {
     "data": {
      "text/plain": [
       "array([[5, 6],\n",
       "       [8, 9]])"
      ]
     },
     "execution_count": 20,
     "metadata": {},
     "output_type": "execute_result"
    }
   ],
   "source": [
    "a2[np.ix_([1,2],[1,2])]\n",
    "#2차원 출력"
   ]
  },
  {
   "cell_type": "code",
   "execution_count": 23,
   "id": "c0abb5e4",
   "metadata": {},
   "outputs": [
    {
     "data": {
      "text/plain": [
       "array([[0, 1, 2, 3, 4],\n",
       "       [5, 6, 7, 8, 9]])"
      ]
     },
     "execution_count": 23,
     "metadata": {},
     "output_type": "execute_result"
    }
   ],
   "source": [
    "a = np.arange(10).reshape(2,5)\n",
    "a"
   ]
  },
  {
   "cell_type": "code",
   "execution_count": 24,
   "id": "ebf1d44a",
   "metadata": {},
   "outputs": [
    {
     "data": {
      "text/plain": [
       "(array([[0],\n",
       "        [1]]),\n",
       " array([[2, 4]]))"
      ]
     },
     "execution_count": 24,
     "metadata": {},
     "output_type": "execute_result"
    }
   ],
   "source": [
    "ixgrid = np.ix_([0,1],[2,4])\n",
    "ixgrid"
   ]
  },
  {
   "cell_type": "code",
   "execution_count": 25,
   "id": "024fc599",
   "metadata": {},
   "outputs": [
    {
     "data": {
      "text/plain": [
       "(2, 1)"
      ]
     },
     "execution_count": 25,
     "metadata": {},
     "output_type": "execute_result"
    }
   ],
   "source": [
    "ixgrid[0].shape"
   ]
  },
  {
   "cell_type": "code",
   "execution_count": 26,
   "id": "0c6a7e45",
   "metadata": {},
   "outputs": [
    {
     "data": {
      "text/plain": [
       "(1, 2)"
      ]
     },
     "execution_count": 26,
     "metadata": {},
     "output_type": "execute_result"
    }
   ],
   "source": [
    "ixgrid[1].shape"
   ]
  },
  {
   "cell_type": "code",
   "execution_count": 27,
   "id": "170bf2f8",
   "metadata": {},
   "outputs": [
    {
     "data": {
      "text/plain": [
       "array([[2, 4],\n",
       "       [7, 9]])"
      ]
     },
     "execution_count": 27,
     "metadata": {},
     "output_type": "execute_result"
    }
   ],
   "source": [
    "a[ixgrid]"
   ]
  },
  {
   "cell_type": "markdown",
   "id": "08ff18f1",
   "metadata": {},
   "source": [
    "#### 2) 조건 색인"
   ]
  },
  {
   "cell_type": "code",
   "execution_count": 28,
   "id": "034d98ff",
   "metadata": {},
   "outputs": [
    {
     "data": {
      "text/plain": [
       "array([[False, False, False],\n",
       "       [False, False,  True],\n",
       "       [ True,  True,  True]])"
      ]
     },
     "execution_count": 28,
     "metadata": {},
     "output_type": "execute_result"
    }
   ],
   "source": [
    "a2 > 5"
   ]
  },
  {
   "cell_type": "code",
   "execution_count": 30,
   "id": "155aefb7",
   "metadata": {},
   "outputs": [
    {
     "data": {
      "text/plain": [
       "array([6, 7, 8, 9])"
      ]
     },
     "execution_count": 30,
     "metadata": {},
     "output_type": "execute_result"
    }
   ],
   "source": [
    "a2[a2 > 5] #True만 출력"
   ]
  },
  {
   "cell_type": "code",
   "execution_count": 31,
   "id": "ba464864",
   "metadata": {},
   "outputs": [
    {
     "data": {
      "text/plain": [
       "array([False, False,  True])"
      ]
     },
     "execution_count": 31,
     "metadata": {},
     "output_type": "execute_result"
    }
   ],
   "source": [
    "a2[:,0] > 5 #첫번째 컬럼 중 5보다 큰 값"
   ]
  },
  {
   "cell_type": "code",
   "execution_count": 32,
   "id": "ebe130c4",
   "metadata": {},
   "outputs": [
    {
     "data": {
      "text/plain": [
       "array([[7, 8, 9]])"
      ]
     },
     "execution_count": 32,
     "metadata": {},
     "output_type": "execute_result"
    }
   ],
   "source": [
    "a2[a2[:,0] > 5,:]\n",
    "#2차원\n",
    "#조건 결과를 행 방향에 색인 값으로 전달"
   ]
  },
  {
   "cell_type": "markdown",
   "id": "9f0c7ae3",
   "metadata": {},
   "source": [
    "#### 3) 메서드"
   ]
  },
  {
   "cell_type": "code",
   "execution_count": 34,
   "id": "53779d97",
   "metadata": {},
   "outputs": [
    {
     "data": {
      "text/plain": [
       "dtype('int32')"
      ]
     },
     "execution_count": 34,
     "metadata": {},
     "output_type": "execute_result"
    }
   ],
   "source": [
    "a2.dtype #numpy 구성 데이터 타입"
   ]
  },
  {
   "cell_type": "code",
   "execution_count": 35,
   "id": "edc5818e",
   "metadata": {},
   "outputs": [
    {
     "data": {
      "text/plain": [
       "(3, 3)"
      ]
     },
     "execution_count": 35,
     "metadata": {},
     "output_type": "execute_result"
    }
   ],
   "source": [
    "a2.shape"
   ]
  },
  {
   "cell_type": "code",
   "execution_count": 36,
   "id": "5010be2a",
   "metadata": {},
   "outputs": [
    {
     "data": {
      "text/plain": [
       "array([[1, 2, 3, 4, 5, 6, 7, 8, 9]])"
      ]
     },
     "execution_count": 36,
     "metadata": {},
     "output_type": "execute_result"
    }
   ],
   "source": [
    "a2.reshape(1,9) #array 모양 변경"
   ]
  },
  {
   "cell_type": "code",
   "execution_count": 38,
   "id": "3bb96876",
   "metadata": {},
   "outputs": [
    {
     "data": {
      "text/plain": [
       "2"
      ]
     },
     "execution_count": 38,
     "metadata": {},
     "output_type": "execute_result"
    }
   ],
   "source": [
    "a2.ndim  #array 차원 (number, dimension)"
   ]
  },
  {
   "cell_type": "markdown",
   "id": "391f362e",
   "metadata": {},
   "source": [
    "#### 4) 연산"
   ]
  },
  {
   "cell_type": "code",
   "execution_count": 40,
   "id": "b4b7512d",
   "metadata": {},
   "outputs": [
    {
     "data": {
      "text/plain": [
       "[1, 2, 3, 4, 5, 6]"
      ]
     },
     "execution_count": 40,
     "metadata": {},
     "output_type": "execute_result"
    }
   ],
   "source": [
    "[1,2,3] + [4,5,6]  \n",
    "#list는 원소끼리의 연산이 불가능, 확장으로 해석 됨"
   ]
  },
  {
   "cell_type": "markdown",
   "id": "2ab82bb8",
   "metadata": {},
   "source": [
    "연산할 수 있는 방법 --> numpy "
   ]
  },
  {
   "cell_type": "code",
   "execution_count": 42,
   "id": "d3f443be",
   "metadata": {},
   "outputs": [
    {
     "data": {
      "text/plain": [
       "array([5, 7, 9])"
      ]
     },
     "execution_count": 42,
     "metadata": {},
     "output_type": "execute_result"
    }
   ],
   "source": [
    "np.array([1,2,3]) + np.array([4,5,6])\n",
    "#size가 같아야 함"
   ]
  },
  {
   "cell_type": "markdown",
   "id": "ae644407",
   "metadata": {},
   "source": [
    "#### 5) 형(type) 변환 메서드"
   ]
  },
  {
   "cell_type": "code",
   "execution_count": 44,
   "id": "72b822d4",
   "metadata": {},
   "outputs": [
    {
     "data": {
      "text/plain": [
       "array([[1., 2., 3.],\n",
       "       [4., 5., 6.],\n",
       "       [7., 8., 9.]])"
      ]
     },
     "execution_count": 44,
     "metadata": {},
     "output_type": "execute_result"
    }
   ],
   "source": [
    "a2.astype('float')"
   ]
  },
  {
   "cell_type": "code",
   "execution_count": 47,
   "id": "be8feacc",
   "metadata": {},
   "outputs": [
    {
     "data": {
      "text/plain": [
       "array([[1, 2, 3],\n",
       "       [4, 5, 6],\n",
       "       [7, 8, 9]])"
      ]
     },
     "execution_count": 47,
     "metadata": {},
     "output_type": "execute_result"
    }
   ],
   "source": [
    "a2.astype('int')"
   ]
  },
  {
   "cell_type": "code",
   "execution_count": 48,
   "id": "5b25d913",
   "metadata": {},
   "outputs": [
    {
     "data": {
      "text/plain": [
       "array([['1', '2', '3'],\n",
       "       ['4', '5', '6'],\n",
       "       ['7', '8', '9']], dtype='<U11')"
      ]
     },
     "execution_count": 48,
     "metadata": {},
     "output_type": "execute_result"
    }
   ],
   "source": [
    "a2.astype('str')"
   ]
  },
  {
   "cell_type": "markdown",
   "id": "2b2a83f3",
   "metadata": {},
   "source": [
    "#### 6) np.where 함수\n",
    "- if 문의 축약\n",
    "- np.where(조건, 참일 때의 값, 거짓일 때의 값)\n",
    "- cf. SQL문 기본형태: select * from db where"
   ]
  },
  {
   "cell_type": "code",
   "execution_count": 49,
   "id": "554f596a",
   "metadata": {},
   "outputs": [
    {
     "data": {
      "text/plain": [
       "array([['B', 'B', 'B'],\n",
       "       ['B', 'B', 'A'],\n",
       "       ['A', 'A', 'A']], dtype='<U1')"
      ]
     },
     "execution_count": 49,
     "metadata": {},
     "output_type": "execute_result"
    }
   ],
   "source": [
    "np.where(a2>5,'A','B')"
   ]
  },
  {
   "cell_type": "markdown",
   "id": "91681f27",
   "metadata": {},
   "source": [
    "####  7) 산술 연산 메서드"
   ]
  },
  {
   "cell_type": "code",
   "execution_count": 50,
   "id": "438506ba",
   "metadata": {},
   "outputs": [
    {
     "ename": "AttributeError",
     "evalue": "'numpy.ndarray' object has no attribute 'describe'",
     "output_type": "error",
     "traceback": [
      "\u001b[1;31m---------------------------------------------------------------------------\u001b[0m",
      "\u001b[1;31mAttributeError\u001b[0m                            Traceback (most recent call last)",
      "\u001b[1;32m<ipython-input-50-84e8b868b224>\u001b[0m in \u001b[0;36m<module>\u001b[1;34m\u001b[0m\n\u001b[1;32m----> 1\u001b[1;33m \u001b[0ma2\u001b[0m\u001b[1;33m.\u001b[0m\u001b[0mdescribe\u001b[0m\u001b[1;33m(\u001b[0m\u001b[1;33m)\u001b[0m\u001b[1;33m\u001b[0m\u001b[1;33m\u001b[0m\u001b[0m\n\u001b[0m\u001b[0;32m      2\u001b[0m \u001b[1;31m#배열은 불가능, pandas에서 가능\u001b[0m\u001b[1;33m\u001b[0m\u001b[1;33m\u001b[0m\u001b[1;33m\u001b[0m\u001b[0m\n",
      "\u001b[1;31mAttributeError\u001b[0m: 'numpy.ndarray' object has no attribute 'describe'"
     ]
    }
   ],
   "source": [
    "a2.describe()\n",
    "#배열은 불가능, pandas에서 가능"
   ]
  },
  {
   "cell_type": "code",
   "execution_count": 52,
   "id": "2c216e0b",
   "metadata": {},
   "outputs": [
    {
     "data": {
      "text/plain": [
       "45"
      ]
     },
     "execution_count": 52,
     "metadata": {},
     "output_type": "execute_result"
    }
   ],
   "source": [
    "a2.sum() #전체합"
   ]
  },
  {
   "cell_type": "code",
   "execution_count": 53,
   "id": "16413b6d",
   "metadata": {},
   "outputs": [
    {
     "data": {
      "text/plain": [
       "5.0"
      ]
     },
     "execution_count": 53,
     "metadata": {},
     "output_type": "execute_result"
    }
   ],
   "source": [
    "a2.mean() #전체평균"
   ]
  },
  {
   "cell_type": "code",
   "execution_count": 54,
   "id": "86b6b346",
   "metadata": {},
   "outputs": [
    {
     "data": {
      "text/plain": [
       "6.666666666666667"
      ]
     },
     "execution_count": 54,
     "metadata": {},
     "output_type": "execute_result"
    }
   ],
   "source": [
    "a2.var() #전체분산"
   ]
  },
  {
   "cell_type": "code",
   "execution_count": 55,
   "id": "525a6be4",
   "metadata": {},
   "outputs": [
    {
     "data": {
      "text/plain": [
       "2.581988897471611"
      ]
     },
     "execution_count": 55,
     "metadata": {},
     "output_type": "execute_result"
    }
   ],
   "source": [
    "a2.std() #전체표준편차(평균에서 떨어진 정도)"
   ]
  },
  {
   "cell_type": "code",
   "execution_count": 56,
   "id": "e39cb64f",
   "metadata": {},
   "outputs": [
    {
     "data": {
      "text/plain": [
       "1"
      ]
     },
     "execution_count": 56,
     "metadata": {},
     "output_type": "execute_result"
    }
   ],
   "source": [
    "a2.min()  #전체 최소값"
   ]
  },
  {
   "cell_type": "code",
   "execution_count": 57,
   "id": "cb54bc8f",
   "metadata": {},
   "outputs": [
    {
     "data": {
      "text/plain": [
       "9"
      ]
     },
     "execution_count": 57,
     "metadata": {},
     "output_type": "execute_result"
    }
   ],
   "source": [
    "a2.max() #전체 최대값"
   ]
  },
  {
   "cell_type": "code",
   "execution_count": 58,
   "id": "aff7b185",
   "metadata": {},
   "outputs": [
    {
     "data": {
      "text/plain": [
       "4"
      ]
     },
     "execution_count": 58,
     "metadata": {},
     "output_type": "execute_result"
    }
   ],
   "source": [
    "(a2 > 5).sum()  \n",
    "#a2에서 5보다 큰 값의 합(큰 값의 '개수')\n",
    "#True=1, False=0"
   ]
  },
  {
   "cell_type": "code",
   "execution_count": 60,
   "id": "577c04d8",
   "metadata": {},
   "outputs": [
    {
     "data": {
      "text/plain": [
       "True"
      ]
     },
     "execution_count": 60,
     "metadata": {},
     "output_type": "execute_result"
    }
   ],
   "source": [
    "(a2 > 5).any()  \n",
    "#a2에 5보다 큰 값이 하나라도 있을 경우 True"
   ]
  },
  {
   "cell_type": "code",
   "execution_count": 61,
   "id": "3c15afc7",
   "metadata": {},
   "outputs": [
    {
     "data": {
      "text/plain": [
       "False"
      ]
     },
     "execution_count": 61,
     "metadata": {},
     "output_type": "execute_result"
    }
   ],
   "source": [
    "(a2 > 5).all()  \n",
    "#a2의 값이 모두 5보다 클 경우만 True"
   ]
  },
  {
   "cell_type": "code",
   "execution_count": 63,
   "id": "72fc14a5",
   "metadata": {},
   "outputs": [
    {
     "data": {
      "text/plain": [
       "array([12, 15, 18])"
      ]
     },
     "execution_count": 63,
     "metadata": {},
     "output_type": "execute_result"
    }
   ],
   "source": [
    "a2.sum(axis = 0)\n",
    "#서로 다른 행 원소끼리 더하기 (열의 합)\n",
    "#1행의 첫번째 +  2행의 첫번째 + 3행의 첫번째\n",
    "#하나의 열처럼 더함"
   ]
  },
  {
   "cell_type": "code",
   "execution_count": 65,
   "id": "77a4ca09",
   "metadata": {},
   "outputs": [
    {
     "data": {
      "text/plain": [
       "array([ 6, 15, 24])"
      ]
     },
     "execution_count": 65,
     "metadata": {},
     "output_type": "execute_result"
    }
   ],
   "source": [
    "a2.sum(axis = 1)\n",
    "#서로 다른 열 원소끼리 더하기 (행의 합)\n",
    "#1열의 첫번째 +  2열의 첫번째 + 3열의 첫번째\n",
    "#하나의 행처럼 더함"
   ]
  },
  {
   "cell_type": "code",
   "execution_count": 66,
   "id": "2c8f1c9d",
   "metadata": {},
   "outputs": [],
   "source": [
    "#축 번호\n",
    "#2차원 : 행(0) 열(1)\n",
    "#3차원 : 층(0) 행(1) 열(2)"
   ]
  },
  {
   "cell_type": "markdown",
   "id": "82937cad",
   "metadata": {},
   "source": [
    "#### 8) 전치 메서드"
   ]
  },
  {
   "cell_type": "code",
   "execution_count": 67,
   "id": "715a17d5",
   "metadata": {},
   "outputs": [
    {
     "data": {
      "text/plain": [
       "array([1, 2, 3, 4, 5, 6, 7, 8])"
      ]
     },
     "execution_count": 67,
     "metadata": {},
     "output_type": "execute_result"
    }
   ],
   "source": [
    "np.arange(1,9)"
   ]
  },
  {
   "cell_type": "code",
   "execution_count": 69,
   "id": "ec347730",
   "metadata": {},
   "outputs": [
    {
     "data": {
      "text/plain": [
       "array([[1, 2],\n",
       "       [3, 4],\n",
       "       [5, 6],\n",
       "       [7, 8]])"
      ]
     },
     "execution_count": 69,
     "metadata": {},
     "output_type": "execute_result"
    }
   ],
   "source": [
    "a1 = np.arange(1,9).reshape(4,2)\n",
    "a1"
   ]
  },
  {
   "cell_type": "markdown",
   "id": "a3452c73",
   "metadata": {},
   "source": [
    "1) 행과 열의 전치(T)"
   ]
  },
  {
   "cell_type": "code",
   "execution_count": 70,
   "id": "b8d5bbb4",
   "metadata": {},
   "outputs": [
    {
     "data": {
      "text/plain": [
       "array([[1, 3, 5, 7],\n",
       "       [2, 4, 6, 8]])"
      ]
     },
     "execution_count": 70,
     "metadata": {},
     "output_type": "execute_result"
    }
   ],
   "source": [
    "a1.T"
   ]
  },
  {
   "cell_type": "markdown",
   "id": "4471d17f",
   "metadata": {},
   "source": [
    "2) swapaxes : 두 축을 전달 받아 서로 전치, 전달순서는 중요하지 않음"
   ]
  },
  {
   "cell_type": "code",
   "execution_count": 72,
   "id": "837da3fa",
   "metadata": {},
   "outputs": [
    {
     "data": {
      "text/plain": [
       "array([[1, 3, 5, 7],\n",
       "       [2, 4, 6, 8]])"
      ]
     },
     "execution_count": 72,
     "metadata": {},
     "output_type": "execute_result"
    }
   ],
   "source": [
    "#axes : 축\n",
    "a1.swapaxes(0,1)"
   ]
  },
  {
   "cell_type": "code",
   "execution_count": 73,
   "id": "6d856f2c",
   "metadata": {},
   "outputs": [
    {
     "data": {
      "text/plain": [
       "array([[1, 3, 5, 7],\n",
       "       [2, 4, 6, 8]])"
      ]
     },
     "execution_count": 73,
     "metadata": {},
     "output_type": "execute_result"
    }
   ],
   "source": [
    "a1.swapaxes(1,0)"
   ]
  },
  {
   "cell_type": "markdown",
   "id": "0092b563",
   "metadata": {},
   "source": [
    "3) transpose : 원본의 차원에 맞는 축번호를 인수에 차례대로 전달, 전달순서 중요함"
   ]
  },
  {
   "cell_type": "code",
   "execution_count": 74,
   "id": "0de08512",
   "metadata": {},
   "outputs": [
    {
     "data": {
      "text/plain": [
       "array([[1, 2],\n",
       "       [3, 4],\n",
       "       [5, 6],\n",
       "       [7, 8]])"
      ]
     },
     "execution_count": 74,
     "metadata": {},
     "output_type": "execute_result"
    }
   ],
   "source": [
    "a1.transpose(0,1) #행과 열 전치"
   ]
  },
  {
   "cell_type": "code",
   "execution_count": 75,
   "id": "b49e89df",
   "metadata": {},
   "outputs": [
    {
     "data": {
      "text/plain": [
       "array([[1, 3, 5, 7],\n",
       "       [2, 4, 6, 8]])"
      ]
     },
     "execution_count": 75,
     "metadata": {},
     "output_type": "execute_result"
    }
   ],
   "source": [
    "a1.transpose(1,0) #원본 그대로 출력"
   ]
  },
  {
   "cell_type": "markdown",
   "id": "215f909a",
   "metadata": {},
   "source": [
    "#### 9) 외부파일 입출력"
   ]
  },
  {
   "cell_type": "markdown",
   "id": "9b113598",
   "metadata": {},
   "source": [
    "1) 파일 불러오기"
   ]
  },
  {
   "cell_type": "code",
   "execution_count": null,
   "id": "d0dcb257",
   "metadata": {},
   "outputs": [],
   "source": [
    "'''\n",
    "np.loadtxt(fname,      #파일명\n",
    "           dtype,      #데이터타입\n",
    "           delimiter,  #구분자(필드 구분 기호)\n",
    "           skiprows,   #skip 할 행의 수\n",
    "           usecols,    #선택할 컬럼 위치(값)\n",
    "           encoding)   #인코딩 옵션\n",
    "'''"
   ]
  },
  {
   "cell_type": "code",
   "execution_count": null,
   "id": "c0de6fbf",
   "metadata": {},
   "outputs": [],
   "source": [
    "#np.loadtxt('C:/Users/ZenBook/Desktop/data/file1.txt', delimiter = ',',dtype = 'str')"
   ]
  },
  {
   "cell_type": "markdown",
   "id": "64754d31",
   "metadata": {},
   "source": [
    "2) 파일 내려쓰기"
   ]
  },
  {
   "cell_type": "code",
   "execution_count": null,
   "id": "137a8aa7",
   "metadata": {},
   "outputs": [],
   "source": [
    "'''\n",
    "np.savetxt(fname,      # 파일명\n",
    "            X,          # 객체명\n",
    "            delimiter,  # 구분자\n",
    "            fmt,        # 출력형식(format)\n",
    "            header,     # 헤더 출력 여부(file 첫 문자열)\n",
    "            encoding)   # 인코딩 옵션\n",
    "'''"
   ]
  },
  {
   "cell_type": "code",
   "execution_count": 77,
   "id": "fc172bc9",
   "metadata": {},
   "outputs": [],
   "source": [
    "#x = np.arange(0.0,5.0,1.0)\n",
    "#np.savetxt('C:/Users/ZenBook/Desktop/data/file1.txt', x, delimiter = ',', fmt = '%s')"
   ]
  },
  {
   "cell_type": "markdown",
   "id": "8c4b9ec0",
   "metadata": {},
   "source": [
    "#### [참고: fmt(포맷) 전달/변경 방식]\n",
    "- %s : 문자열\n",
    "- %f : float(실수)\n",
    "- %d : 정수"
   ]
  },
  {
   "cell_type": "code",
   "execution_count": 78,
   "id": "c7bbb780",
   "metadata": {},
   "outputs": [
    {
     "data": {
      "text/plain": [
       "'123'"
      ]
     },
     "execution_count": 78,
     "metadata": {},
     "output_type": "execute_result"
    }
   ],
   "source": [
    "'%s' % 123 #문자로 바꿈"
   ]
  },
  {
   "cell_type": "code",
   "execution_count": 79,
   "id": "7161d499",
   "metadata": {},
   "outputs": [
    {
     "data": {
      "text/plain": [
       "'123.000000'"
      ]
     },
     "execution_count": 79,
     "metadata": {},
     "output_type": "execute_result"
    }
   ],
   "source": [
    "'%f' % 123 #실수로 바꿈"
   ]
  },
  {
   "cell_type": "code",
   "execution_count": 83,
   "id": "721a9ae8",
   "metadata": {},
   "outputs": [
    {
     "data": {
      "text/plain": [
       "'123.00'"
      ]
     },
     "execution_count": 83,
     "metadata": {},
     "output_type": "execute_result"
    }
   ],
   "source": [
    "'%.2f' % 123 #실수형으로 바꾸고 소수점 둘째자리까지 표현"
   ]
  },
  {
   "cell_type": "code",
   "execution_count": 81,
   "id": "7d92a3a0",
   "metadata": {},
   "outputs": [
    {
     "data": {
      "text/plain": [
       "'123'"
      ]
     },
     "execution_count": 81,
     "metadata": {},
     "output_type": "execute_result"
    }
   ],
   "source": [
    "'%d' % 123 "
   ]
  },
  {
   "cell_type": "code",
   "execution_count": 85,
   "id": "b80b5ed3",
   "metadata": {},
   "outputs": [
    {
     "data": {
      "text/plain": [
       "'    123'"
      ]
     },
     "execution_count": 85,
     "metadata": {},
     "output_type": "execute_result"
    }
   ],
   "source": [
    "'%7d' % 123 "
   ]
  }
 ],
 "metadata": {
  "kernelspec": {
   "display_name": "Python 3",
   "language": "python",
   "name": "python3"
  },
  "language_info": {
   "codemirror_mode": {
    "name": "ipython",
    "version": 3
   },
   "file_extension": ".py",
   "mimetype": "text/x-python",
   "name": "python",
   "nbconvert_exporter": "python",
   "pygments_lexer": "ipython3",
   "version": "3.8.8"
  }
 },
 "nbformat": 4,
 "nbformat_minor": 5
}
