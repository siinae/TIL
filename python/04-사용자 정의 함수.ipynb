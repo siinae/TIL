{
 "cells": [
  {
   "cell_type": "markdown",
   "id": "c31e3859",
   "metadata": {},
   "source": [
    "### 사용자 정의 함수\n",
    "- 사용자가 정의하는 함수의 형태\n",
    "- input, output의 관계를 내부에 정의\n",
    "- def, lambda(축약형)"
   ]
  },
  {
   "cell_type": "markdown",
   "id": "903f0fe2",
   "metadata": {},
   "source": [
    "함수의 정의 : \n",
    "f(x) = x + 1"
   ]
  },
  {
   "cell_type": "markdown",
   "id": "8d9f8ce8",
   "metadata": {},
   "source": [
    "#### 1) def 방식 "
   ]
  },
  {
   "cell_type": "markdown",
   "id": "c524a0c9",
   "metadata": {},
   "source": [
    "숫자를 넣어 곱하기 10을 한 값을 반환"
   ]
  },
  {
   "cell_type": "code",
   "execution_count": 2,
   "id": "53fe4df2",
   "metadata": {},
   "outputs": [],
   "source": [
    "def f_mul(x):\n",
    "    v1 = x * 10\n",
    "    return v1"
   ]
  },
  {
   "cell_type": "code",
   "execution_count": 3,
   "id": "ed9abf2e",
   "metadata": {},
   "outputs": [
    {
     "data": {
      "text/plain": [
       "390"
      ]
     },
     "execution_count": 3,
     "metadata": {},
     "output_type": "execute_result"
    }
   ],
   "source": [
    "f_mul(39)"
   ]
  },
  {
   "cell_type": "markdown",
   "id": "c7cc6ce9",
   "metadata": {},
   "source": [
    "두 숫자(두개의 인자)의 곱 반환"
   ]
  },
  {
   "cell_type": "code",
   "execution_count": 5,
   "id": "567fa998",
   "metadata": {},
   "outputs": [],
   "source": [
    "def f_2_mul(x,y):\n",
    "    return x * y"
   ]
  },
  {
   "cell_type": "code",
   "execution_count": 6,
   "id": "9962b652",
   "metadata": {},
   "outputs": [
    {
     "data": {
      "text/plain": [
       "20"
      ]
     },
     "execution_count": 6,
     "metadata": {},
     "output_type": "execute_result"
    }
   ],
   "source": [
    "f_2_mul(2,10)"
   ]
  },
  {
   "cell_type": "markdown",
   "id": "cff730cd",
   "metadata": {},
   "source": [
    "인수에 default값 선언"
   ]
  },
  {
   "cell_type": "code",
   "execution_count": 10,
   "id": "5382380d",
   "metadata": {},
   "outputs": [
    {
     "ename": "SyntaxError",
     "evalue": "non-default argument follows default argument (<ipython-input-10-337c411ee036>, line 1)",
     "output_type": "error",
     "traceback": [
      "\u001b[1;36m  File \u001b[1;32m\"<ipython-input-10-337c411ee036>\"\u001b[1;36m, line \u001b[1;32m1\u001b[0m\n\u001b[1;33m    def f_d(x=1,y):\u001b[0m\n\u001b[1;37m            ^\u001b[0m\n\u001b[1;31mSyntaxError\u001b[0m\u001b[1;31m:\u001b[0m non-default argument follows default argument\n"
     ]
    }
   ],
   "source": [
    "def f_d(x=1,y):\n",
    "    return(x * y) \n",
    "#첫번째 인수에 기본값을 정의할 경우, 뒤에 나오는 인수도 정의해주어야 함"
   ]
  },
  {
   "cell_type": "code",
   "execution_count": 12,
   "id": "00807f12",
   "metadata": {},
   "outputs": [],
   "source": [
    "def f_d(y,x=1):\n",
    "    return(x * y)\n",
    "#default값을 갖는 인수를 맨 뒤에 지정하는 것은 가능"
   ]
  },
  {
   "cell_type": "code",
   "execution_count": 13,
   "id": "35197cf1",
   "metadata": {},
   "outputs": [],
   "source": [
    "def f_d(x=1,y=1):\n",
    "    return(x*y)"
   ]
  },
  {
   "cell_type": "markdown",
   "id": "41e71603",
   "metadata": {},
   "source": [
    "#### 2) lambda 축약형 방식\n",
    "- 비교적 단순한 연산 및 리턴 시 사용"
   ]
  },
  {
   "cell_type": "code",
   "execution_count": 14,
   "id": "fc2421eb",
   "metadata": {},
   "outputs": [
    {
     "data": {
      "text/plain": [
       "50"
      ]
     },
     "execution_count": 14,
     "metadata": {},
     "output_type": "execute_result"
    }
   ],
   "source": [
    "f1 = lambda x: x*10\n",
    "f1(5)"
   ]
  },
  {
   "cell_type": "markdown",
   "id": "17e2de29",
   "metadata": {},
   "source": [
    "3개의 숫자를 전달 받아 첫번째와 두번째 숫자의 합에 세번째 숫자의 곱 리턴"
   ]
  },
  {
   "cell_type": "code",
   "execution_count": 16,
   "id": "0d79e0d1",
   "metadata": {},
   "outputs": [
    {
     "data": {
      "text/plain": [
       "24"
      ]
     },
     "execution_count": 16,
     "metadata": {},
     "output_type": "execute_result"
    }
   ],
   "source": [
    "f2 = lambda x,y,z: (x+y)*z\n",
    "f2(4,2,4)"
   ]
  },
  {
   "cell_type": "markdown",
   "id": "7c883320",
   "metadata": {},
   "source": [
    "#### 3) map 함수"
   ]
  },
  {
   "cell_type": "code",
   "execution_count": 17,
   "id": "17a7668a",
   "metadata": {},
   "outputs": [
    {
     "data": {
      "text/plain": [
       "[1,\n",
       " 2,\n",
       " 4,\n",
       " 2,\n",
       " 1,\n",
       " 2,\n",
       " 4,\n",
       " 2,\n",
       " 1,\n",
       " 2,\n",
       " 4,\n",
       " 2,\n",
       " 1,\n",
       " 2,\n",
       " 4,\n",
       " 2,\n",
       " 1,\n",
       " 2,\n",
       " 4,\n",
       " 2,\n",
       " 1,\n",
       " 2,\n",
       " 4,\n",
       " 2,\n",
       " 1,\n",
       " 2,\n",
       " 4,\n",
       " 2,\n",
       " 1,\n",
       " 2,\n",
       " 4,\n",
       " 2,\n",
       " 1,\n",
       " 2,\n",
       " 4,\n",
       " 2,\n",
       " 1,\n",
       " 2,\n",
       " 4,\n",
       " 2]"
      ]
     },
     "execution_count": 17,
     "metadata": {},
     "output_type": "execute_result"
    }
   ],
   "source": [
    "l1 = [1,2,4,2]\n",
    "f1(l1)"
   ]
  },
  {
   "cell_type": "markdown",
   "id": "8b1507ad",
   "metadata": {},
   "source": [
    "1) for 문 처리"
   ]
  },
  {
   "cell_type": "code",
   "execution_count": 18,
   "id": "e63bcb78",
   "metadata": {},
   "outputs": [
    {
     "name": "stdout",
     "output_type": "stream",
     "text": [
      "[11, 12, 14, 12]\n"
     ]
    }
   ],
   "source": [
    "l2 = []\n",
    "for i in l1:\n",
    "    l2.append(i+10)\n",
    "print(l2)"
   ]
  },
  {
   "cell_type": "markdown",
   "id": "b51f9bf6",
   "metadata": {},
   "source": [
    "2) 사용자 정의함수 + map"
   ]
  },
  {
   "cell_type": "markdown",
   "id": "a353edd6",
   "metadata": {},
   "source": [
    "- map(적용할 함수, 추가할 인수)"
   ]
  },
  {
   "cell_type": "code",
   "execution_count": 19,
   "id": "546e365c",
   "metadata": {},
   "outputs": [
    {
     "data": {
      "text/plain": [
       "<map at 0x1e2924a4520>"
      ]
     },
     "execution_count": 19,
     "metadata": {},
     "output_type": "execute_result"
    }
   ],
   "source": [
    "map(f1,l1)"
   ]
  },
  {
   "cell_type": "code",
   "execution_count": 20,
   "id": "d827b3f8",
   "metadata": {},
   "outputs": [
    {
     "data": {
      "text/plain": [
       "[10, 20, 40, 20]"
      ]
     },
     "execution_count": 20,
     "metadata": {},
     "output_type": "execute_result"
    }
   ],
   "source": [
    "list(map(f1,l1))"
   ]
  },
  {
   "cell_type": "markdown",
   "id": "d96c1a23",
   "metadata": {},
   "source": [
    "하나의 숫자를 전달받아 10보다 크면 3을 곱하고, 작거나 같으면 2를 곱하기"
   ]
  },
  {
   "cell_type": "code",
   "execution_count": 22,
   "id": "f389bb75",
   "metadata": {},
   "outputs": [],
   "source": [
    "l2 = [3,5,7,10]\n",
    "def f3(x):\n",
    "    if x > 10:\n",
    "        v1 = x * 3\n",
    "    else:\n",
    "        v1 = x * 2\n",
    "    return v1"
   ]
  },
  {
   "cell_type": "code",
   "execution_count": 23,
   "id": "127fe382",
   "metadata": {},
   "outputs": [
    {
     "data": {
      "text/plain": [
       "33"
      ]
     },
     "execution_count": 23,
     "metadata": {},
     "output_type": "execute_result"
    }
   ],
   "source": [
    "f3(11)"
   ]
  },
  {
   "cell_type": "code",
   "execution_count": 24,
   "id": "34f7296c",
   "metadata": {},
   "outputs": [
    {
     "ename": "TypeError",
     "evalue": "'>' not supported between instances of 'list' and 'int'",
     "output_type": "error",
     "traceback": [
      "\u001b[1;31m---------------------------------------------------------------------------\u001b[0m",
      "\u001b[1;31mTypeError\u001b[0m                                 Traceback (most recent call last)",
      "\u001b[1;32m<ipython-input-24-46962cf0e740>\u001b[0m in \u001b[0;36m<module>\u001b[1;34m\u001b[0m\n\u001b[1;32m----> 1\u001b[1;33m \u001b[0mf3\u001b[0m\u001b[1;33m(\u001b[0m\u001b[0ml2\u001b[0m\u001b[1;33m)\u001b[0m\u001b[1;33m\u001b[0m\u001b[1;33m\u001b[0m\u001b[0m\n\u001b[0m",
      "\u001b[1;32m<ipython-input-22-c5037bcfb516>\u001b[0m in \u001b[0;36mf3\u001b[1;34m(x)\u001b[0m\n\u001b[0;32m      1\u001b[0m \u001b[0ml2\u001b[0m \u001b[1;33m=\u001b[0m \u001b[1;33m[\u001b[0m\u001b[1;36m3\u001b[0m\u001b[1;33m,\u001b[0m\u001b[1;36m5\u001b[0m\u001b[1;33m,\u001b[0m\u001b[1;36m7\u001b[0m\u001b[1;33m,\u001b[0m\u001b[1;36m10\u001b[0m\u001b[1;33m]\u001b[0m\u001b[1;33m\u001b[0m\u001b[1;33m\u001b[0m\u001b[0m\n\u001b[0;32m      2\u001b[0m \u001b[1;32mdef\u001b[0m \u001b[0mf3\u001b[0m\u001b[1;33m(\u001b[0m\u001b[0mx\u001b[0m\u001b[1;33m)\u001b[0m\u001b[1;33m:\u001b[0m\u001b[1;33m\u001b[0m\u001b[1;33m\u001b[0m\u001b[0m\n\u001b[1;32m----> 3\u001b[1;33m     \u001b[1;32mif\u001b[0m \u001b[0mx\u001b[0m \u001b[1;33m>\u001b[0m \u001b[1;36m10\u001b[0m\u001b[1;33m:\u001b[0m\u001b[1;33m\u001b[0m\u001b[1;33m\u001b[0m\u001b[0m\n\u001b[0m\u001b[0;32m      4\u001b[0m         \u001b[0mv1\u001b[0m \u001b[1;33m=\u001b[0m \u001b[0mx\u001b[0m \u001b[1;33m*\u001b[0m \u001b[1;36m3\u001b[0m\u001b[1;33m\u001b[0m\u001b[1;33m\u001b[0m\u001b[0m\n\u001b[0;32m      5\u001b[0m     \u001b[1;32melse\u001b[0m\u001b[1;33m:\u001b[0m\u001b[1;33m\u001b[0m\u001b[1;33m\u001b[0m\u001b[0m\n",
      "\u001b[1;31mTypeError\u001b[0m: '>' not supported between instances of 'list' and 'int'"
     ]
    }
   ],
   "source": [
    "f3(l2) #error"
   ]
  },
  {
   "cell_type": "code",
   "execution_count": 25,
   "id": "8f43cf25",
   "metadata": {},
   "outputs": [
    {
     "data": {
      "text/plain": [
       "[6, 10, 14, 20]"
      ]
     },
     "execution_count": 25,
     "metadata": {},
     "output_type": "execute_result"
    }
   ],
   "source": [
    "list(map(f3,l2))"
   ]
  }
 ],
 "metadata": {
  "kernelspec": {
   "display_name": "Python 3",
   "language": "python",
   "name": "python3"
  },
  "language_info": {
   "codemirror_mode": {
    "name": "ipython",
    "version": 3
   },
   "file_extension": ".py",
   "mimetype": "text/x-python",
   "name": "python",
   "nbconvert_exporter": "python",
   "pygments_lexer": "ipython3",
   "version": "3.8.8"
  }
 },
 "nbformat": 4,
 "nbformat_minor": 5
}
