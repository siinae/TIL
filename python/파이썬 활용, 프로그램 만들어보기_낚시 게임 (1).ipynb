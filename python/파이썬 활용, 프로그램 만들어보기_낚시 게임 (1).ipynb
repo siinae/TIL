{
 "cells": [
  {
   "cell_type": "code",
   "execution_count": 1,
   "id": "558197ef",
   "metadata": {},
   "outputs": [],
   "source": [
    "import time\n",
    "import random\n",
    "import numpy as np\n",
    "import pandas as pd"
   ]
  },
  {
   "cell_type": "code",
   "execution_count": 2,
   "id": "5cc5cffd",
   "metadata": {},
   "outputs": [
    {
     "data": {
      "text/html": [
       "<div>\n",
       "<style scoped>\n",
       "    .dataframe tbody tr th:only-of-type {\n",
       "        vertical-align: middle;\n",
       "    }\n",
       "\n",
       "    .dataframe tbody tr th {\n",
       "        vertical-align: top;\n",
       "    }\n",
       "\n",
       "    .dataframe thead th {\n",
       "        text-align: right;\n",
       "    }\n",
       "</style>\n",
       "<table border=\"1\" class=\"dataframe\">\n",
       "  <thead>\n",
       "    <tr style=\"text-align: right;\">\n",
       "      <th></th>\n",
       "      <th>No1</th>\n",
       "      <th>No2</th>\n",
       "      <th>물고기</th>\n",
       "      <th>가격</th>\n",
       "    </tr>\n",
       "  </thead>\n",
       "  <tbody>\n",
       "    <tr>\n",
       "      <th>0</th>\n",
       "      <td>2</td>\n",
       "      <td>6</td>\n",
       "      <td>가는꼬리쥐치</td>\n",
       "      <td>1631</td>\n",
       "    </tr>\n",
       "    <tr>\n",
       "      <th>1</th>\n",
       "      <td>1</td>\n",
       "      <td>4</td>\n",
       "      <td>가다랑어</td>\n",
       "      <td>2917</td>\n",
       "    </tr>\n",
       "    <tr>\n",
       "      <th>2</th>\n",
       "      <td>3</td>\n",
       "      <td>5</td>\n",
       "      <td>가라지</td>\n",
       "      <td>1203</td>\n",
       "    </tr>\n",
       "    <tr>\n",
       "      <th>3</th>\n",
       "      <td>3</td>\n",
       "      <td>4</td>\n",
       "      <td>가면놀래기</td>\n",
       "      <td>1751</td>\n",
       "    </tr>\n",
       "    <tr>\n",
       "      <th>4</th>\n",
       "      <td>1</td>\n",
       "      <td>4</td>\n",
       "      <td>가숭어</td>\n",
       "      <td>4483</td>\n",
       "    </tr>\n",
       "    <tr>\n",
       "      <th>...</th>\n",
       "      <td>...</td>\n",
       "      <td>...</td>\n",
       "      <td>...</td>\n",
       "      <td>...</td>\n",
       "    </tr>\n",
       "    <tr>\n",
       "      <th>746</th>\n",
       "      <td>2</td>\n",
       "      <td>4</td>\n",
       "      <td>흰배환도상어</td>\n",
       "      <td>2116</td>\n",
       "    </tr>\n",
       "    <tr>\n",
       "      <th>747</th>\n",
       "      <td>2</td>\n",
       "      <td>4</td>\n",
       "      <td>흰붕장어</td>\n",
       "      <td>7953</td>\n",
       "    </tr>\n",
       "    <tr>\n",
       "      <th>748</th>\n",
       "      <td>1</td>\n",
       "      <td>3</td>\n",
       "      <td>흰점꺼끌복</td>\n",
       "      <td>6207</td>\n",
       "    </tr>\n",
       "    <tr>\n",
       "      <th>749</th>\n",
       "      <td>2</td>\n",
       "      <td>4</td>\n",
       "      <td>히메성대</td>\n",
       "      <td>9362</td>\n",
       "    </tr>\n",
       "    <tr>\n",
       "      <th>750</th>\n",
       "      <td>3</td>\n",
       "      <td>6</td>\n",
       "      <td>히메치</td>\n",
       "      <td>1074</td>\n",
       "    </tr>\n",
       "  </tbody>\n",
       "</table>\n",
       "<p>751 rows × 4 columns</p>\n",
       "</div>"
      ],
      "text/plain": [
       "     No1  No2     물고기    가격\n",
       "0      2    6  가는꼬리쥐치  1631\n",
       "1      1    4    가다랑어  2917\n",
       "2      3    5     가라지  1203\n",
       "3      3    4   가면놀래기  1751\n",
       "4      1    4     가숭어  4483\n",
       "..   ...  ...     ...   ...\n",
       "746    2    4  흰배환도상어  2116\n",
       "747    2    4    흰붕장어  7953\n",
       "748    1    3   흰점꺼끌복  6207\n",
       "749    2    4    히메성대  9362\n",
       "750    3    6     히메치  1074\n",
       "\n",
       "[751 rows x 4 columns]"
      ]
     },
     "execution_count": 2,
     "metadata": {},
     "output_type": "execute_result"
    }
   ],
   "source": [
    "# 데이터 확인하기\n",
    "\n",
    "a = pd.read_excel(\"물고기표.xlsx\")\n",
    "a"
   ]
  },
  {
   "cell_type": "code",
   "execution_count": 3,
   "id": "4f0ef5ea",
   "metadata": {},
   "outputs": [
    {
     "name": "stdout",
     "output_type": "stream",
     "text": [
      "<class 'pandas.core.frame.DataFrame'>\n",
      "RangeIndex: 751 entries, 0 to 750\n",
      "Data columns (total 4 columns):\n",
      " #   Column  Non-Null Count  Dtype \n",
      "---  ------  --------------  ----- \n",
      " 0   No1     751 non-null    int64 \n",
      " 1   No2     751 non-null    int64 \n",
      " 2   물고기     751 non-null    object\n",
      " 3   가격      751 non-null    int64 \n",
      "dtypes: int64(3), object(1)\n",
      "memory usage: 23.6+ KB\n"
     ]
    }
   ],
   "source": [
    "a.info()"
   ]
  },
  {
   "cell_type": "code",
   "execution_count": 4,
   "id": "97eee416",
   "metadata": {},
   "outputs": [
    {
     "data": {
      "text/html": [
       "<div>\n",
       "<style scoped>\n",
       "    .dataframe tbody tr th:only-of-type {\n",
       "        vertical-align: middle;\n",
       "    }\n",
       "\n",
       "    .dataframe tbody tr th {\n",
       "        vertical-align: top;\n",
       "    }\n",
       "\n",
       "    .dataframe thead th {\n",
       "        text-align: right;\n",
       "    }\n",
       "</style>\n",
       "<table border=\"1\" class=\"dataframe\">\n",
       "  <thead>\n",
       "    <tr style=\"text-align: right;\">\n",
       "      <th></th>\n",
       "      <th>No1</th>\n",
       "      <th>No2</th>\n",
       "      <th>가격</th>\n",
       "    </tr>\n",
       "  </thead>\n",
       "  <tbody>\n",
       "    <tr>\n",
       "      <th>count</th>\n",
       "      <td>751.000000</td>\n",
       "      <td>751.000000</td>\n",
       "      <td>751.000000</td>\n",
       "    </tr>\n",
       "    <tr>\n",
       "      <th>mean</th>\n",
       "      <td>1.972037</td>\n",
       "      <td>4.516644</td>\n",
       "      <td>5384.980027</td>\n",
       "    </tr>\n",
       "    <tr>\n",
       "      <th>std</th>\n",
       "      <td>0.795330</td>\n",
       "      <td>1.107274</td>\n",
       "      <td>2610.049134</td>\n",
       "    </tr>\n",
       "    <tr>\n",
       "      <th>min</th>\n",
       "      <td>1.000000</td>\n",
       "      <td>3.000000</td>\n",
       "      <td>1010.000000</td>\n",
       "    </tr>\n",
       "    <tr>\n",
       "      <th>25%</th>\n",
       "      <td>1.000000</td>\n",
       "      <td>4.000000</td>\n",
       "      <td>3047.000000</td>\n",
       "    </tr>\n",
       "    <tr>\n",
       "      <th>50%</th>\n",
       "      <td>2.000000</td>\n",
       "      <td>5.000000</td>\n",
       "      <td>5311.000000</td>\n",
       "    </tr>\n",
       "    <tr>\n",
       "      <th>75%</th>\n",
       "      <td>3.000000</td>\n",
       "      <td>5.000000</td>\n",
       "      <td>7672.000000</td>\n",
       "    </tr>\n",
       "    <tr>\n",
       "      <th>max</th>\n",
       "      <td>3.000000</td>\n",
       "      <td>6.000000</td>\n",
       "      <td>9990.000000</td>\n",
       "    </tr>\n",
       "  </tbody>\n",
       "</table>\n",
       "</div>"
      ],
      "text/plain": [
       "              No1         No2           가격\n",
       "count  751.000000  751.000000   751.000000\n",
       "mean     1.972037    4.516644  5384.980027\n",
       "std      0.795330    1.107274  2610.049134\n",
       "min      1.000000    3.000000  1010.000000\n",
       "25%      1.000000    4.000000  3047.000000\n",
       "50%      2.000000    5.000000  5311.000000\n",
       "75%      3.000000    5.000000  7672.000000\n",
       "max      3.000000    6.000000  9990.000000"
      ]
     },
     "execution_count": 4,
     "metadata": {},
     "output_type": "execute_result"
    }
   ],
   "source": [
    "a.describe()"
   ]
  },
  {
   "cell_type": "code",
   "execution_count": 2,
   "id": "d2bea99a",
   "metadata": {},
   "outputs": [
    {
     "name": "stdout",
     "output_type": "stream",
     "text": [
      "자~ 신중하게 낚시를 시작합니다!!!\n",
      "     No1  No2     물고기    가격\n",
      "0      2    6  가는꼬리쥐치  1631\n",
      "1      1    4    가다랑어  2917\n",
      "2      3    5     가라지  1203\n",
      "3      3    4   가면놀래기  1751\n",
      "4      1    4     가숭어  4483\n",
      "..   ...  ...     ...   ...\n",
      "746    2    4  흰배환도상어  2116\n",
      "747    2    4    흰붕장어  7953\n",
      "748    1    3   흰점꺼끌복  6207\n",
      "749    2    4    히메성대  9362\n",
      "750    3    6     히메치  1074\n",
      "\n",
      "[751 rows x 4 columns]\n"
     ]
    }
   ],
   "source": [
    "# 낚시터 구현하기\n",
    "\n",
    "def game_fishing_center():\n",
    "    print(\"자~ 신중하게 낚시를 시작합니다!!!\")\n",
    "    fishing = pd.read_excel(\"물고기표.xlsx\")\n",
    "    return fishing\n",
    "\n",
    "print(game_fishing_center())"
   ]
  },
  {
   "cell_type": "code",
   "execution_count": 4,
   "id": "dbe92ff4",
   "metadata": {},
   "outputs": [
    {
     "name": "stdout",
     "output_type": "stream",
     "text": [
      "자~ 신중하게 낚시를 시작합니다!!!\n",
      "[[2 6 '가는꼬리쥐치' 1631]\n",
      " [1 4 '가다랑어' 2917]\n",
      " [3 5 '가라지' 1203]\n",
      " ...\n",
      " [1 3 '흰점꺼끌복' 6207]\n",
      " [2 4 '히메성대' 9362]\n",
      " [3 6 '히메치' 1074]]\n"
     ]
    }
   ],
   "source": [
    "def game_fishing_center():\n",
    "    print(\"자~ 신중하게 낚시를 시작합니다!!!\")\n",
    "    fishing = pd.read_excel(\"물고기표.xlsx\")\n",
    "    choose_fish = np.array(fishing).reshape(-1, 4) # 행 전부다, 열 4\n",
    "    return choose_fish\n",
    "    \n",
    "print(game_fishing_center())"
   ]
  },
  {
   "cell_type": "code",
   "execution_count": 5,
   "id": "644297a1",
   "metadata": {},
   "outputs": [
    {
     "name": "stdout",
     "output_type": "stream",
     "text": [
      "자~ 신중하게 낚시를 시작합니다!!!\n",
      "4\n"
     ]
    }
   ],
   "source": [
    "def game_fishing_center():\n",
    "    print(\"자~ 신중하게 낚시를 시작합니다!!!\")\n",
    "    fishing = pd.read_excel(\"물고기표.xlsx\")\n",
    "    \n",
    "    choose_fish = np.array(fishing).reshape(-1, 4)\n",
    "    choose_fish_num = random.randint(0,len(fishing)) # 0부터 전체 행까지 반복\n",
    "    choose_fish_waiting_num = random.randint(choose_fish[choose_fish_num][0], choose_fish[choose_fish_num][1])\n",
    "    return choose_fish_waiting_num\n",
    "    \n",
    "print(game_fishing_center())"
   ]
  },
  {
   "cell_type": "code",
   "execution_count": 7,
   "id": "d678e545",
   "metadata": {},
   "outputs": [
    {
     "name": "stdout",
     "output_type": "stream",
     "text": [
      "자~ 신중하게 낚시를 시작합니다!!!\n",
      "잡았다!!!!\n",
      "[٩(๑•̀o•́๑)و]룰루 님이 낚은 물고기는 붉바리 입니다\n",
      "None\n"
     ]
    }
   ],
   "source": [
    "def game_fishing_center():\n",
    "    print(\"자~ 신중하게 낚시를 시작합니다!!!\")\n",
    "    fishing = pd.read_excel(\"물고기표.xlsx\")\n",
    "    \n",
    "    choose_fish = np.array(fishing).reshape(-1, 4)\n",
    "    choose_fish_num = random.randint(0,len(fishing)) # 0부터 전체 행까지 반복\n",
    "    choose_fish_waiting_num = random.randint(choose_fish[choose_fish_num][0], choose_fish[choose_fish_num][1])\n",
    "    \n",
    "    time.sleep(choose_fish_waiting_num) # 대기시간 추가\n",
    "    \n",
    "    print(\"잡았다!!!!\")\n",
    "    print(\"[٩(๑•̀o•́๑)و]{} 님이 낚은 물고기는 {} 입니다\".format(\"룰루\", choose_fish[choose_fish_num][2]))\n",
    "    \n",
    "print(game_fishing_center())"
   ]
  },
  {
   "cell_type": "markdown",
   "id": "ae160f1c",
   "metadata": {},
   "source": [
    "## 1. 낚시터"
   ]
  },
  {
   "cell_type": "code",
   "execution_count": 74,
   "id": "83128ac2",
   "metadata": {},
   "outputs": [
    {
     "name": "stdout",
     "output_type": "stream",
     "text": [
      "자~ 신중하게 낚시를 시작합니다!!!\n",
      "잡았다!!!!\n",
      "[٩(๑•̀o•́๑)و]jh 님이 낚은 물고기는 살색물멸속 입니다\n"
     ]
    }
   ],
   "source": [
    "# 1. 낚시터\n",
    "def game_fishing_center(df, id, pw):\n",
    "    print(\"자~ 신중하게 낚시를 시작합니다!!!\")\n",
    "    fishing = pd.read_excel(\"물고기표.xlsx\")\n",
    "    \n",
    "    choose_fish = np.array(fishing).reshape(-1, 4)\n",
    "    choose_fish_num = random.randint(0,len(fishing)) # 0부터 전체 행까지 반복\n",
    "    choose_fish_waiting_num = random.randint(choose_fish[choose_fish_num][0], choose_fish[choose_fish_num][1])\n",
    "    \n",
    "    time.sleep(choose_fish_waiting_num) # 대기시간 추가\n",
    "    \n",
    "    print(\"잡았다!!!!\")\n",
    "    print(\"[٩(๑•̀o•́๑)و]{} 님이 낚은 물고기는 {} 입니다\".format(id, choose_fish[choose_fish_num][2])) # ***\n",
    "    \n",
    "    # DB 저장/ 엑셀 저장\n",
    "    df.loc[len(df)]  = [id, pw, choose_fish[choose_fish_num][2], 1, choose_fish[choose_fish_num][-1], \"미판매\"]\n",
    "    df.to_excel(\"낚시게임.xlsx\", sheet_name = \"낚시게임\", index = None)\n",
    "    \n",
    "game_fishing_center(df, 계정정보[0], 계정정보[1]) # ***"
   ]
  },
  {
   "cell_type": "code",
   "execution_count": 9,
   "id": "f3550409",
   "metadata": {
    "scrolled": true
   },
   "outputs": [
    {
     "name": "stdout",
     "output_type": "stream",
     "text": [
      "현재 판매하지 않은 물고기는 0개 입니다.\n"
     ]
    },
    {
     "data": {
      "text/plain": [
       "Int64Index([], dtype='int64')"
      ]
     },
     "execution_count": 9,
     "metadata": {},
     "output_type": "execute_result"
    }
   ],
   "source": [
    "# 상점 구현\n",
    "\n",
    "def game_store(df,id):\n",
    "    print(\"현재 판매하지 않은 물고기는 {}개 입니다.\".format(len(df[(df['ID']==id) & df['현황'] == '미판매'])))\n",
    "    미판매_index = df[(df['ID']==id) & df['현황'] == '미판매'].index\n",
    "    return 미판매_index\n",
    "    \n",
    "df = pd.read_excel(\"낚시게임.xlsx\")\n",
    "id = \"hoony\"\n",
    "\n",
    "game_store(df,id)"
   ]
  },
  {
   "cell_type": "markdown",
   "id": "dd1909c1",
   "metadata": {},
   "source": [
    "## 2. 상점 구현"
   ]
  },
  {
   "cell_type": "code",
   "execution_count": 35,
   "id": "c1d0b088",
   "metadata": {},
   "outputs": [
    {
     "name": "stdout",
     "output_type": "stream",
     "text": [
      "현재 판매하지 않은 물고기는 0개 입니다.\n",
      "다 팔았어요.\n"
     ]
    }
   ],
   "source": [
    "def game_store(df,id, pw):\n",
    "    print(\"현재 판매하지 않은 물고기는 {}개 입니다.\".format(len(df[(df['ID']==id) & df['현황'] == '미판매'])))\n",
    "    미판매_index = df[(df['ID']==id) & df['현황'] == '미판매'].index\n",
    "    \n",
    "    if len(미판매_index) != 0: # 판매 안된게 있으면,\n",
    "        for i in range(len(미판매_index)):\n",
    "            print(\"{} 물고기를 판매했어요.\".format(df[(df['ID']==id) & (df['현황'] == '미판매')]['물고기'][미판매_index[i]]))\n",
    "        # DB 저장 / 엑셀 저장\n",
    "            df.loc[미판매_index[i]] == [\n",
    "                                        id, pw,\n",
    "                                        df[(df['ID']==id) & (df['현황'] == '미판매')['물고기'][미판매_index[i]]], \n",
    "                                        df[(df['ID']==id) & (df['현황'] == '미판매')['수량'][미판매_index[i]]],\n",
    "                                        df[(df['ID']==id) & (df['현황'] == '미판매')['가격'][미판매_index[i]]],\n",
    "                                        \"판매\"]\n",
    "    \n",
    "    else: # 빈 경우\n",
    "        print(\"다 팔았어요.\")\n",
    "    \n",
    "    df.to_excel(\"낚시게임.xlsx\", sheet_name = \"낚시게임\", index=None)\n",
    "    \n",
    "game_store(df, 계정정보[0], 계정정보[1])"
   ]
  },
  {
   "cell_type": "code",
   "execution_count": 31,
   "id": "8ee5e681",
   "metadata": {
    "scrolled": true
   },
   "outputs": [
    {
     "data": {
      "text/html": [
       "<div>\n",
       "<style scoped>\n",
       "    .dataframe tbody tr th:only-of-type {\n",
       "        vertical-align: middle;\n",
       "    }\n",
       "\n",
       "    .dataframe tbody tr th {\n",
       "        vertical-align: top;\n",
       "    }\n",
       "\n",
       "    .dataframe thead th {\n",
       "        text-align: right;\n",
       "    }\n",
       "</style>\n",
       "<table border=\"1\" class=\"dataframe\">\n",
       "  <thead>\n",
       "    <tr style=\"text-align: right;\">\n",
       "      <th></th>\n",
       "      <th>ID</th>\n",
       "      <th>PW</th>\n",
       "      <th>물고기</th>\n",
       "      <th>수량</th>\n",
       "      <th>가격</th>\n",
       "      <th>현황</th>\n",
       "    </tr>\n",
       "  </thead>\n",
       "  <tbody>\n",
       "    <tr>\n",
       "      <th>0</th>\n",
       "      <td>multi</td>\n",
       "      <td>1234</td>\n",
       "      <td>가물치</td>\n",
       "      <td>1</td>\n",
       "      <td>1000</td>\n",
       "      <td>판매</td>\n",
       "    </tr>\n",
       "    <tr>\n",
       "      <th>1</th>\n",
       "      <td>multi</td>\n",
       "      <td>1234</td>\n",
       "      <td>가물치</td>\n",
       "      <td>2</td>\n",
       "      <td>2000</td>\n",
       "      <td>판매</td>\n",
       "    </tr>\n",
       "    <tr>\n",
       "      <th>2</th>\n",
       "      <td>multi</td>\n",
       "      <td>1234</td>\n",
       "      <td>흑돔</td>\n",
       "      <td>1</td>\n",
       "      <td>7000</td>\n",
       "      <td>판매</td>\n",
       "    </tr>\n",
       "    <tr>\n",
       "      <th>3</th>\n",
       "      <td>multi</td>\n",
       "      <td>1234</td>\n",
       "      <td>가시고기</td>\n",
       "      <td>1</td>\n",
       "      <td>2000</td>\n",
       "      <td>판매</td>\n",
       "    </tr>\n",
       "    <tr>\n",
       "      <th>4</th>\n",
       "      <td>multi</td>\n",
       "      <td>1234</td>\n",
       "      <td>납자루</td>\n",
       "      <td>1</td>\n",
       "      <td>3000</td>\n",
       "      <td>판매</td>\n",
       "    </tr>\n",
       "    <tr>\n",
       "      <th>...</th>\n",
       "      <td>...</td>\n",
       "      <td>...</td>\n",
       "      <td>...</td>\n",
       "      <td>...</td>\n",
       "      <td>...</td>\n",
       "      <td>...</td>\n",
       "    </tr>\n",
       "    <tr>\n",
       "      <th>73</th>\n",
       "      <td>drwill</td>\n",
       "      <td>12345</td>\n",
       "      <td>빨간횟대</td>\n",
       "      <td>1</td>\n",
       "      <td>4448</td>\n",
       "      <td>판매</td>\n",
       "    </tr>\n",
       "    <tr>\n",
       "      <th>74</th>\n",
       "      <td>drwill</td>\n",
       "      <td>12345</td>\n",
       "      <td>굳가시복</td>\n",
       "      <td>1</td>\n",
       "      <td>8876</td>\n",
       "      <td>미판</td>\n",
       "    </tr>\n",
       "    <tr>\n",
       "      <th>75</th>\n",
       "      <td>트둥이</td>\n",
       "      <td>1</td>\n",
       "      <td>큰꼬치고기</td>\n",
       "      <td>1</td>\n",
       "      <td>6816</td>\n",
       "      <td>판매</td>\n",
       "    </tr>\n",
       "    <tr>\n",
       "      <th>76</th>\n",
       "      <td>트둥이</td>\n",
       "      <td>1</td>\n",
       "      <td>청돔속</td>\n",
       "      <td>1</td>\n",
       "      <td>9368</td>\n",
       "      <td>판매</td>\n",
       "    </tr>\n",
       "    <tr>\n",
       "      <th>77</th>\n",
       "      <td>트둥이</td>\n",
       "      <td>1</td>\n",
       "      <td>체장메기</td>\n",
       "      <td>1</td>\n",
       "      <td>5472</td>\n",
       "      <td>판매</td>\n",
       "    </tr>\n",
       "  </tbody>\n",
       "</table>\n",
       "<p>78 rows × 6 columns</p>\n",
       "</div>"
      ],
      "text/plain": [
       "        ID     PW    물고기  수량    가격  현황\n",
       "0    multi   1234    가물치   1  1000  판매\n",
       "1    multi   1234    가물치   2  2000  판매\n",
       "2    multi   1234     흑돔   1  7000  판매\n",
       "3    multi   1234   가시고기   1  2000  판매\n",
       "4    multi   1234    납자루   1  3000  판매\n",
       "..     ...    ...    ...  ..   ...  ..\n",
       "73  drwill  12345   빨간횟대   1  4448  판매\n",
       "74  drwill  12345   굳가시복   1  8876  미판\n",
       "75     트둥이      1  큰꼬치고기   1  6816  판매\n",
       "76     트둥이      1    청돔속   1  9368  판매\n",
       "77     트둥이      1   체장메기   1  5472  판매\n",
       "\n",
       "[78 rows x 6 columns]"
      ]
     },
     "execution_count": 31,
     "metadata": {},
     "output_type": "execute_result"
    }
   ],
   "source": [
    "df"
   ]
  },
  {
   "cell_type": "markdown",
   "id": "dfd841ed",
   "metadata": {},
   "source": [
    "## 3. 게임 플레이 및 사용자 정보 구하기"
   ]
  },
  {
   "cell_type": "code",
   "execution_count": 72,
   "id": "3f2fa9bf",
   "metadata": {},
   "outputs": [
    {
     "name": "stdout",
     "output_type": "stream",
     "text": [
      "안녕하세요. jh님 / 레벨 : 낚시 준비생 / 가지고 있는 금액: 0 / 잡은 물고기 종류: 1 / 잡은 물고기 수량: 1\n",
      "낚시하기(1) / 상점이용(2) /  게임종료(3)1\n",
      "자~ 신중하게 낚시를 시작합니다!!!\n",
      "잡았다!!!!\n",
      "[٩(๑•̀o•́๑)و]jh 님이 낚은 물고기는 제비날치 입니다\n",
      "안녕하세요. jh님 / 레벨 : 낚시 준비생 / 가지고 있는 금액: 0 / 잡은 물고기 종류: 2 / 잡은 물고기 수량: 2\n",
      "낚시하기(1) / 상점이용(2) /  게임종료(3)2\n",
      "현재 판매하지 않은 물고기는 0개 입니다.\n",
      "다 팔았어요.\n",
      "안녕하세요. jh님 / 레벨 : 낚시 준비생 / 가지고 있는 금액: 0 / 잡은 물고기 종류: 2 / 잡은 물고기 수량: 2\n",
      "낚시하기(1) / 상점이용(2) /  게임종료(3)3\n"
     ]
    }
   ],
   "source": [
    "def game_play(id, pw):\n",
    "    while True:\n",
    "        df = pd.read_excel(\"낚시게임.xlsx\")\n",
    "        돈 = df[ (df['ID']==id) & (df['현황']==\"판매\")][\"가격\"].sum()\n",
    "        물고기_종류 = len(np.unique(df[df['ID']==id]['물고기']))  #***********\n",
    "        잡은_물고기 = df[df['ID']==id]['수량'].sum()\n",
    "        레벨 = len(df[(df['ID']==id) & (df['현황']=='판매')])\n",
    "        \n",
    "        if 레벨 <= 10:\n",
    "            레벨 = \"낚시 준비생\"\n",
    "        elif 레벨 <= 20:\n",
    "            레벨 = \"낚시 매니아\"\n",
    "        else:\n",
    "            레벨 = \"낚시 전문가\"\n",
    "            \n",
    "        print(\"안녕하세요. {}님 / 레벨 : {} / 가지고 있는 금액: {} / 잡은 물고기 종류: {} / 잡은 물고기 수량: {}\".\n",
    "             format(id, 레벨, 돈, 물고기_종류, 잡은_물고기))\n",
    "        \n",
    "        선택 = int( input(\"낚시하기(1) / 상점이용(2) /  게임종료(3)\"))\n",
    "        \n",
    "        if 선택 == 1: # 낚시터\n",
    "            game_fishing_center(df, id, pw)\n",
    "        elif 선택 == 2: # 상점\n",
    "            game_store(df,id, pw)\n",
    "        else:\n",
    "            break\n",
    "            \n",
    "game_play(계정정보[0], 계정정보[1])"
   ]
  },
  {
   "cell_type": "markdown",
   "id": "60350987",
   "metadata": {},
   "source": [
    "## 4. 계정정보"
   ]
  },
  {
   "cell_type": "code",
   "execution_count": 73,
   "id": "e1192d58",
   "metadata": {},
   "outputs": [
    {
     "name": "stdout",
     "output_type": "stream",
     "text": [
      "로그인(1) / 회원가입(2)1\n",
      "ID 입력: jh\n",
      "PW 입력: 1234\n",
      "게임을 시작합니다.\n",
      "안녕하세요. jh님 / 레벨 : 낚시 준비생 / 가지고 있는 금액: 0 / 잡은 물고기 종류: 2 / 잡은 물고기 수량: 2\n",
      "낚시하기(1) / 상점이용(2) /  게임종료(3)1\n",
      "자~ 신중하게 낚시를 시작합니다!!!\n",
      "잡았다!!!!\n",
      "[٩(๑•̀o•́๑)و]jh 님이 낚은 물고기는 망상어 입니다\n",
      "안녕하세요. jh님 / 레벨 : 낚시 준비생 / 가지고 있는 금액: 0 / 잡은 물고기 종류: 3 / 잡은 물고기 수량: 3\n",
      "낚시하기(1) / 상점이용(2) /  게임종료(3)2\n",
      "현재 판매하지 않은 물고기는 0개 입니다.\n",
      "다 팔았어요.\n",
      "안녕하세요. jh님 / 레벨 : 낚시 준비생 / 가지고 있는 금액: 0 / 잡은 물고기 종류: 3 / 잡은 물고기 수량: 3\n",
      "낚시하기(1) / 상점이용(2) /  게임종료(3)3\n"
     ]
    }
   ],
   "source": [
    "계정정보 = []\n",
    "df = pd.read_excel(\"낚시게임.xlsx\")\n",
    "계정 = int(input(\"로그인(1) / 회원가입(2)\"))\n",
    "if 계정 == 1: # 로그인\n",
    "    계정정보.append(input(\"ID 입력: \"))\n",
    "    계정정보.append(int(input(\"PW 입력: \")))\n",
    "    \n",
    "    if (계정정보[0] in df['ID'].unique()) and (계정정보[1] in df['PW'].unique()):\n",
    "        print(\"게임을 시작합니다.\")\n",
    "        game_play(계정정보[0], 계정정보[1])\n",
    "    else:\n",
    "        print(\"ID 또는 패스워드가 없습니다.\")\n",
    "        pass\n",
    "    \n",
    "elif 계정 == 2: # 회원가입\n",
    "    계정정보.append(input(\"ID 입력: \"))\n",
    "    계정정보.append(int(input(\"PW 입력: \")))\n",
    "    \n",
    "    print(\"[ヽ(°ᴥ°)ﾉ] 회원가입 완료\")\n",
    "    print(\"게임을 시작합니다.\")\n",
    "    game_play(계정정보[0], 계정정보[1])"
   ]
  },
  {
   "cell_type": "code",
   "execution_count": null,
   "id": "71c96c8d",
   "metadata": {},
   "outputs": [],
   "source": []
  }
 ],
 "metadata": {
  "kernelspec": {
   "display_name": "Python 3",
   "language": "python",
   "name": "python3"
  },
  "language_info": {
   "codemirror_mode": {
    "name": "ipython",
    "version": 3
   },
   "file_extension": ".py",
   "mimetype": "text/x-python",
   "name": "python",
   "nbconvert_exporter": "python",
   "pygments_lexer": "ipython3",
   "version": "3.8.8"
  }
 },
 "nbformat": 4,
 "nbformat_minor": 5
}
