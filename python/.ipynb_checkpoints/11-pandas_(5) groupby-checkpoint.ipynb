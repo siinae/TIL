{
 "cells": [
  {
   "cell_type": "markdown",
   "id": "75b4beac",
   "metadata": {},
   "source": [
    "## 그룹연산 (groupby 메서드)"
   ]
  },
  {
   "cell_type": "code",
   "execution_count": 1,
   "id": "aba10b94",
   "metadata": {},
   "outputs": [],
   "source": [
    "import pandas as pd\n",
    "from pandas import Series, DataFrame"
   ]
  },
  {
   "cell_type": "code",
   "execution_count": 8,
   "id": "bacd52af",
   "metadata": {},
   "outputs": [
    {
     "data": {
      "text/html": [
       "<div>\n",
       "<style scoped>\n",
       "    .dataframe tbody tr th:only-of-type {\n",
       "        vertical-align: middle;\n",
       "    }\n",
       "\n",
       "    .dataframe tbody tr th {\n",
       "        vertical-align: top;\n",
       "    }\n",
       "\n",
       "    .dataframe thead th {\n",
       "        text-align: right;\n",
       "    }\n",
       "</style>\n",
       "<table border=\"1\" class=\"dataframe\">\n",
       "  <thead>\n",
       "    <tr style=\"text-align: right;\">\n",
       "      <th></th>\n",
       "      <th>판매년도</th>\n",
       "      <th>판매월</th>\n",
       "      <th>제품</th>\n",
       "      <th>판매처</th>\n",
       "      <th>수량</th>\n",
       "      <th>판매금액</th>\n",
       "    </tr>\n",
       "  </thead>\n",
       "  <tbody>\n",
       "    <tr>\n",
       "      <th>0</th>\n",
       "      <td>2013</td>\n",
       "      <td>1</td>\n",
       "      <td>총각김치</td>\n",
       "      <td>대형마트</td>\n",
       "      <td>27916</td>\n",
       "      <td>233968900</td>\n",
       "    </tr>\n",
       "    <tr>\n",
       "      <th>1</th>\n",
       "      <td>2013</td>\n",
       "      <td>1</td>\n",
       "      <td>총각김치</td>\n",
       "      <td>백화점</td>\n",
       "      <td>11971</td>\n",
       "      <td>99796735</td>\n",
       "    </tr>\n",
       "    <tr>\n",
       "      <th>2</th>\n",
       "      <td>2013</td>\n",
       "      <td>1</td>\n",
       "      <td>총각김치</td>\n",
       "      <td>편의점</td>\n",
       "      <td>1603</td>\n",
       "      <td>2264200</td>\n",
       "    </tr>\n",
       "    <tr>\n",
       "      <th>3</th>\n",
       "      <td>2013</td>\n",
       "      <td>2</td>\n",
       "      <td>총각김치</td>\n",
       "      <td>대형마트</td>\n",
       "      <td>23057</td>\n",
       "      <td>194593960</td>\n",
       "    </tr>\n",
       "    <tr>\n",
       "      <th>4</th>\n",
       "      <td>2013</td>\n",
       "      <td>2</td>\n",
       "      <td>총각김치</td>\n",
       "      <td>백화점</td>\n",
       "      <td>11678</td>\n",
       "      <td>103106940</td>\n",
       "    </tr>\n",
       "    <tr>\n",
       "      <th>...</th>\n",
       "      <td>...</td>\n",
       "      <td>...</td>\n",
       "      <td>...</td>\n",
       "      <td>...</td>\n",
       "      <td>...</td>\n",
       "      <td>...</td>\n",
       "    </tr>\n",
       "    <tr>\n",
       "      <th>427</th>\n",
       "      <td>2016</td>\n",
       "      <td>11</td>\n",
       "      <td>무김치</td>\n",
       "      <td>백화점</td>\n",
       "      <td>16818</td>\n",
       "      <td>213580462</td>\n",
       "    </tr>\n",
       "    <tr>\n",
       "      <th>428</th>\n",
       "      <td>2016</td>\n",
       "      <td>11</td>\n",
       "      <td>무김치</td>\n",
       "      <td>편의점</td>\n",
       "      <td>1849</td>\n",
       "      <td>2718207</td>\n",
       "    </tr>\n",
       "    <tr>\n",
       "      <th>429</th>\n",
       "      <td>2016</td>\n",
       "      <td>12</td>\n",
       "      <td>무김치</td>\n",
       "      <td>대형마트</td>\n",
       "      <td>40806</td>\n",
       "      <td>351917006</td>\n",
       "    </tr>\n",
       "    <tr>\n",
       "      <th>430</th>\n",
       "      <td>2016</td>\n",
       "      <td>12</td>\n",
       "      <td>무김치</td>\n",
       "      <td>백화점</td>\n",
       "      <td>11877</td>\n",
       "      <td>139476205</td>\n",
       "    </tr>\n",
       "    <tr>\n",
       "      <th>431</th>\n",
       "      <td>2016</td>\n",
       "      <td>12</td>\n",
       "      <td>무김치</td>\n",
       "      <td>편의점</td>\n",
       "      <td>1890</td>\n",
       "      <td>2767080</td>\n",
       "    </tr>\n",
       "  </tbody>\n",
       "</table>\n",
       "<p>432 rows × 6 columns</p>\n",
       "</div>"
      ],
      "text/plain": [
       "     판매년도  판매월    제품   판매처     수량       판매금액\n",
       "0    2013    1  총각김치  대형마트  27916  233968900\n",
       "1    2013    1  총각김치   백화점  11971   99796735\n",
       "2    2013    1  총각김치   편의점   1603    2264200\n",
       "3    2013    2  총각김치  대형마트  23057  194593960\n",
       "4    2013    2  총각김치   백화점  11678  103106940\n",
       "..    ...  ...   ...   ...    ...        ...\n",
       "427  2016   11   무김치   백화점  16818  213580462\n",
       "428  2016   11   무김치   편의점   1849    2718207\n",
       "429  2016   12   무김치  대형마트  40806  351917006\n",
       "430  2016   12   무김치   백화점  11877  139476205\n",
       "431  2016   12   무김치   편의점   1890    2767080\n",
       "\n",
       "[432 rows x 6 columns]"
      ]
     },
     "execution_count": 8,
     "metadata": {},
     "output_type": "execute_result"
    }
   ],
   "source": [
    "kimchi = pd.read_csv('C:/Users/ZenBook/Desktop/냇물이/교육/code/data/kimchi_test.csv',encoding = 'cp949')\n",
    "kimchi"
   ]
  },
  {
   "cell_type": "markdown",
   "id": "98e63311",
   "metadata": {},
   "source": [
    "##### kimchi.groupby(그룹핑 할 기준 컬럼, 연산 방향, 멀티 인덱스일 경우 그룹핑할 인덱스명)"
   ]
  },
  {
   "cell_type": "markdown",
   "id": "2478941d",
   "metadata": {},
   "source": [
    "- 제품별, 판매처 별 수량 총합"
   ]
  },
  {
   "cell_type": "code",
   "execution_count": 6,
   "id": "8e45b3f1",
   "metadata": {},
   "outputs": [
    {
     "data": {
      "text/plain": [
       "<pandas.core.groupby.generic.DataFrameGroupBy object at 0x00000233F3952070>"
      ]
     },
     "execution_count": 6,
     "metadata": {},
     "output_type": "execute_result"
    }
   ],
   "source": [
    "kimchi.groupby(by = ['제품'])"
   ]
  },
  {
   "cell_type": "code",
   "execution_count": 7,
   "id": "a5f3bfdd",
   "metadata": {},
   "outputs": [
    {
     "data": {
      "text/html": [
       "<div>\n",
       "<style scoped>\n",
       "    .dataframe tbody tr th:only-of-type {\n",
       "        vertical-align: middle;\n",
       "    }\n",
       "\n",
       "    .dataframe tbody tr th {\n",
       "        vertical-align: top;\n",
       "    }\n",
       "\n",
       "    .dataframe thead th {\n",
       "        text-align: right;\n",
       "    }\n",
       "</style>\n",
       "<table border=\"1\" class=\"dataframe\">\n",
       "  <thead>\n",
       "    <tr style=\"text-align: right;\">\n",
       "      <th></th>\n",
       "      <th></th>\n",
       "      <th>판매년도</th>\n",
       "      <th>판매월</th>\n",
       "      <th>수량</th>\n",
       "      <th>판매금액</th>\n",
       "    </tr>\n",
       "    <tr>\n",
       "      <th>제품</th>\n",
       "      <th>판매처</th>\n",
       "      <th></th>\n",
       "      <th></th>\n",
       "      <th></th>\n",
       "      <th></th>\n",
       "    </tr>\n",
       "  </thead>\n",
       "  <tbody>\n",
       "    <tr>\n",
       "      <th rowspan=\"3\" valign=\"top\">무김치</th>\n",
       "      <th>대형마트</th>\n",
       "      <td>96696</td>\n",
       "      <td>312</td>\n",
       "      <td>1550027</td>\n",
       "      <td>14243851204</td>\n",
       "    </tr>\n",
       "    <tr>\n",
       "      <th>백화점</th>\n",
       "      <td>96696</td>\n",
       "      <td>312</td>\n",
       "      <td>510114</td>\n",
       "      <td>5675796839</td>\n",
       "    </tr>\n",
       "    <tr>\n",
       "      <th>편의점</th>\n",
       "      <td>96696</td>\n",
       "      <td>312</td>\n",
       "      <td>82623</td>\n",
       "      <td>117134302</td>\n",
       "    </tr>\n",
       "    <tr>\n",
       "      <th rowspan=\"3\" valign=\"top\">열무김치</th>\n",
       "      <th>대형마트</th>\n",
       "      <td>96696</td>\n",
       "      <td>312</td>\n",
       "      <td>1491864</td>\n",
       "      <td>14272706507</td>\n",
       "    </tr>\n",
       "    <tr>\n",
       "      <th>백화점</th>\n",
       "      <td>96696</td>\n",
       "      <td>312</td>\n",
       "      <td>567129</td>\n",
       "      <td>5897836502</td>\n",
       "    </tr>\n",
       "    <tr>\n",
       "      <th>편의점</th>\n",
       "      <td>96696</td>\n",
       "      <td>312</td>\n",
       "      <td>89006</td>\n",
       "      <td>125133810</td>\n",
       "    </tr>\n",
       "    <tr>\n",
       "      <th rowspan=\"3\" valign=\"top\">총각김치</th>\n",
       "      <th>대형마트</th>\n",
       "      <td>96696</td>\n",
       "      <td>312</td>\n",
       "      <td>1649486</td>\n",
       "      <td>16512153282</td>\n",
       "    </tr>\n",
       "    <tr>\n",
       "      <th>백화점</th>\n",
       "      <td>96696</td>\n",
       "      <td>312</td>\n",
       "      <td>658442</td>\n",
       "      <td>6639524485</td>\n",
       "    </tr>\n",
       "    <tr>\n",
       "      <th>편의점</th>\n",
       "      <td>96696</td>\n",
       "      <td>312</td>\n",
       "      <td>103725</td>\n",
       "      <td>149010519</td>\n",
       "    </tr>\n",
       "  </tbody>\n",
       "</table>\n",
       "</div>"
      ],
      "text/plain": [
       "            판매년도  판매월       수량         판매금액\n",
       "제품   판매처                                   \n",
       "무김치  대형마트  96696  312  1550027  14243851204\n",
       "     백화점   96696  312   510114   5675796839\n",
       "     편의점   96696  312    82623    117134302\n",
       "열무김치 대형마트  96696  312  1491864  14272706507\n",
       "     백화점   96696  312   567129   5897836502\n",
       "     편의점   96696  312    89006    125133810\n",
       "총각김치 대형마트  96696  312  1649486  16512153282\n",
       "     백화점   96696  312   658442   6639524485\n",
       "     편의점   96696  312   103725    149010519"
      ]
     },
     "execution_count": 7,
     "metadata": {},
     "output_type": "execute_result"
    }
   ],
   "source": [
    "kimchi.groupby(by = ['제품', '판매처']).sum()"
   ]
  },
  {
   "cell_type": "code",
   "execution_count": 9,
   "id": "ae6afb99",
   "metadata": {},
   "outputs": [
    {
     "data": {
      "text/plain": [
       "제품    판매처 \n",
       "무김치   대형마트    1550027\n",
       "      백화점      510114\n",
       "      편의점       82623\n",
       "열무김치  대형마트    1491864\n",
       "      백화점      567129\n",
       "      편의점       89006\n",
       "총각김치  대형마트    1649486\n",
       "      백화점      658442\n",
       "      편의점      103725\n",
       "Name: 수량, dtype: int64"
      ]
     },
     "execution_count": 9,
     "metadata": {},
     "output_type": "execute_result"
    }
   ],
   "source": [
    "kimchi.groupby(by = ['제품', '판매처'])['수량'].sum()"
   ]
  },
  {
   "cell_type": "code",
   "execution_count": 10,
   "id": "84b79ce7",
   "metadata": {},
   "outputs": [
    {
     "data": {
      "text/html": [
       "<div>\n",
       "<style scoped>\n",
       "    .dataframe tbody tr th:only-of-type {\n",
       "        vertical-align: middle;\n",
       "    }\n",
       "\n",
       "    .dataframe tbody tr th {\n",
       "        vertical-align: top;\n",
       "    }\n",
       "\n",
       "    .dataframe thead th {\n",
       "        text-align: right;\n",
       "    }\n",
       "</style>\n",
       "<table border=\"1\" class=\"dataframe\">\n",
       "  <thead>\n",
       "    <tr style=\"text-align: right;\">\n",
       "      <th></th>\n",
       "      <th>수량</th>\n",
       "      <th>판매금액</th>\n",
       "    </tr>\n",
       "    <tr>\n",
       "      <th>제품</th>\n",
       "      <th></th>\n",
       "      <th></th>\n",
       "    </tr>\n",
       "  </thead>\n",
       "  <tbody>\n",
       "    <tr>\n",
       "      <th>무김치</th>\n",
       "      <td>2142764</td>\n",
       "      <td>20036782345</td>\n",
       "    </tr>\n",
       "    <tr>\n",
       "      <th>열무김치</th>\n",
       "      <td>2147999</td>\n",
       "      <td>20295676819</td>\n",
       "    </tr>\n",
       "    <tr>\n",
       "      <th>총각김치</th>\n",
       "      <td>2411653</td>\n",
       "      <td>23300688286</td>\n",
       "    </tr>\n",
       "  </tbody>\n",
       "</table>\n",
       "</div>"
      ],
      "text/plain": [
       "           수량         판매금액\n",
       "제품                        \n",
       "무김치   2142764  20036782345\n",
       "열무김치  2147999  20295676819\n",
       "총각김치  2411653  23300688286"
      ]
     },
     "execution_count": 10,
     "metadata": {},
     "output_type": "execute_result"
    }
   ],
   "source": [
    "kimchi.groupby(by = ['제품'])[['수량','판매금액']].sum()\n",
    "# 여러 컬럼 출력 시 이중리스트로 지정"
   ]
  },
  {
   "cell_type": "code",
   "execution_count": 12,
   "id": "be700943",
   "metadata": {},
   "outputs": [
    {
     "data": {
      "text/plain": [
       "제품    판매처 \n",
       "무김치   대형마트    1550027\n",
       "      백화점      510114\n",
       "      편의점       82623\n",
       "열무김치  대형마트    1491864\n",
       "      백화점      567129\n",
       "      편의점       89006\n",
       "총각김치  대형마트    1649486\n",
       "      백화점      658442\n",
       "      편의점      103725\n",
       "Name: 수량, dtype: int64"
      ]
     },
     "execution_count": 12,
     "metadata": {},
     "output_type": "execute_result"
    }
   ],
   "source": [
    "kimchi_2 = kimchi.groupby(by = ['제품', '판매처'])['수량'].sum()\n",
    "kimchi_2\n",
    "#멀티인덱스"
   ]
  },
  {
   "cell_type": "markdown",
   "id": "6aec168e",
   "metadata": {},
   "source": [
    "- 제품별, 판매처별 수량 총합, 평균"
   ]
  },
  {
   "cell_type": "code",
   "execution_count": 13,
   "id": "b11a82c6",
   "metadata": {},
   "outputs": [
    {
     "data": {
      "text/html": [
       "<div>\n",
       "<style scoped>\n",
       "    .dataframe tbody tr th:only-of-type {\n",
       "        vertical-align: middle;\n",
       "    }\n",
       "\n",
       "    .dataframe tbody tr th {\n",
       "        vertical-align: top;\n",
       "    }\n",
       "\n",
       "    .dataframe thead th {\n",
       "        text-align: right;\n",
       "    }\n",
       "</style>\n",
       "<table border=\"1\" class=\"dataframe\">\n",
       "  <thead>\n",
       "    <tr style=\"text-align: right;\">\n",
       "      <th></th>\n",
       "      <th></th>\n",
       "      <th>sum</th>\n",
       "      <th>mean</th>\n",
       "    </tr>\n",
       "    <tr>\n",
       "      <th>제품</th>\n",
       "      <th>판매처</th>\n",
       "      <th></th>\n",
       "      <th></th>\n",
       "    </tr>\n",
       "  </thead>\n",
       "  <tbody>\n",
       "    <tr>\n",
       "      <th rowspan=\"3\" valign=\"top\">무김치</th>\n",
       "      <th>대형마트</th>\n",
       "      <td>1550027</td>\n",
       "      <td>32292.229167</td>\n",
       "    </tr>\n",
       "    <tr>\n",
       "      <th>백화점</th>\n",
       "      <td>510114</td>\n",
       "      <td>10627.375000</td>\n",
       "    </tr>\n",
       "    <tr>\n",
       "      <th>편의점</th>\n",
       "      <td>82623</td>\n",
       "      <td>1721.312500</td>\n",
       "    </tr>\n",
       "    <tr>\n",
       "      <th rowspan=\"3\" valign=\"top\">열무김치</th>\n",
       "      <th>대형마트</th>\n",
       "      <td>1491864</td>\n",
       "      <td>31080.500000</td>\n",
       "    </tr>\n",
       "    <tr>\n",
       "      <th>백화점</th>\n",
       "      <td>567129</td>\n",
       "      <td>11815.187500</td>\n",
       "    </tr>\n",
       "    <tr>\n",
       "      <th>편의점</th>\n",
       "      <td>89006</td>\n",
       "      <td>1854.291667</td>\n",
       "    </tr>\n",
       "    <tr>\n",
       "      <th rowspan=\"3\" valign=\"top\">총각김치</th>\n",
       "      <th>대형마트</th>\n",
       "      <td>1649486</td>\n",
       "      <td>34364.291667</td>\n",
       "    </tr>\n",
       "    <tr>\n",
       "      <th>백화점</th>\n",
       "      <td>658442</td>\n",
       "      <td>13717.541667</td>\n",
       "    </tr>\n",
       "    <tr>\n",
       "      <th>편의점</th>\n",
       "      <td>103725</td>\n",
       "      <td>2160.937500</td>\n",
       "    </tr>\n",
       "  </tbody>\n",
       "</table>\n",
       "</div>"
      ],
      "text/plain": [
       "               sum          mean\n",
       "제품   판매처                        \n",
       "무김치  대형마트  1550027  32292.229167\n",
       "     백화점    510114  10627.375000\n",
       "     편의점     82623   1721.312500\n",
       "열무김치 대형마트  1491864  31080.500000\n",
       "     백화점    567129  11815.187500\n",
       "     편의점     89006   1854.291667\n",
       "총각김치 대형마트  1649486  34364.291667\n",
       "     백화점    658442  13717.541667\n",
       "     편의점    103725   2160.937500"
      ]
     },
     "execution_count": 13,
     "metadata": {},
     "output_type": "execute_result"
    }
   ],
   "source": [
    "kimchi.groupby(by = ['제품','판매처'])['수량'].agg(['sum','mean'])\n",
    "#agg: 여러 함수 동시에 전달"
   ]
  },
  {
   "cell_type": "markdown",
   "id": "edf0404b",
   "metadata": {},
   "source": [
    "- 제품별, 판매처별 수량 판매금액 총합, 평균"
   ]
  },
  {
   "cell_type": "code",
   "execution_count": 14,
   "id": "a6b29a84",
   "metadata": {},
   "outputs": [
    {
     "data": {
      "text/html": [
       "<div>\n",
       "<style scoped>\n",
       "    .dataframe tbody tr th:only-of-type {\n",
       "        vertical-align: middle;\n",
       "    }\n",
       "\n",
       "    .dataframe tbody tr th {\n",
       "        vertical-align: top;\n",
       "    }\n",
       "\n",
       "    .dataframe thead tr th {\n",
       "        text-align: left;\n",
       "    }\n",
       "\n",
       "    .dataframe thead tr:last-of-type th {\n",
       "        text-align: right;\n",
       "    }\n",
       "</style>\n",
       "<table border=\"1\" class=\"dataframe\">\n",
       "  <thead>\n",
       "    <tr>\n",
       "      <th></th>\n",
       "      <th></th>\n",
       "      <th colspan=\"2\" halign=\"left\">수량</th>\n",
       "      <th colspan=\"2\" halign=\"left\">판매금액</th>\n",
       "    </tr>\n",
       "    <tr>\n",
       "      <th></th>\n",
       "      <th></th>\n",
       "      <th>sum</th>\n",
       "      <th>mean</th>\n",
       "      <th>sum</th>\n",
       "      <th>mean</th>\n",
       "    </tr>\n",
       "    <tr>\n",
       "      <th>제품</th>\n",
       "      <th>판매처</th>\n",
       "      <th></th>\n",
       "      <th></th>\n",
       "      <th></th>\n",
       "      <th></th>\n",
       "    </tr>\n",
       "  </thead>\n",
       "  <tbody>\n",
       "    <tr>\n",
       "      <th rowspan=\"3\" valign=\"top\">무김치</th>\n",
       "      <th>대형마트</th>\n",
       "      <td>1550027</td>\n",
       "      <td>32292.229167</td>\n",
       "      <td>14243851204</td>\n",
       "      <td>2.967469e+08</td>\n",
       "    </tr>\n",
       "    <tr>\n",
       "      <th>백화점</th>\n",
       "      <td>510114</td>\n",
       "      <td>10627.375000</td>\n",
       "      <td>5675796839</td>\n",
       "      <td>1.182458e+08</td>\n",
       "    </tr>\n",
       "    <tr>\n",
       "      <th>편의점</th>\n",
       "      <td>82623</td>\n",
       "      <td>1721.312500</td>\n",
       "      <td>117134302</td>\n",
       "      <td>2.440298e+06</td>\n",
       "    </tr>\n",
       "    <tr>\n",
       "      <th rowspan=\"3\" valign=\"top\">열무김치</th>\n",
       "      <th>대형마트</th>\n",
       "      <td>1491864</td>\n",
       "      <td>31080.500000</td>\n",
       "      <td>14272706507</td>\n",
       "      <td>2.973481e+08</td>\n",
       "    </tr>\n",
       "    <tr>\n",
       "      <th>백화점</th>\n",
       "      <td>567129</td>\n",
       "      <td>11815.187500</td>\n",
       "      <td>5897836502</td>\n",
       "      <td>1.228716e+08</td>\n",
       "    </tr>\n",
       "    <tr>\n",
       "      <th>편의점</th>\n",
       "      <td>89006</td>\n",
       "      <td>1854.291667</td>\n",
       "      <td>125133810</td>\n",
       "      <td>2.606954e+06</td>\n",
       "    </tr>\n",
       "    <tr>\n",
       "      <th rowspan=\"3\" valign=\"top\">총각김치</th>\n",
       "      <th>대형마트</th>\n",
       "      <td>1649486</td>\n",
       "      <td>34364.291667</td>\n",
       "      <td>16512153282</td>\n",
       "      <td>3.440032e+08</td>\n",
       "    </tr>\n",
       "    <tr>\n",
       "      <th>백화점</th>\n",
       "      <td>658442</td>\n",
       "      <td>13717.541667</td>\n",
       "      <td>6639524485</td>\n",
       "      <td>1.383234e+08</td>\n",
       "    </tr>\n",
       "    <tr>\n",
       "      <th>편의점</th>\n",
       "      <td>103725</td>\n",
       "      <td>2160.937500</td>\n",
       "      <td>149010519</td>\n",
       "      <td>3.104386e+06</td>\n",
       "    </tr>\n",
       "  </tbody>\n",
       "</table>\n",
       "</div>"
      ],
      "text/plain": [
       "                수량                       판매금액              \n",
       "               sum          mean          sum          mean\n",
       "제품   판매처                                                   \n",
       "무김치  대형마트  1550027  32292.229167  14243851204  2.967469e+08\n",
       "     백화점    510114  10627.375000   5675796839  1.182458e+08\n",
       "     편의점     82623   1721.312500    117134302  2.440298e+06\n",
       "열무김치 대형마트  1491864  31080.500000  14272706507  2.973481e+08\n",
       "     백화점    567129  11815.187500   5897836502  1.228716e+08\n",
       "     편의점     89006   1854.291667    125133810  2.606954e+06\n",
       "총각김치 대형마트  1649486  34364.291667  16512153282  3.440032e+08\n",
       "     백화점    658442  13717.541667   6639524485  1.383234e+08\n",
       "     편의점    103725   2160.937500    149010519  3.104386e+06"
      ]
     },
     "execution_count": 14,
     "metadata": {},
     "output_type": "execute_result"
    }
   ],
   "source": [
    "kimchi.groupby(['제품','판매처'])[['수량','판매금액']].agg(['sum','mean'])"
   ]
  },
  {
   "cell_type": "markdown",
   "id": "ace95b59",
   "metadata": {},
   "source": [
    "- 제품별, 판매처별 수량은 총합만, 판매금액은 평균만 >> dict() 사용"
   ]
  },
  {
   "cell_type": "code",
   "execution_count": 15,
   "id": "74b5b004",
   "metadata": {},
   "outputs": [
    {
     "data": {
      "text/html": [
       "<div>\n",
       "<style scoped>\n",
       "    .dataframe tbody tr th:only-of-type {\n",
       "        vertical-align: middle;\n",
       "    }\n",
       "\n",
       "    .dataframe tbody tr th {\n",
       "        vertical-align: top;\n",
       "    }\n",
       "\n",
       "    .dataframe thead th {\n",
       "        text-align: right;\n",
       "    }\n",
       "</style>\n",
       "<table border=\"1\" class=\"dataframe\">\n",
       "  <thead>\n",
       "    <tr style=\"text-align: right;\">\n",
       "      <th></th>\n",
       "      <th></th>\n",
       "      <th>수량</th>\n",
       "      <th>판매금액</th>\n",
       "    </tr>\n",
       "    <tr>\n",
       "      <th>제품</th>\n",
       "      <th>판매처</th>\n",
       "      <th></th>\n",
       "      <th></th>\n",
       "    </tr>\n",
       "  </thead>\n",
       "  <tbody>\n",
       "    <tr>\n",
       "      <th rowspan=\"3\" valign=\"top\">무김치</th>\n",
       "      <th>대형마트</th>\n",
       "      <td>1550027</td>\n",
       "      <td>2.967469e+08</td>\n",
       "    </tr>\n",
       "    <tr>\n",
       "      <th>백화점</th>\n",
       "      <td>510114</td>\n",
       "      <td>1.182458e+08</td>\n",
       "    </tr>\n",
       "    <tr>\n",
       "      <th>편의점</th>\n",
       "      <td>82623</td>\n",
       "      <td>2.440298e+06</td>\n",
       "    </tr>\n",
       "    <tr>\n",
       "      <th rowspan=\"3\" valign=\"top\">열무김치</th>\n",
       "      <th>대형마트</th>\n",
       "      <td>1491864</td>\n",
       "      <td>2.973481e+08</td>\n",
       "    </tr>\n",
       "    <tr>\n",
       "      <th>백화점</th>\n",
       "      <td>567129</td>\n",
       "      <td>1.228716e+08</td>\n",
       "    </tr>\n",
       "    <tr>\n",
       "      <th>편의점</th>\n",
       "      <td>89006</td>\n",
       "      <td>2.606954e+06</td>\n",
       "    </tr>\n",
       "    <tr>\n",
       "      <th rowspan=\"3\" valign=\"top\">총각김치</th>\n",
       "      <th>대형마트</th>\n",
       "      <td>1649486</td>\n",
       "      <td>3.440032e+08</td>\n",
       "    </tr>\n",
       "    <tr>\n",
       "      <th>백화점</th>\n",
       "      <td>658442</td>\n",
       "      <td>1.383234e+08</td>\n",
       "    </tr>\n",
       "    <tr>\n",
       "      <th>편의점</th>\n",
       "      <td>103725</td>\n",
       "      <td>3.104386e+06</td>\n",
       "    </tr>\n",
       "  </tbody>\n",
       "</table>\n",
       "</div>"
      ],
      "text/plain": [
       "                수량          판매금액\n",
       "제품   판매처                        \n",
       "무김치  대형마트  1550027  2.967469e+08\n",
       "     백화점    510114  1.182458e+08\n",
       "     편의점     82623  2.440298e+06\n",
       "열무김치 대형마트  1491864  2.973481e+08\n",
       "     백화점    567129  1.228716e+08\n",
       "     편의점     89006  2.606954e+06\n",
       "총각김치 대형마트  1649486  3.440032e+08\n",
       "     백화점    658442  1.383234e+08\n",
       "     편의점    103725  3.104386e+06"
      ]
     },
     "execution_count": 15,
     "metadata": {},
     "output_type": "execute_result"
    }
   ],
   "source": [
    "kimchi.groupby(by = ['제품','판매처'])[['수량','판매금액']].agg({'수량':'sum','판매금액':'mean'})"
   ]
  },
  {
   "cell_type": "markdown",
   "id": "972044c9",
   "metadata": {},
   "source": [
    "- 멀티 레벨을 갖는 경우의 groupby 연산"
   ]
  },
  {
   "cell_type": "code",
   "execution_count": 16,
   "id": "d71e4fa1",
   "metadata": {},
   "outputs": [
    {
     "data": {
      "text/plain": [
       "pandas.core.series.Series"
      ]
     },
     "execution_count": 16,
     "metadata": {},
     "output_type": "execute_result"
    }
   ],
   "source": [
    "kimchi_2\n",
    "type(kimchi_2)"
   ]
  },
  {
   "cell_type": "code",
   "execution_count": 17,
   "id": "ea9ed9e4",
   "metadata": {},
   "outputs": [
    {
     "data": {
      "text/plain": [
       "제품\n",
       "무김치     2142764\n",
       "열무김치    2147999\n",
       "총각김치    2411653\n",
       "Name: 수량, dtype: int64"
      ]
     },
     "execution_count": 17,
     "metadata": {},
     "output_type": "execute_result"
    }
   ],
   "source": [
    "kimchi_2.groupby(level = 0).sum()  \n",
    "#제품끼리 뽑기-제품별 총합"
   ]
  },
  {
   "cell_type": "code",
   "execution_count": 18,
   "id": "9900e595",
   "metadata": {},
   "outputs": [
    {
     "data": {
      "text/plain": [
       "제품\n",
       "무김치     2142764\n",
       "열무김치    2147999\n",
       "총각김치    2411653\n",
       "Name: 수량, dtype: int64"
      ]
     },
     "execution_count": 18,
     "metadata": {},
     "output_type": "execute_result"
    }
   ],
   "source": [
    "kimchi_2.groupby(level = '제품').sum()"
   ]
  },
  {
   "cell_type": "code",
   "execution_count": 19,
   "id": "06a2263a",
   "metadata": {},
   "outputs": [
    {
     "data": {
      "text/plain": [
       "판매처\n",
       "대형마트    4691377\n",
       "백화점     1735685\n",
       "편의점      275354\n",
       "Name: 수량, dtype: int64"
      ]
     },
     "execution_count": 19,
     "metadata": {},
     "output_type": "execute_result"
    }
   ],
   "source": [
    "kimchi_2.groupby(level = 1).sum()  \n",
    "#판매처끼리 뽑기-판매처별 총합"
   ]
  }
 ],
 "metadata": {
  "kernelspec": {
   "display_name": "Python 3",
   "language": "python",
   "name": "python3"
  },
  "language_info": {
   "codemirror_mode": {
    "name": "ipython",
    "version": 3
   },
   "file_extension": ".py",
   "mimetype": "text/x-python",
   "name": "python",
   "nbconvert_exporter": "python",
   "pygments_lexer": "ipython3",
   "version": "3.8.8"
  }
 },
 "nbformat": 4,
 "nbformat_minor": 5
}
