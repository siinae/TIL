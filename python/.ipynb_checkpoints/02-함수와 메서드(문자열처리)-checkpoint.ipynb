{
 "cells": [
  {
   "cell_type": "markdown",
   "id": "21b19b03",
   "metadata": {},
   "source": [
    "## 함수(function)와 메서드(method)\n",
    "- 함수 : 함수(대상)\n",
    "- 메서드 : 대상.메서드\n",
    "- 메서드는 함수의 일부\n",
    "- 메서드는 객체(object)에서 호출 가능한 형태의 함수로 값을 객체가 가지고 있음\n",
    "- 인수의 전달 방식이 다름"
   ]
  },
  {
   "cell_type": "code",
   "execution_count": 2,
   "id": "0d8ce222",
   "metadata": {},
   "outputs": [
    {
     "data": {
      "text/plain": [
       "6"
      ]
     },
     "execution_count": 2,
     "metadata": {},
     "output_type": "execute_result"
    }
   ],
   "source": [
    "import numpy as np\n",
    "a1 = np.array([1,2,3])\n",
    "a1.sum() "
   ]
  },
  {
   "cell_type": "markdown",
   "id": "e1238e74",
   "metadata": {},
   "source": [
    "### 대소 치환"
   ]
  },
  {
   "cell_type": "code",
   "execution_count": 3,
   "id": "0b452c52",
   "metadata": {},
   "outputs": [],
   "source": [
    "v1 = 'abcde'#string(문자)"
   ]
  },
  {
   "cell_type": "code",
   "execution_count": 4,
   "id": "08ca8611",
   "metadata": {},
   "outputs": [
    {
     "data": {
      "text/plain": [
       "'ABCDE'"
      ]
     },
     "execution_count": 4,
     "metadata": {},
     "output_type": "execute_result"
    }
   ],
   "source": [
    "v1.upper() #대문자 치환"
   ]
  },
  {
   "cell_type": "code",
   "execution_count": 5,
   "id": "eb284507",
   "metadata": {},
   "outputs": [
    {
     "data": {
      "text/plain": [
       "'abcde'"
      ]
     },
     "execution_count": 5,
     "metadata": {},
     "output_type": "execute_result"
    }
   ],
   "source": [
    "'ABCDE'.lower() #소문자 치환"
   ]
  },
  {
   "cell_type": "code",
   "execution_count": 6,
   "id": "ed8f29f1",
   "metadata": {},
   "outputs": [
    {
     "data": {
      "text/plain": [
       "'Abc Def'"
      ]
     },
     "execution_count": 6,
     "metadata": {},
     "output_type": "execute_result"
    }
   ],
   "source": [
    "'abc def'.title() #camel 표기법 : 낙타 등, 단어의 첫 글자만 대문자로 표시"
   ]
  },
  {
   "cell_type": "markdown",
   "id": "b89e8ed5",
   "metadata": {},
   "source": [
    "### 색인(문자열 추출)"
   ]
  },
  {
   "cell_type": "code",
   "execution_count": 7,
   "id": "5d054b58",
   "metadata": {},
   "outputs": [
    {
     "data": {
      "text/plain": [
       "'c'"
      ]
     },
     "execution_count": 7,
     "metadata": {},
     "output_type": "execute_result"
    }
   ],
   "source": [
    "'abcd'[-2]"
   ]
  },
  {
   "cell_type": "code",
   "execution_count": 8,
   "id": "82da1c48",
   "metadata": {},
   "outputs": [
    {
     "data": {
      "text/plain": [
       "'031'"
      ]
     },
     "execution_count": 8,
     "metadata": {},
     "output_type": "execute_result"
    }
   ],
   "source": [
    "tel = '031)123-4567'\n",
    "tel[0:3]"
   ]
  },
  {
   "cell_type": "markdown",
   "id": "95e5e5b2",
   "metadata": {},
   "source": [
    "### 문자열의 시작, 끝 여부 확인"
   ]
  },
  {
   "cell_type": "markdown",
   "id": "d670f5cd",
   "metadata": {},
   "source": [
    "v1.startswith(시작값 확인문자,  확인할 시작 위치, 확인할 끝 위치)"
   ]
  },
  {
   "cell_type": "code",
   "execution_count": 11,
   "id": "b1d8e46a",
   "metadata": {},
   "outputs": [
    {
     "data": {
      "text/plain": [
       "'abcde'"
      ]
     },
     "execution_count": 11,
     "metadata": {},
     "output_type": "execute_result"
    }
   ],
   "source": [
    "v1"
   ]
  },
  {
   "cell_type": "code",
   "execution_count": 12,
   "id": "5b2c7773",
   "metadata": {},
   "outputs": [
    {
     "data": {
      "text/plain": [
       "True"
      ]
     },
     "execution_count": 12,
     "metadata": {},
     "output_type": "execute_result"
    }
   ],
   "source": [
    "v1.startswith('a') #a로 시작하나요?"
   ]
  },
  {
   "cell_type": "code",
   "execution_count": 14,
   "id": "9a4324ae",
   "metadata": {},
   "outputs": [
    {
     "data": {
      "text/plain": [
       "True"
      ]
     },
     "execution_count": 14,
     "metadata": {},
     "output_type": "execute_result"
    }
   ],
   "source": [
    "v1.startswith('b',1) #b가 두번째(1) 위치에 있나요?"
   ]
  },
  {
   "cell_type": "code",
   "execution_count": 15,
   "id": "6353c3ac",
   "metadata": {},
   "outputs": [
    {
     "data": {
      "text/plain": [
       "True"
      ]
     },
     "execution_count": 15,
     "metadata": {},
     "output_type": "execute_result"
    }
   ],
   "source": [
    "v1[1:].startswith('b') #v1의 두번째(1)값이 b로 시작하나요?"
   ]
  },
  {
   "cell_type": "markdown",
   "id": "2e56b4a1",
   "metadata": {},
   "source": [
    "v1.endswith(끝값 확인문자, 확인할 시작 위치, 확인할 끝 위치)"
   ]
  },
  {
   "cell_type": "code",
   "execution_count": 17,
   "id": "e8871812",
   "metadata": {},
   "outputs": [
    {
     "data": {
      "text/plain": [
       "True"
      ]
     },
     "execution_count": 17,
     "metadata": {},
     "output_type": "execute_result"
    }
   ],
   "source": [
    "v1.endswith('e')"
   ]
  },
  {
   "cell_type": "code",
   "execution_count": 18,
   "id": "7c5f5663",
   "metadata": {},
   "outputs": [
    {
     "data": {
      "text/plain": [
       "False"
      ]
     },
     "execution_count": 18,
     "metadata": {},
     "output_type": "execute_result"
    }
   ],
   "source": [
    "v1.endswith('E')"
   ]
  },
  {
   "cell_type": "markdown",
   "id": "90d826b4",
   "metadata": {},
   "source": [
    "### 공백 제거 , 문자 제거"
   ]
  },
  {
   "cell_type": "code",
   "execution_count": 19,
   "id": "54e003f5",
   "metadata": {},
   "outputs": [
    {
     "data": {
      "text/plain": [
       "True"
      ]
     },
     "execution_count": 19,
     "metadata": {},
     "output_type": "execute_result"
    }
   ],
   "source": [
    "'abc' == 'abc'"
   ]
  },
  {
   "cell_type": "code",
   "execution_count": 21,
   "id": "12ae7b0c",
   "metadata": {},
   "outputs": [
    {
     "data": {
      "text/plain": [
       "'abc'"
      ]
     },
     "execution_count": 21,
     "metadata": {},
     "output_type": "execute_result"
    }
   ],
   "source": [
    "' abc '.strip() #양쪽 공백 제거"
   ]
  },
  {
   "cell_type": "code",
   "execution_count": 23,
   "id": "bf28d7cf",
   "metadata": {},
   "outputs": [
    {
     "data": {
      "text/plain": [
       "'bc'"
      ]
     },
     "execution_count": 23,
     "metadata": {},
     "output_type": "execute_result"
    }
   ],
   "source": [
    "'abc'.strip('a') #문자 제거"
   ]
  },
  {
   "cell_type": "code",
   "execution_count": 24,
   "id": "79e4f94c",
   "metadata": {},
   "outputs": [
    {
     "data": {
      "text/plain": [
       "'bac'"
      ]
     },
     "execution_count": 24,
     "metadata": {},
     "output_type": "execute_result"
    }
   ],
   "source": [
    "'abaca'.strip('a') #양쪽 끝의 문자 a만 제거 "
   ]
  },
  {
   "cell_type": "code",
   "execution_count": 25,
   "id": "7d3d5287",
   "metadata": {},
   "outputs": [
    {
     "data": {
      "text/plain": [
       "'abc '"
      ]
     },
     "execution_count": 25,
     "metadata": {},
     "output_type": "execute_result"
    }
   ],
   "source": [
    "' abc '.lstrip() #왼쪽 공백 제거"
   ]
  },
  {
   "cell_type": "code",
   "execution_count": 26,
   "id": "d4f3cd3a",
   "metadata": {},
   "outputs": [
    {
     "data": {
      "text/plain": [
       "' abc'"
      ]
     },
     "execution_count": 26,
     "metadata": {},
     "output_type": "execute_result"
    }
   ],
   "source": [
    "' abc '.rstrip() #오른쪽 공백 제거"
   ]
  },
  {
   "cell_type": "markdown",
   "id": "0b38b734",
   "metadata": {},
   "source": [
    "### 치환"
   ]
  },
  {
   "cell_type": "markdown",
   "id": "0a20148d",
   "metadata": {},
   "source": [
    "'abcabc'.replace(찾을 문자열, 바꿀 문자열)"
   ]
  },
  {
   "cell_type": "code",
   "execution_count": 27,
   "id": "06797b5d",
   "metadata": {},
   "outputs": [
    {
     "data": {
      "text/plain": [
       "'AbcAbc'"
      ]
     },
     "execution_count": 27,
     "metadata": {},
     "output_type": "execute_result"
    }
   ],
   "source": [
    "'abcabc'.replace('a','A')"
   ]
  },
  {
   "cell_type": "code",
   "execution_count": 28,
   "id": "298572d2",
   "metadata": {},
   "outputs": [
    {
     "data": {
      "text/plain": [
       "'ABcABc'"
      ]
     },
     "execution_count": 28,
     "metadata": {},
     "output_type": "execute_result"
    }
   ],
   "source": [
    "'abcabc'.replace('ab','AB')"
   ]
  },
  {
   "cell_type": "code",
   "execution_count": 29,
   "id": "25e75d51",
   "metadata": {},
   "outputs": [
    {
     "data": {
      "text/plain": [
       "'cc'"
      ]
     },
     "execution_count": 29,
     "metadata": {},
     "output_type": "execute_result"
    }
   ],
   "source": [
    "'abcabc'.replace('ab','')"
   ]
  },
  {
   "cell_type": "markdown",
   "id": "684f204d",
   "metadata": {},
   "source": [
    "### 문자열 분리"
   ]
  },
  {
   "cell_type": "markdown",
   "id": "b2ab1127",
   "metadata": {},
   "source": [
    "v1.split(구분자)"
   ]
  },
  {
   "cell_type": "code",
   "execution_count": 31,
   "id": "655af1b1",
   "metadata": {},
   "outputs": [
    {
     "data": {
      "text/plain": [
       "['a', 'b', 'c', 'd']"
      ]
     },
     "execution_count": 31,
     "metadata": {},
     "output_type": "execute_result"
    }
   ],
   "source": [
    "'a/b/c/d'.split('/')"
   ]
  },
  {
   "cell_type": "code",
   "execution_count": 34,
   "id": "00c3668d",
   "metadata": {},
   "outputs": [
    {
     "data": {
      "text/plain": [
       "['a', 'b', 'c']"
      ]
     },
     "execution_count": 34,
     "metadata": {},
     "output_type": "execute_result"
    }
   ],
   "source": [
    "'a/b/c/d'.split('/')[0:3]"
   ]
  },
  {
   "cell_type": "markdown",
   "id": "b68bae7c",
   "metadata": {},
   "source": [
    "### 위치값 리턴"
   ]
  },
  {
   "cell_type": "markdown",
   "id": "50793c42",
   "metadata": {},
   "source": [
    "'abcd'.find(찾을 대상, 리턴 할 시작위치, 리턴 할 끝위치)"
   ]
  },
  {
   "cell_type": "code",
   "execution_count": 35,
   "id": "aa24e22f",
   "metadata": {},
   "outputs": [
    {
     "data": {
      "text/plain": [
       "1"
      ]
     },
     "execution_count": 35,
     "metadata": {},
     "output_type": "execute_result"
    }
   ],
   "source": [
    "v1.find('b')"
   ]
  },
  {
   "cell_type": "markdown",
   "id": "7587af0c",
   "metadata": {},
   "source": [
    "전화번호에서 지역 번호 추출하기 "
   ]
  },
  {
   "cell_type": "code",
   "execution_count": 36,
   "id": "bd985aec",
   "metadata": {},
   "outputs": [
    {
     "data": {
      "text/plain": [
       "'031)123-4567'"
      ]
     },
     "execution_count": 36,
     "metadata": {},
     "output_type": "execute_result"
    }
   ],
   "source": [
    "tel"
   ]
  },
  {
   "cell_type": "code",
   "execution_count": 38,
   "id": "08d9b523",
   "metadata": {},
   "outputs": [
    {
     "data": {
      "text/plain": [
       "3"
      ]
     },
     "execution_count": 38,
     "metadata": {},
     "output_type": "execute_result"
    }
   ],
   "source": [
    "num = tel.find(')')\n",
    "num"
   ]
  },
  {
   "cell_type": "code",
   "execution_count": 39,
   "id": "0d31a75b",
   "metadata": {},
   "outputs": [
    {
     "data": {
      "text/plain": [
       "'031'"
      ]
     },
     "execution_count": 39,
     "metadata": {},
     "output_type": "execute_result"
    }
   ],
   "source": [
    "tel[0:num]"
   ]
  },
  {
   "cell_type": "code",
   "execution_count": 40,
   "id": "b6ba868c",
   "metadata": {},
   "outputs": [
    {
     "data": {
      "text/plain": [
       "'031'"
      ]
     },
     "execution_count": 40,
     "metadata": {},
     "output_type": "execute_result"
    }
   ],
   "source": [
    "tel[:num]"
   ]
  },
  {
   "cell_type": "markdown",
   "id": "a6473a1a",
   "metadata": {},
   "source": [
    "### 포함 횟수 확인하기"
   ]
  },
  {
   "cell_type": "code",
   "execution_count": 41,
   "id": "7d262065",
   "metadata": {},
   "outputs": [
    {
     "data": {
      "text/plain": [
       "17"
      ]
     },
     "execution_count": 41,
     "metadata": {},
     "output_type": "execute_result"
    }
   ],
   "source": [
    "'aaaaaababbbbaaaaaaaaaa'.count('a')"
   ]
  },
  {
   "cell_type": "markdown",
   "id": "21176750",
   "metadata": {},
   "source": [
    "### 형(type) 확인"
   ]
  },
  {
   "cell_type": "code",
   "execution_count": 42,
   "id": "7da925ce",
   "metadata": {},
   "outputs": [
    {
     "data": {
      "text/plain": [
       "str"
      ]
     },
     "execution_count": 42,
     "metadata": {},
     "output_type": "execute_result"
    }
   ],
   "source": [
    "type(v1) #데이터타입 확인"
   ]
  },
  {
   "cell_type": "code",
   "execution_count": 43,
   "id": "ed73f430",
   "metadata": {},
   "outputs": [
    {
     "data": {
      "text/plain": [
       "True"
      ]
     },
     "execution_count": 43,
     "metadata": {},
     "output_type": "execute_result"
    }
   ],
   "source": [
    "v1.isalpha() #문자 확인"
   ]
  },
  {
   "cell_type": "code",
   "execution_count": 45,
   "id": "e076b6b0",
   "metadata": {},
   "outputs": [
    {
     "data": {
      "text/plain": [
       "False"
      ]
     },
     "execution_count": 45,
     "metadata": {},
     "output_type": "execute_result"
    }
   ],
   "source": [
    "v1.isnumeric() #숫자 확인"
   ]
  },
  {
   "cell_type": "markdown",
   "id": "2e2348da",
   "metadata": {},
   "source": [
    "### 대소문자 확인"
   ]
  },
  {
   "cell_type": "code",
   "execution_count": 46,
   "id": "d82f1683",
   "metadata": {},
   "outputs": [
    {
     "data": {
      "text/plain": [
       "False"
      ]
     },
     "execution_count": 46,
     "metadata": {},
     "output_type": "execute_result"
    }
   ],
   "source": [
    "v1.isupper()"
   ]
  },
  {
   "cell_type": "code",
   "execution_count": 47,
   "id": "add1f69b",
   "metadata": {},
   "outputs": [
    {
     "data": {
      "text/plain": [
       "True"
      ]
     },
     "execution_count": 47,
     "metadata": {},
     "output_type": "execute_result"
    }
   ],
   "source": [
    "v1.islower()"
   ]
  },
  {
   "cell_type": "markdown",
   "id": "3d1c8a65",
   "metadata": {},
   "source": [
    "### 문자열 길이"
   ]
  },
  {
   "cell_type": "code",
   "execution_count": 48,
   "id": "9550761a",
   "metadata": {
    "scrolled": true
   },
   "outputs": [
    {
     "data": {
      "text/plain": [
       "5"
      ]
     },
     "execution_count": 48,
     "metadata": {},
     "output_type": "execute_result"
    }
   ],
   "source": [
    "len(v1)"
   ]
  },
  {
   "cell_type": "markdown",
   "id": "c7841d94",
   "metadata": {},
   "source": [
    "### 연습문제"
   ]
  },
  {
   "cell_type": "code",
   "execution_count": 55,
   "id": "6413c88a",
   "metadata": {},
   "outputs": [],
   "source": [
    "name = 'sinae'\n",
    "email = 'sinae@python.com'\n",
    "jumin = '123456-1011987'"
   ]
  },
  {
   "cell_type": "markdown",
   "id": "211ef4fb",
   "metadata": {},
   "source": [
    "1. 이름의 두번째 글자가 m인지 여부 확인"
   ]
  },
  {
   "cell_type": "code",
   "execution_count": 53,
   "id": "2024b6e9",
   "metadata": {},
   "outputs": [
    {
     "data": {
      "text/plain": [
       "False"
      ]
     },
     "execution_count": 53,
     "metadata": {},
     "output_type": "execute_result"
    }
   ],
   "source": [
    "name[1] == 'm'"
   ]
  },
  {
   "cell_type": "markdown",
   "id": "8df2eb6d",
   "metadata": {},
   "source": [
    "2. email에서 이메일 아이디만 추출"
   ]
  },
  {
   "cell_type": "code",
   "execution_count": 54,
   "id": "e3576231",
   "metadata": {},
   "outputs": [
    {
     "data": {
      "text/plain": [
       "'sinae'"
      ]
     },
     "execution_count": 54,
     "metadata": {},
     "output_type": "execute_result"
    }
   ],
   "source": [
    "id = email.find('@')\n",
    "email[:id]"
   ]
  },
  {
   "cell_type": "markdown",
   "id": "ed407dd8",
   "metadata": {},
   "source": [
    "3. 주민번호를 보고 성별 확인 (남자는 1, 여자는 2)"
   ]
  },
  {
   "cell_type": "code",
   "execution_count": 62,
   "id": "88cd7543",
   "metadata": {},
   "outputs": [
    {
     "data": {
      "text/plain": [
       "True"
      ]
     },
     "execution_count": 62,
     "metadata": {},
     "output_type": "execute_result"
    }
   ],
   "source": [
    "jumin.split('-')[1][0] == '1' #남자"
   ]
  }
 ],
 "metadata": {
  "kernelspec": {
   "display_name": "Python 3",
   "language": "python",
   "name": "python3"
  },
  "language_info": {
   "codemirror_mode": {
    "name": "ipython",
    "version": 3
   },
   "file_extension": ".py",
   "mimetype": "text/x-python",
   "name": "python",
   "nbconvert_exporter": "python",
   "pygments_lexer": "ipython3",
   "version": "3.8.8"
  }
 },
 "nbformat": 4,
 "nbformat_minor": 5
}
