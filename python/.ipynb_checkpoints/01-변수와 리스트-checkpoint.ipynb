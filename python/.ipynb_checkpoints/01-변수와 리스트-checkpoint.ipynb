{
 "cells": [
  {
   "cell_type": "markdown",
   "id": "efa6fb57",
   "metadata": {},
   "source": [
    "변수: 값을 저장하기 위한 객체(object)\n",
    "- 대소 구분\n",
    "- 숫자로 시작 불가 (포함은 가능)\n",
    "- 특수기호 삽입 불가 (_는 사용 가능)\n",
    "- 예약어(함수명, 함수 내 인자명, 패키지 이름, if/for/while)"
   ]
  },
  {
   "cell_type": "markdown",
   "id": "2eda2f20",
   "metadata": {},
   "source": [
    "모듈과 패키지\n",
    "- import 모듈\n",
    "- 모듈 호출: 하위 함수(모듈명.함수명)\n",
    "- 모듈 내 함수 직접 호출: 함수명만 사용 가능"
   ]
  },
  {
   "cell_type": "code",
   "execution_count": 1,
   "id": "141718dd",
   "metadata": {},
   "outputs": [],
   "source": [
    "#모듈 호출\n",
    "import math\n",
    "import math as ma #alias: 별칭"
   ]
  },
  {
   "cell_type": "code",
   "execution_count": 2,
   "id": "f3b4026f",
   "metadata": {},
   "outputs": [
    {
     "data": {
      "text/plain": [
       "1"
      ]
     },
     "execution_count": 2,
     "metadata": {},
     "output_type": "execute_result"
    }
   ],
   "source": [
    "ma.trunc(1.5)"
   ]
  },
  {
   "cell_type": "code",
   "execution_count": 3,
   "id": "5cd88e45",
   "metadata": {},
   "outputs": [
    {
     "ename": "NameError",
     "evalue": "name 'trunc' is not defined",
     "output_type": "error",
     "traceback": [
      "\u001b[1;31m---------------------------------------------------------------------------\u001b[0m",
      "\u001b[1;31mNameError\u001b[0m                                 Traceback (most recent call last)",
      "\u001b[1;32m<ipython-input-3-74b1ca4abc07>\u001b[0m in \u001b[0;36m<module>\u001b[1;34m\u001b[0m\n\u001b[1;32m----> 1\u001b[1;33m \u001b[0mtrunc\u001b[0m\u001b[1;33m(\u001b[0m\u001b[1;36m1.5\u001b[0m\u001b[1;33m)\u001b[0m\u001b[1;33m\u001b[0m\u001b[1;33m\u001b[0m\u001b[0m\n\u001b[0m",
      "\u001b[1;31mNameError\u001b[0m: name 'trunc' is not defined"
     ]
    }
   ],
   "source": [
    "trunc(1.5) #불가능"
   ]
  },
  {
   "cell_type": "code",
   "execution_count": 4,
   "id": "fb20aeee",
   "metadata": {},
   "outputs": [],
   "source": [
    "#모듈 내 함수 직접 호출\n",
    "from math import trunc"
   ]
  },
  {
   "cell_type": "code",
   "execution_count": 5,
   "id": "af6b1d4f",
   "metadata": {},
   "outputs": [
    {
     "data": {
      "text/plain": [
       "1"
      ]
     },
     "execution_count": 5,
     "metadata": {},
     "output_type": "execute_result"
    }
   ],
   "source": [
    "trunc(1.5) #가능"
   ]
  },
  {
   "cell_type": "markdown",
   "id": "123ffc55",
   "metadata": {},
   "source": [
    "산술연산\n",
    "- // : 몫\n",
    "- % : 나머지\n",
    "- ** ; 거듭제곱\n",
    "- math.pow(3,2) : 3의 제곱, pow:실수형으로 출력하는 함수"
   ]
  },
  {
   "cell_type": "code",
   "execution_count": 6,
   "id": "77f01b81",
   "metadata": {},
   "outputs": [
    {
     "data": {
      "text/plain": [
       "9.0"
      ]
     },
     "execution_count": 6,
     "metadata": {},
     "output_type": "execute_result"
    }
   ],
   "source": [
    "math.pow(3,2)"
   ]
  },
  {
   "cell_type": "markdown",
   "id": "0e494e4a",
   "metadata": {},
   "source": [
    "## 파이썬 기본구조 "
   ]
  },
  {
   "cell_type": "markdown",
   "id": "703487e6",
   "metadata": {},
   "source": [
    "리스트(list)\n",
    "- 기본 자료구조\n",
    "- 여러 상수를 동시에 전달 가능\n",
    "- 1차원\n",
    "- 서로 다른 데이터 타입 가능"
   ]
  },
  {
   "cell_type": "markdown",
   "id": "d4dd0f05",
   "metadata": {},
   "source": [
    "1) 리스트 생성"
   ]
  },
  {
   "cell_type": "code",
   "execution_count": 9,
   "id": "30700869",
   "metadata": {},
   "outputs": [
    {
     "data": {
      "text/plain": [
       "[1, 2, 3, 4]"
      ]
     },
     "execution_count": 9,
     "metadata": {},
     "output_type": "execute_result"
    }
   ],
   "source": [
    "l1 = [1,2,3,4]\n",
    "l1"
   ]
  },
  {
   "cell_type": "code",
   "execution_count": 10,
   "id": "4ddd92a1",
   "metadata": {},
   "outputs": [
    {
     "data": {
      "text/plain": [
       "list"
      ]
     },
     "execution_count": 10,
     "metadata": {},
     "output_type": "execute_result"
    }
   ],
   "source": [
    "type(l1)"
   ]
  },
  {
   "cell_type": "code",
   "execution_count": 11,
   "id": "cb49139c",
   "metadata": {},
   "outputs": [
    {
     "data": {
      "text/plain": [
       "list"
      ]
     },
     "execution_count": 11,
     "metadata": {},
     "output_type": "execute_result"
    }
   ],
   "source": [
    "l2 = [1,2,3,'4']\n",
    "type(l2)"
   ]
  },
  {
   "cell_type": "markdown",
   "id": "92be5398",
   "metadata": {},
   "source": [
    "cf. 튜플(tuple)\n",
    "- 변경이 불가능한 값\n",
    "- 괄호가 없어도 고정된 값이므로 튜플로 자동 인식"
   ]
  },
  {
   "cell_type": "code",
   "execution_count": 12,
   "id": "c976ff9e",
   "metadata": {},
   "outputs": [
    {
     "data": {
      "text/plain": [
       "tuple"
      ]
     },
     "execution_count": 12,
     "metadata": {},
     "output_type": "execute_result"
    }
   ],
   "source": [
    "t1 = (1,2,3,4) \n",
    "type(t1)"
   ]
  },
  {
   "cell_type": "code",
   "execution_count": 13,
   "id": "72c057ed",
   "metadata": {},
   "outputs": [
    {
     "data": {
      "text/plain": [
       "tuple"
      ]
     },
     "execution_count": 13,
     "metadata": {},
     "output_type": "execute_result"
    }
   ],
   "source": [
    "t2 = 1,2,3,4\n",
    "type(t2)"
   ]
  },
  {
   "cell_type": "markdown",
   "id": "edeb4071",
   "metadata": {},
   "source": [
    "2) 리스트 색인 (indexing)"
   ]
  },
  {
   "cell_type": "code",
   "execution_count": 14,
   "id": "24b939bf",
   "metadata": {},
   "outputs": [
    {
     "data": {
      "text/plain": [
       "1"
      ]
     },
     "execution_count": 14,
     "metadata": {},
     "output_type": "execute_result"
    }
   ],
   "source": [
    "l1[0]"
   ]
  },
  {
   "cell_type": "code",
   "execution_count": 16,
   "id": "0e9c4c08",
   "metadata": {},
   "outputs": [
    {
     "data": {
      "text/plain": [
       "4"
      ]
     },
     "execution_count": 16,
     "metadata": {},
     "output_type": "execute_result"
    }
   ],
   "source": [
    "l1[-1] #reverse indexing"
   ]
  },
  {
   "cell_type": "code",
   "execution_count": 18,
   "id": "d0562578",
   "metadata": {},
   "outputs": [
    {
     "data": {
      "text/plain": [
       "[1]"
      ]
     },
     "execution_count": 18,
     "metadata": {},
     "output_type": "execute_result"
    }
   ],
   "source": [
    "l1[0:1]"
   ]
  },
  {
   "cell_type": "code",
   "execution_count": 19,
   "id": "a3b53106",
   "metadata": {},
   "outputs": [
    {
     "ename": "TypeError",
     "evalue": "list indices must be integers or slices, not tuple",
     "output_type": "error",
     "traceback": [
      "\u001b[1;31m---------------------------------------------------------------------------\u001b[0m",
      "\u001b[1;31mTypeError\u001b[0m                                 Traceback (most recent call last)",
      "\u001b[1;32m<ipython-input-19-e73adc1227a0>\u001b[0m in \u001b[0;36m<module>\u001b[1;34m\u001b[0m\n\u001b[1;32m----> 1\u001b[1;33m \u001b[0ml2\u001b[0m\u001b[1;33m[\u001b[0m\u001b[1;36m0\u001b[0m\u001b[1;33m,\u001b[0m\u001b[1;36m2\u001b[0m\u001b[1;33m]\u001b[0m\u001b[1;33m\u001b[0m\u001b[1;33m\u001b[0m\u001b[0m\n\u001b[0m",
      "\u001b[1;31mTypeError\u001b[0m: list indices must be integers or slices, not tuple"
     ]
    }
   ],
   "source": [
    "l2[0,2] #여러 숫자의 전달 불가능"
   ]
  },
  {
   "cell_type": "markdown",
   "id": "6ebd419c",
   "metadata": {},
   "source": [
    "3) 리스트 수정"
   ]
  },
  {
   "cell_type": "code",
   "execution_count": 20,
   "id": "adf281a5",
   "metadata": {},
   "outputs": [
    {
     "data": {
      "text/plain": [
       "[10, 2, 3, 4]"
      ]
     },
     "execution_count": 20,
     "metadata": {},
     "output_type": "execute_result"
    }
   ],
   "source": [
    "l1[0] = 10\n",
    "l1"
   ]
  },
  {
   "cell_type": "markdown",
   "id": "323523bc",
   "metadata": {},
   "source": [
    "4) 리스트 연산"
   ]
  },
  {
   "cell_type": "code",
   "execution_count": 21,
   "id": "76dd6af1",
   "metadata": {},
   "outputs": [
    {
     "ename": "TypeError",
     "evalue": "can only concatenate list (not \"int\") to list",
     "output_type": "error",
     "traceback": [
      "\u001b[1;31m---------------------------------------------------------------------------\u001b[0m",
      "\u001b[1;31mTypeError\u001b[0m                                 Traceback (most recent call last)",
      "\u001b[1;32m<ipython-input-21-33d9fd48f7c7>\u001b[0m in \u001b[0;36m<module>\u001b[1;34m\u001b[0m\n\u001b[1;32m----> 1\u001b[1;33m \u001b[0ml1\u001b[0m \u001b[1;33m+\u001b[0m \u001b[1;36m1\u001b[0m\u001b[1;33m\u001b[0m\u001b[1;33m\u001b[0m\u001b[0m\n\u001b[0m",
      "\u001b[1;31mTypeError\u001b[0m: can only concatenate list (not \"int\") to list"
     ]
    }
   ],
   "source": [
    "l1 + 1  #리스트와 정수 연산 불가능"
   ]
  },
  {
   "cell_type": "code",
   "execution_count": 22,
   "id": "e4536524",
   "metadata": {},
   "outputs": [
    {
     "ename": "TypeError",
     "evalue": "'>' not supported between instances of 'list' and 'int'",
     "output_type": "error",
     "traceback": [
      "\u001b[1;31m---------------------------------------------------------------------------\u001b[0m",
      "\u001b[1;31mTypeError\u001b[0m                                 Traceback (most recent call last)",
      "\u001b[1;32m<ipython-input-22-221c13f809b7>\u001b[0m in \u001b[0;36m<module>\u001b[1;34m\u001b[0m\n\u001b[1;32m----> 1\u001b[1;33m \u001b[0ml1\u001b[0m \u001b[1;33m>\u001b[0m \u001b[1;36m1\u001b[0m\u001b[1;33m\u001b[0m\u001b[1;33m\u001b[0m\u001b[0m\n\u001b[0m",
      "\u001b[1;31mTypeError\u001b[0m: '>' not supported between instances of 'list' and 'int'"
     ]
    }
   ],
   "source": [
    "l1 > 1 #리스트 조건 전달 불가능"
   ]
  },
  {
   "cell_type": "code",
   "execution_count": 23,
   "id": "d6721a3d",
   "metadata": {},
   "outputs": [
    {
     "data": {
      "text/plain": [
       "[1, 2, 3, 10, 20, 30]"
      ]
     },
     "execution_count": 23,
     "metadata": {},
     "output_type": "execute_result"
    }
   ],
   "source": [
    "[1,2,3] + [10,20,30]  #확장 가능"
   ]
  },
  {
   "cell_type": "code",
   "execution_count": 25,
   "id": "9b9a0061",
   "metadata": {},
   "outputs": [
    {
     "data": {
      "text/plain": [
       "[10, 2, 3, 4, 5]"
      ]
     },
     "execution_count": 25,
     "metadata": {},
     "output_type": "execute_result"
    }
   ],
   "source": [
    "l1 + [5] #원소(element)의 추가 가능"
   ]
  },
  {
   "cell_type": "code",
   "execution_count": 27,
   "id": "c88ace75",
   "metadata": {},
   "outputs": [
    {
     "data": {
      "text/plain": [
       "[10, 2, 3, 4, 6, 6]"
      ]
     },
     "execution_count": 27,
     "metadata": {},
     "output_type": "execute_result"
    }
   ],
   "source": [
    "l1.append(6) \n",
    "l1"
   ]
  },
  {
   "cell_type": "code",
   "execution_count": 28,
   "id": "e5cdb11d",
   "metadata": {},
   "outputs": [
    {
     "data": {
      "text/plain": [
       "'ab'"
      ]
     },
     "execution_count": 28,
     "metadata": {},
     "output_type": "execute_result"
    }
   ],
   "source": [
    "'a' + 'b' #문자열 더하기"
   ]
  },
  {
   "cell_type": "code",
   "execution_count": 30,
   "id": "c48f3f2d",
   "metadata": {},
   "outputs": [
    {
     "data": {
      "text/plain": [
       "'aaa'"
      ]
     },
     "execution_count": 30,
     "metadata": {},
     "output_type": "execute_result"
    }
   ],
   "source": [
    "'a' * 3 #문자열 곱하기"
   ]
  },
  {
   "cell_type": "code",
   "execution_count": 31,
   "id": "ce0a36c8",
   "metadata": {},
   "outputs": [
    {
     "ename": "TypeError",
     "evalue": "'tuple' object does not support item assignment",
     "output_type": "error",
     "traceback": [
      "\u001b[1;31m---------------------------------------------------------------------------\u001b[0m",
      "\u001b[1;31mTypeError\u001b[0m                                 Traceback (most recent call last)",
      "\u001b[1;32m<ipython-input-31-49727f6c8925>\u001b[0m in \u001b[0;36m<module>\u001b[1;34m\u001b[0m\n\u001b[1;32m----> 1\u001b[1;33m \u001b[0mt1\u001b[0m\u001b[1;33m[\u001b[0m\u001b[1;36m0\u001b[0m\u001b[1;33m]\u001b[0m \u001b[1;33m=\u001b[0m \u001b[1;36m10\u001b[0m\u001b[1;33m\u001b[0m\u001b[1;33m\u001b[0m\u001b[0m\n\u001b[0m",
      "\u001b[1;31mTypeError\u001b[0m: 'tuple' object does not support item assignment"
     ]
    }
   ],
   "source": [
    "t1[0] = 10 #튜플 수정 불가능"
   ]
  },
  {
   "cell_type": "markdown",
   "id": "a9d424bf",
   "metadata": {},
   "source": [
    "5) 리스트 삭제"
   ]
  },
  {
   "cell_type": "code",
   "execution_count": 34,
   "id": "9b719d2e",
   "metadata": {},
   "outputs": [
    {
     "data": {
      "text/plain": [
       "[4, 6, 6]"
      ]
     },
     "execution_count": 34,
     "metadata": {},
     "output_type": "execute_result"
    }
   ],
   "source": [
    "del(l1[0])  #첫번째 원소 삭제\n",
    "l1"
   ]
  },
  {
   "cell_type": "code",
   "execution_count": 35,
   "id": "966577aa",
   "metadata": {},
   "outputs": [
    {
     "ename": "NameError",
     "evalue": "name 'l1' is not defined",
     "output_type": "error",
     "traceback": [
      "\u001b[1;31m---------------------------------------------------------------------------\u001b[0m",
      "\u001b[1;31mNameError\u001b[0m                                 Traceback (most recent call last)",
      "\u001b[1;32m<ipython-input-35-b5286cb729db>\u001b[0m in \u001b[0;36m<module>\u001b[1;34m\u001b[0m\n\u001b[0;32m      1\u001b[0m \u001b[1;32mdel\u001b[0m\u001b[1;33m(\u001b[0m\u001b[0ml1\u001b[0m\u001b[1;33m)\u001b[0m \u001b[1;31m#객체 삭제\u001b[0m\u001b[1;33m\u001b[0m\u001b[1;33m\u001b[0m\u001b[0m\n\u001b[1;32m----> 2\u001b[1;33m \u001b[0ml1\u001b[0m\u001b[1;33m\u001b[0m\u001b[1;33m\u001b[0m\u001b[0m\n\u001b[0m",
      "\u001b[1;31mNameError\u001b[0m: name 'l1' is not defined"
     ]
    }
   ],
   "source": [
    "del(l1) #객체 삭제\n",
    "l1"
   ]
  },
  {
   "cell_type": "code",
   "execution_count": 36,
   "id": "489c5843",
   "metadata": {},
   "outputs": [
    {
     "data": {
      "text/plain": [
       "[]"
      ]
     },
     "execution_count": 36,
     "metadata": {},
     "output_type": "execute_result"
    }
   ],
   "source": [
    "l2 = []  #리스트 내 모든 원소 삭제\n",
    "l2"
   ]
  },
  {
   "cell_type": "code",
   "execution_count": null,
   "id": "b5ea8cad",
   "metadata": {},
   "outputs": [],
   "source": []
  }
 ],
 "metadata": {
  "kernelspec": {
   "display_name": "Python 3",
   "language": "python",
   "name": "python3"
  },
  "language_info": {
   "codemirror_mode": {
    "name": "ipython",
    "version": 3
   },
   "file_extension": ".py",
   "mimetype": "text/x-python",
   "name": "python",
   "nbconvert_exporter": "python",
   "pygments_lexer": "ipython3",
   "version": "3.8.8"
  }
 },
 "nbformat": 4,
 "nbformat_minor": 5
}
